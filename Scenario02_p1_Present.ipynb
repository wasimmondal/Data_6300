{
  "cells": [
    {
      "cell_type": "markdown",
      "metadata": {
        "id": "ysE1yTR4D1UJ"
      },
      "source": [
        "<h1 style=\"color:blue;\">Scenario 2 - Part 1</h1>\n",
        "NOTE: here is guide to use markdown - https://www.markdownguide.org/basic-syntax/\n",
        "\n",
        "\n",
        "Outline of notebook:\n",
        "- **C1.S2.Py01 - Install Anaconda**\n",
        "    - https://www.anaconda.com/distribution/\n",
        "- **C1.S2.Py02 - Intro to Anaconda**\n",
        "- **C1.S2.Py03 - Intro to Jupyter Notebooks**\n",
        "- **C1.S2.Py04 - Importing and Understanding Library Options**\n",
        "    - numpy, pandas, pandas_profiling, scitkit learn, matplotlib, seaborn\n",
        "- **C1.S2.Py05a - Import data as a DataFrame**\n",
        "    - Read in a csv as a pandas dataframe\n",
        "    - Read in an Excel as a apandas dataframe\n",
        "- **C1.S2.Py05b - Understanding the Importing Data Options**\n",
        "- **C1.S2.Py06 - How to Read Data**\n",
        "    - .head(), .sample(), and .tail()\n",
        "- **C1.S2.Py07 - How to Rename and Drop columns**\n",
        "    - Rename columns, drop columns"
      ]
    },
    {
      "cell_type": "markdown",
      "metadata": {
        "id": "qoQ1k-YKD1UK"
      },
      "source": [
        "<h2 style=\"color:blue;\">C1.S2.Py04 - Importing libraries and understanding Library Options</h2>\n",
        "\n",
        "- Prior to executing any code in a Jupyter notebook, you need to import the libraries that you will use.\n",
        "\n",
        "**Three different thoughts on importing libraries**\n",
        "1. **ALL AT ONCE** Import all of the libraries that you will need first, that way you will only need to import once for the whole notebook.\n",
        "2. **IMPORT AS NEEDED** - by importing when you need it, you do add unnecessary libraries to the that take up space.\n",
        "3. **HYBRID IMPORTING** - Import the libraries that you know you will use, such as numpy and pandas, and then import other libraries when needed, such as sklearn.\n",
        "\n",
        "**Components of an import - When you import there are four aspects to consider:**\n",
        "\n",
        "1. **import** is used to import the entire library *(ex. import pandas)*.\n",
        "\n",
        "2. **as** is used to give it a nickname or an easier name to use in your code *(ex. import pandas as pd)*. In the code you only need to type pd for it to recognize pandas.  \n",
        "\n",
        "3. **from** is used to import a part of the library but not all of it.  This is important to do when the library is large, like sklearn (*ex. from sklearn.preprocessing import LabelEncoder*).  By stating from, the code will go to sklearn and only import the LabelEncoder function. **NOTE: Always  do this for sklearn**\n",
        "\n",
        "4. **set_option** or **style** - allows you to set settings/styles or turn off/on settings to your liking.  (*ex. pd.set_option('display.max_columns',500)* allows you to see a maximum of 500 columns at a time.  If not set, it will cut off your columns at a low number.  \n",
        "    - Here is a guide for options for pandas - https://pandas.pydata.org/pandas-docs/stable/user_guide/options.html\n",
        "    - Here is a guide to the different libraries that you may need for data science - https://dzone.com/articles/the-best-python-libraries-for-data-science-and-mac"
      ]
    },
    {
      "cell_type": "code",
      "execution_count": null,
      "metadata": {
        "id": "GWNAHTpeD1UK"
      },
      "outputs": [],
      "source": [
        "#Code Block 1\n",
        "\n",
        "import numpy as np\n",
        "import pandas as pd\n",
        "import matplotlib.pyplot as plt\n",
        "import seaborn as sns\n",
        "\n",
        "\n",
        "#style options\n",
        "\n",
        "%matplotlib inline\n",
        "#if you want graphs to automatically without plt.show\n",
        "\n",
        "pd.set_option('display.max_columns',100) #allows for up to 100 columns to be displayed when viewing a dataframe\n",
        "\n",
        "plt.style.use('seaborn') #a style that can be used for plots - see style reference above\n",
        "\n"
      ]
    },
    {
      "cell_type": "markdown",
      "metadata": {
        "id": "VO-RYLReD1UL"
      },
      "source": [
        "### Different guides to styles galleries\n",
        "- Style sheets reference — Matplotlib 3.1.1 documentation\n",
        "    - https://matplotlib.org/3.1.1/gallery/style_sheets/style_sheets_reference.html\n",
        "- Matplotlib Style Gallery - Tony S. Yu\n",
        "    - https://tonysyu.github.io/raw_content/matplotlib-style-gallery/gallery.html"
      ]
    },
    {
      "cell_type": "markdown",
      "metadata": {
        "id": "QU5Jc_CND1UL"
      },
      "source": [
        "<h2 style=\"color:blue;\">C1.S2.Py05a - Import Data as a DataFrame</h2>\n",
        "\n",
        "\n",
        "<h2 style=\"color:blue;\">C1.S2.Py05b - Understanding the Importing Data Options </h2>\n",
        "\n",
        "\n",
        "https://pandas.pydata.org/pandas-docs/stable/api.html#flat-file"
      ]
    },
    {
      "cell_type": "markdown",
      "metadata": {
        "id": "8Gmw_FF_D1UL"
      },
      "source": [
        "**Four different ways to import data**\n",
        "\n",
        "1. **Import csv** - local csv files are universally the easiest files to import and are usually the fastest files to import as well.\n",
        "2. **Import Excel file** - allows you to import multiple sheets from the same file.  This is usually a slower process.\n",
        "3. **Import files from URL** - if the files are not local then you can point to a URL to import.  \n",
        "4. **Import a text files** - this is similar to a csv but you need to identify the separator, such as tab or space."
      ]
    },
    {
      "cell_type": "markdown",
      "metadata": {
        "id": "a1_1U73cD1UM"
      },
      "source": [
        "\n",
        "\n",
        "```\n",
        "# This is formatted as code\n",
        "```\n",
        "\n",
        "### Import a csv file\n",
        "- **header** specifies that the top row is the label for the column - set it *=0* for the first row or  *=None* if there is no label in the first row.\n",
        "- **column_index** specifies that the first column is the index, which is a unique identifier.  set it *=0* for the first column or  *=None* if you prefer to leave the first column as a regular column.  *If the column is normal column set it =None.\n",
        "- **encoding** sometimes there is an issue reading in the data because it cannot detemrine the correct encoding.  When this occurs, set ***encoding = 'utf8'***. <br> Ex. *df = pd.read_csv('data/Appleton.csv', encoding = 'utf8') *"
      ]
    },
    {
      "cell_type": "code",
      "execution_count": null,
      "metadata": {
        "id": "KCDgz7RrD1UM"
      },
      "outputs": [],
      "source": [
        "#Code Block 2\n",
        "df_column = pd.read_csv('data/LoanAnalysis_RawData.csv', index_col = 0, header=0)\n",
        "    #sets the first column to the index\n",
        "    # and the top row as the headers\n",
        "df = pd.read_csv('data/LoanAnalysis_RawData.csv', index_col = None, header=0)\n",
        "    #DOES NOT set the first column to the index\n",
        "    # and the top row as the headers"
      ]
    },
    {
      "cell_type": "code",
      "execution_count": null,
      "metadata": {
        "id": "wy6nrKrtD1UM"
      },
      "outputs": [],
      "source": [
        "#Code Block 3\n",
        "df_column.head(2)"
      ]
    },
    {
      "cell_type": "code",
      "execution_count": null,
      "metadata": {
        "id": "5v_2EYLlD1UM"
      },
      "outputs": [],
      "source": [
        "#Code Block 4\n",
        "df.head(2)"
      ]
    },
    {
      "cell_type": "markdown",
      "metadata": {
        "id": "HzZpqtCTD1UN"
      },
      "source": [
        "### Import an Excel file\n",
        "- When importing a xlsx file, it will bring in the entire sheet.  You can then take individual sheets and create dataframes using ***parse***."
      ]
    },
    {
      "cell_type": "code",
      "execution_count": null,
      "metadata": {
        "id": "4ddH9k3-D1UN"
      },
      "outputs": [],
      "source": [
        "#Code Block 5\n",
        "df_excel =  pd.ExcelFile('data/Loan Analysis - Raw Data.xlsx')\n",
        "print(df_excel.sheet_names)"
      ]
    },
    {
      "cell_type": "code",
      "execution_count": null,
      "metadata": {
        "id": "1shSycOVD1UN"
      },
      "outputs": [],
      "source": [
        "#Code Block 6\n",
        "df_sheet1 = df_excel.parse('Loan Subset')\n",
        "df_sheet1.head(2)"
      ]
    },
    {
      "cell_type": "code",
      "execution_count": null,
      "metadata": {
        "id": "ZSAUJhclD1UN"
      },
      "outputs": [],
      "source": [
        "#Code Block 7\n",
        "df_sheet1_1 = df_excel.parse(0)\n",
        "df_sheet1_1.head(2)"
      ]
    },
    {
      "cell_type": "code",
      "execution_count": null,
      "metadata": {
        "id": "Z0H2B0ybD1UN"
      },
      "outputs": [],
      "source": [
        "#Code Block 8\n",
        "df_sheet2 = df_excel.parse('Sheet2')\n",
        "df_sheet2.head(2)"
      ]
    },
    {
      "cell_type": "code",
      "execution_count": null,
      "metadata": {
        "id": "FQ6mMEjcD1UN"
      },
      "outputs": [],
      "source": [
        "#Code Block 9\n",
        "df_sheet2_1 = df_excel.parse(1)\n",
        "df_sheet2_1.head(2)"
      ]
    },
    {
      "cell_type": "markdown",
      "metadata": {
        "id": "evTW_YOeD1UO"
      },
      "source": [
        "### Import URL\n",
        "\n",
        "**NOTE:** When importing from specific repositories, make sure to follow their path requirements.  Github needs *raw.githubusercontent.com* then the path."
      ]
    },
    {
      "cell_type": "code",
      "execution_count": null,
      "metadata": {
        "id": "PES8sO5vD1UO"
      },
      "outputs": [],
      "source": [
        "#Code Block 10\n",
        "url = 'https://raw.githubusercontent.com/capigian/PythonWorkshop/master/AppletonOriginal.csv'\n",
        "#url is a variable that is created that is pointed to the ile online.\n",
        "\n",
        "df_Appleton_url = pd.read_csv(url, header = 0, index_col=None)\n",
        "df_Appleton_url.head()\n"
      ]
    },
    {
      "cell_type": "markdown",
      "metadata": {
        "id": "JceBe78QD1UO"
      },
      "source": [
        "#### Read in specific columns from a file\n",
        "- sometimes you only want to read in a few columns, to do this you can use ***usecols***\n",
        "\n"
      ]
    },
    {
      "cell_type": "code",
      "execution_count": null,
      "metadata": {
        "id": "TM0vKPeoD1UO"
      },
      "outputs": [],
      "source": [
        "#Code Block 11\n",
        "df_4 = pd.read_csv(\"data/LoanAnalysis_RawData.csv\", usecols = ['Member ID','Loan ID', 'Origination Date', 'Interest Rate'])\n",
        "df_4.head()"
      ]
    },
    {
      "cell_type": "markdown",
      "metadata": {
        "id": "ZKRkmEgdD1UO"
      },
      "source": [
        "<h2 style=\"color:blue;\">C1.S2.Py06 - How to Read Data </h2>  \n",
        "\n",
        "- **.head( )** - shows the first 5 records (default). If you add a number inside of the parentheses, then that is how many records will be shown.  (*ex. .head(15) will show the top 15 records.\n",
        "- **.tail( )** - shows the last 5 records. (*ex. .tail(10) will show the bottom 10 records.\n",
        "- **.sample ( )** - shows 1 random record.  If you include a number in the parentheses then it will show a random number for that number.  (*ex. .sample(10) - will show 10 random records.)\n",
        "- **.info( )** - shows every column with the data type and the total number of records. Shown in next video."
      ]
    },
    {
      "cell_type": "code",
      "execution_count": null,
      "metadata": {
        "id": "23E_iw03D1UO"
      },
      "outputs": [],
      "source": [
        "#Code Block 12\n",
        "df.head()"
      ]
    },
    {
      "cell_type": "code",
      "execution_count": null,
      "metadata": {
        "id": "xceMVD4-D1UP"
      },
      "outputs": [],
      "source": [
        "#Code Block 13\n",
        "df_column.head()"
      ]
    },
    {
      "cell_type": "code",
      "execution_count": null,
      "metadata": {
        "id": "qY25wWm9D1UP"
      },
      "outputs": [],
      "source": [
        "#Code Block 14\n",
        "df.head(10)"
      ]
    },
    {
      "cell_type": "code",
      "execution_count": null,
      "metadata": {
        "id": "_FGRxc5SD1UP"
      },
      "outputs": [],
      "source": [
        "#Code Block 15\n",
        "df.tail()"
      ]
    },
    {
      "cell_type": "code",
      "execution_count": null,
      "metadata": {
        "id": "Cf6LFaF_D1UP"
      },
      "outputs": [],
      "source": [
        "#Code Block 16\n",
        "df.tail(7)"
      ]
    },
    {
      "cell_type": "code",
      "execution_count": null,
      "metadata": {
        "id": "5S5YnZ-GD1UP"
      },
      "outputs": [],
      "source": [
        "#Code Block 17\n",
        "df.sample()"
      ]
    },
    {
      "cell_type": "code",
      "execution_count": null,
      "metadata": {
        "id": "TODipUXLD1UP"
      },
      "outputs": [],
      "source": [
        "#Code Block 18\n",
        "df.sample(5)"
      ]
    },
    {
      "cell_type": "markdown",
      "metadata": {
        "id": "-t3r_MznD1UQ"
      },
      "source": [
        "<h2 style=\"color:blue;\">C1.S2.Py07 - How to Rename and Drop Columns</h2>\n",
        "\n",
        "\n",
        "When importing data, it is a good idea to make sure that names for columns and concise and descriptive.  Also, copying dataframes is a good idea to ensure original data.\n",
        "\n",
        "### Creating a copy of a dataframe\n",
        "- Prior to making changes with your DataFrame, create a copy.\n",
        "- .copy()\n",
        "- https://pandas.pydata.org/pandas-docs/stable/reference/api/pandas.DataFrame.copy.html"
      ]
    },
    {
      "cell_type": "code",
      "execution_count": null,
      "metadata": {
        "id": "AeNsAX7gD1UQ"
      },
      "outputs": [],
      "source": [
        "#Code Block 19\n",
        "df.head(2)"
      ]
    },
    {
      "cell_type": "code",
      "execution_count": null,
      "metadata": {
        "id": "x-r_ak7SD1UQ"
      },
      "outputs": [],
      "source": [
        "#Code Block 20\n",
        "df_copy = df.copy()\n",
        "df_copy.head(2)"
      ]
    },
    {
      "cell_type": "markdown",
      "metadata": {
        "id": "4b7Xi2B3D1UQ"
      },
      "source": [
        "**Create a subset of columns for a new DataFrame**"
      ]
    },
    {
      "cell_type": "code",
      "execution_count": null,
      "metadata": {
        "id": "eRnbv9TbD1UQ"
      },
      "outputs": [],
      "source": [
        "#Code Block 21\n",
        "df_customer = df[['Member ID','Loan ID','Origination Date','Interest Rate','Amount Funded','Borrower Total Debt','Annual Income','Employee Title','Length of Employment','Home Ownership']].copy()\n",
        "df_customer.head()"
      ]
    },
    {
      "cell_type": "markdown",
      "metadata": {
        "id": "RB10A5VKD1UQ"
      },
      "source": [
        "### Rename columns in a dataframe\n",
        "- Set Dataframe to the rename function\n",
        "- Example: df=df.rename(columns = {'originalcolumn':'newcolumn'})\n",
        "- https://pandas.pydata.org/pandas-docs/stable/reference/api/pandas.DataFrame.rename.html"
      ]
    },
    {
      "cell_type": "code",
      "execution_count": null,
      "metadata": {
        "id": "mXkGlTYvD1UQ"
      },
      "outputs": [],
      "source": [
        "#Code Block 22\n",
        "df.head(2)"
      ]
    },
    {
      "cell_type": "code",
      "execution_count": null,
      "metadata": {
        "id": "lGf8K_qxD1UR"
      },
      "outputs": [],
      "source": [
        "#Code Block 23\n",
        "df=df.rename(columns = {'Borrower Total Debt':'Total Debt', \\\n",
        "                        'Balance on Revolving Accounts':'Revolving Accounts'})\n",
        "df.head(2)"
      ]
    },
    {
      "cell_type": "code",
      "execution_count": null,
      "metadata": {
        "id": "FXWl3HmqD1UR"
      },
      "outputs": [],
      "source": [
        "#Code Block 24\n",
        "df = df.drop('Notes', axis = 1)\n",
        "df.head(2)"
      ]
    }
  ],
  "metadata": {
    "kernelspec": {
      "display_name": "Python 3",
      "language": "python",
      "name": "python3"
    },
    "language_info": {
      "codemirror_mode": {
        "name": "ipython",
        "version": 3
      },
      "file_extension": ".py",
      "mimetype": "text/x-python",
      "name": "python",
      "nbconvert_exporter": "python",
      "pygments_lexer": "ipython3",
      "version": "3.7.7"
    },
    "toc": {
      "base_numbering": 1,
      "nav_menu": {
        "height": "344px",
        "width": "350px"
      },
      "number_sections": true,
      "sideBar": true,
      "skip_h1_title": false,
      "title_cell": "Table of Contents",
      "title_sidebar": "Contents",
      "toc_cell": false,
      "toc_position": {
        "height": "calc(100% - 180px)",
        "left": "10px",
        "top": "150px",
        "width": "266.797px"
      },
      "toc_section_display": true,
      "toc_window_display": true
    },
    "colab": {
      "provenance": []
    }
  },
  "nbformat": 4,
  "nbformat_minor": 0
}