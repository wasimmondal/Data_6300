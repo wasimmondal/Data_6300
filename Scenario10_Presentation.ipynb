{
  "cells": [
    {
      "cell_type": "markdown",
      "metadata": {
        "id": "e6Zpxy_WCzpm"
      },
      "source": [
        "<h1 style=\"color:blue;\">Outline of Scenario 10 notebook:</h1>\n",
        "\n",
        "- C1.S10.Py01 – Combine “other” and “none” and run regression\n",
        "- C1.S10.Py02 - Create interaction and re-run regression\n",
        "- C1.S10.Py03 - Remove outliers and re-run regression\n",
        "\n"
      ]
    },
    {
      "cell_type": "code",
      "execution_count": null,
      "metadata": {
        "id": "smJQ1yBACzpp"
      },
      "outputs": [],
      "source": [
        "#Code Block 1\n",
        "\n",
        "import numpy as np\n",
        "import pandas as pd\n",
        "import matplotlib.pyplot as plt\n",
        "import seaborn as sns\n",
        "\n",
        "\n",
        "\n",
        "#style options\n",
        "\n",
        "%matplotlib inline\n",
        "#if you want graphs to automatically without plt.show\n",
        "\n",
        "pd.set_option('display.max_columns',500) #allows for up to 500 columns to be displayed when viewing a dataframe\n",
        "\n",
        "plt.style.use('seaborn') #a style that can be used for plots - see style reference above\n",
        "\n"
      ]
    },
    {
      "cell_type": "code",
      "execution_count": null,
      "metadata": {
        "id": "LZAO29dOCzpq"
      },
      "outputs": [],
      "source": [
        "#Code Block 2\n",
        "df = pd.read_csv('data/Scenario10.csv', index_col = 0, header=0)\n",
        "    #DOES set the first column to the index\n",
        "    # and the top row as the headers"
      ]
    },
    {
      "cell_type": "code",
      "execution_count": null,
      "metadata": {
        "scrolled": true,
        "id": "uzYqNonKCzpr"
      },
      "outputs": [],
      "source": [
        "#Code Block 3\n",
        "df.head(3)"
      ]
    },
    {
      "cell_type": "markdown",
      "metadata": {
        "id": "Wk7ko38UCzps"
      },
      "source": [
        "<h2 style=\"color:blue;\">Combine “OTHER” and “NONE” and run regression</h2>\n",
        "\n"
      ]
    },
    {
      "cell_type": "markdown",
      "metadata": {
        "id": "grrEgtvbCzps"
      },
      "source": [
        "<h3 style=\"color:blue;\">Rename Revolving Accounts </h3>\n",
        "\n",
        "- Revolving Accounts is the amount of debt balance for revolving debt types (ex. credit cards)\n",
        "- Total Revolving Credit Line is the credit limit on the revolving credit line (ex. max amount for a credit card)\n",
        "\n",
        "#### Let's change Revolving Accounts to Revolving Balance"
      ]
    },
    {
      "cell_type": "code",
      "execution_count": null,
      "metadata": {
        "id": "HZJ4q12TCzps"
      },
      "outputs": [],
      "source": [
        "#Code Block 4\n",
        "df.columns"
      ]
    },
    {
      "cell_type": "code",
      "execution_count": null,
      "metadata": {
        "id": "NGtagxKvCzps"
      },
      "outputs": [],
      "source": [
        "#Code Block 5\n",
        "df = df.rename(columns = {'Revolving Accounts': \"Revolving Balance\"})"
      ]
    },
    {
      "cell_type": "markdown",
      "metadata": {
        "id": "ilyHzzTECzpt"
      },
      "source": [
        "#### NOTE: single quotes ' ' is the same as double quotes \" \""
      ]
    },
    {
      "cell_type": "code",
      "execution_count": null,
      "metadata": {
        "id": "2ZnuTsvPCzpt"
      },
      "outputs": [],
      "source": [
        "#Code Block 6\n",
        "df.info()"
      ]
    },
    {
      "cell_type": "code",
      "execution_count": null,
      "metadata": {
        "id": "XBsY0KOlCzpt"
      },
      "outputs": [],
      "source": [
        "#Code Block 7\n",
        "df['Home Ownership'].value_counts(dropna=False)"
      ]
    },
    {
      "cell_type": "markdown",
      "metadata": {
        "id": "GOggSyPwCzpu"
      },
      "source": [
        "<h3 style=\"color:blue;\">Combine \"other\" and \"rent\" by using .replace </h3>"
      ]
    },
    {
      "cell_type": "code",
      "execution_count": null,
      "metadata": {
        "id": "X4jN8vCxCzpu"
      },
      "outputs": [],
      "source": [
        "#Code Block 8\n",
        "df = df.replace({\"NONE\":\"OTHER\"})\n",
        "df['Home Ownership'].value_counts(dropna=False)"
      ]
    },
    {
      "cell_type": "markdown",
      "metadata": {
        "id": "Bb2ZkCKhCzpu"
      },
      "source": [
        "<h3 style=\"color:blue;\">Create dummy variables for Home Ownership </h3>\n",
        "\n",
        "- Create the dummy variables *(ex. MORTGAGE, RENT, OWN, OTHER)*\n",
        "- Concatenate with the original DataFrame *(ex. dummies_HomeOwnership with df_reg)*\n",
        "- Drop the original variable that was used to create the dummy variables *(ex. Home Ownership)*"
      ]
    },
    {
      "cell_type": "code",
      "execution_count": null,
      "metadata": {
        "id": "3LO1ANXtCzpu"
      },
      "outputs": [],
      "source": [
        "#Code Block 9\n",
        "dummies_HomeOwnership = pd.get_dummies(df['Home Ownership'], drop_first = False)\n",
        "df = pd.concat([df, dummies_HomeOwnership], axis = 1)\n",
        "#df = df.drop(['Home Ownership'], axis = 1)\n",
        "df.head()"
      ]
    },
    {
      "cell_type": "code",
      "execution_count": null,
      "metadata": {
        "id": "IT8EE-DTCzpu"
      },
      "outputs": [],
      "source": [
        "#Code Block 10\n",
        "print('---------------------------------------------------')\n",
        "print(df['MORTGAGE'].value_counts(dropna=False))\n",
        "print('---------------------------------------------------')\n",
        "print(df['OWN'].value_counts(dropna=False))\n",
        "print('---------------------------------------------------')\n",
        "print(df['RENT'].value_counts(dropna=False))\n",
        "print('---------------------------------------------------')\n",
        "print(df['OTHER'].value_counts(dropna=False))\n",
        "print('---------------------------------------------------')"
      ]
    },
    {
      "cell_type": "code",
      "execution_count": null,
      "metadata": {
        "id": "VD_BNqTwCzpu"
      },
      "outputs": [],
      "source": [
        "#Code Block 11\n",
        "df_reg = df.copy()"
      ]
    },
    {
      "cell_type": "markdown",
      "metadata": {
        "id": "bojj_kLbCzpv"
      },
      "source": [
        "<h3 style=\"color:blue;\">Create a regression model to include Home Ownership</h3>\n",
        "\n",
        "- Not including MORTGAGE due to its likelihood of multi-colinearity\n",
        "- If OWN, RENT, and OTHER are 0's, then it can be inferred that MORTGAGE is 1.  \n"
      ]
    },
    {
      "cell_type": "code",
      "execution_count": null,
      "metadata": {
        "scrolled": true,
        "id": "ikUM67elCzpv"
      },
      "outputs": [],
      "source": [
        "#Code Block 12\n",
        "df_reg.columns"
      ]
    },
    {
      "cell_type": "code",
      "execution_count": null,
      "metadata": {
        "id": "Es97g0UtCzpv"
      },
      "outputs": [],
      "source": [
        "#Code Block 13\n",
        "df_reg = df_reg[['Amount Funded', 'Total Debt', 'Annual Income', 'Revolving Balance',\n",
        "                'Total Revolving Credit Line', 'Loan_Income', 'Debt_Income', 'RevBal_Line', 'RevBal_Income',\n",
        "                'Income Verification', 'IncVer_Income_act', 'OWN', 'RENT', 'OTHER','Interest Rate']]\n",
        "X = df_reg.drop([\"Interest Rate\"], axis = 1)\n",
        "y = df_reg[['Interest Rate']]"
      ]
    },
    {
      "cell_type": "code",
      "execution_count": null,
      "metadata": {
        "id": "XluvR7uFCzpv"
      },
      "outputs": [],
      "source": [
        "#Code Block 14\n",
        "import statsmodels\n",
        "import statsmodels.api as sm"
      ]
    },
    {
      "cell_type": "code",
      "execution_count": null,
      "metadata": {
        "id": "OyVCy5JuCzpv"
      },
      "outputs": [],
      "source": [
        "#Code Block 15\n",
        "X = sm.add_constant(X) # adding a constant\n",
        "\n",
        "reg1 = sm.OLS(y, X).fit()\n",
        "\n",
        "predictions1 = reg1.predict(X)\n",
        "resid1 = reg1.resid\n",
        "reg1.summary()"
      ]
    },
    {
      "cell_type": "code",
      "execution_count": null,
      "metadata": {
        "id": "7LcH5xOSCzpv"
      },
      "outputs": [],
      "source": [
        "#Code Block 16\n",
        "\n",
        "#Create Predictions dataframe\n",
        "df_predictions1 = pd.DataFrame(predictions1)\n",
        "df_predictions1=df_predictions1.rename(columns = {0:'Int_Pred1'})\n",
        "\n",
        "#Create Residuals dataframe\n",
        "df_resid1 = pd.DataFrame(resid1)\n",
        "df_resid1=df_resid1.rename(columns = {0:'Resid1'})\n",
        "\n",
        "\n",
        "#Concat results into one dataframe\n",
        "df_reg_results = pd.concat([df_reg, df_predictions1, df_resid1], axis=1)\n",
        "\n",
        "df_reg_results.head()"
      ]
    },
    {
      "cell_type": "code",
      "execution_count": null,
      "metadata": {
        "id": "RedkaKCvCzpw"
      },
      "outputs": [],
      "source": [
        "#Code Block 17\n",
        "from statsmodels.stats.outliers_influence import variance_inflation_factor"
      ]
    },
    {
      "cell_type": "code",
      "execution_count": null,
      "metadata": {
        "scrolled": true,
        "id": "nWdNe8ylCzpw"
      },
      "outputs": [],
      "source": [
        "#Code Block 18\n",
        "vif = pd.DataFrame()\n",
        "vif[\"VIF Factor\"] = [variance_inflation_factor(X.values, i) for i in range(X.shape[1])]\n",
        "vif[\"features\"] = X.columns #adds a column with the labels\n",
        "round(vif, 1).sort_values(by = 'VIF Factor', ascending = False)"
      ]
    },
    {
      "cell_type": "code",
      "execution_count": null,
      "metadata": {
        "id": "21E5SZO3Czpw"
      },
      "outputs": [],
      "source": [
        "#Code Block 19\n",
        "\n",
        "corrMatrix = df_reg.corr()\n",
        "df_corrMatrix = pd.DataFrame(corrMatrix)\n",
        "round(df_corrMatrix,3)"
      ]
    },
    {
      "cell_type": "code",
      "execution_count": null,
      "metadata": {
        "scrolled": false,
        "id": "O7OEvMwOCzpw"
      },
      "outputs": [],
      "source": [
        "#Code Block 20\n",
        "colormap = plt.cm.viridis\n",
        "plt.figure(figsize=(14,10))\n",
        "plt.title('Correlation Heat Map', y=1.05, size=15)\n",
        "sns.heatmap(df_corrMatrix,linewidths=0.1,vmax=1.0, square=True, cmap=colormap, linecolor='white', annot=True)"
      ]
    },
    {
      "cell_type": "code",
      "execution_count": null,
      "metadata": {
        "scrolled": false,
        "id": "Rlo1zqh8Czpw"
      },
      "outputs": [],
      "source": [
        "#Code Block 21\n",
        "plt.figure(figsize=(20,10)) #changes area of scatterplot\n",
        "sns.regplot(x='Int_Pred1', y='Resid1',\n",
        "              data = df_reg_results, scatter_kws={\"color\":\"blue\",\"alpha\":0.15, \"s\":100,\"linewidth\":2,\"edgecolor\":\"white\"},\n",
        "              line_kws={'color': 'black'})"
      ]
    },
    {
      "cell_type": "markdown",
      "metadata": {
        "id": "LXc5VeTsCzpw"
      },
      "source": [
        "<h2 style=\"color:blue;\">Create interaction and re-run regression</h2>\n",
        "\n",
        "- Interaction variable for **OWN** and **Total Revolving Credit Line**"
      ]
    },
    {
      "cell_type": "code",
      "execution_count": null,
      "metadata": {
        "id": "Cw6ZhPwtCzpw"
      },
      "outputs": [],
      "source": [
        "#Code Block 22\n",
        "df.head()"
      ]
    },
    {
      "cell_type": "code",
      "execution_count": null,
      "metadata": {
        "id": "5bY8d4fVCzpx"
      },
      "outputs": [],
      "source": [
        "#Code Block 23\n",
        "df['Own_RevLine_act'] = df['Total Revolving Credit Line'] * df['OWN']"
      ]
    },
    {
      "cell_type": "code",
      "execution_count": null,
      "metadata": {
        "scrolled": true,
        "id": "0oFL6yEiCzpx"
      },
      "outputs": [],
      "source": [
        "#Code Block 24\n",
        "df.tail()"
      ]
    },
    {
      "cell_type": "code",
      "execution_count": null,
      "metadata": {
        "scrolled": true,
        "id": "BRygmudaCzpx"
      },
      "outputs": [],
      "source": [
        "#Code Block 25\n",
        "df.columns"
      ]
    },
    {
      "cell_type": "code",
      "execution_count": null,
      "metadata": {
        "id": "6d8l3gH_Czpx"
      },
      "outputs": [],
      "source": [
        "#Code Block 26\n",
        "df_reg = df[['Amount Funded', 'Total Debt', 'Annual Income', 'Revolving Balance',\n",
        "                'Total Revolving Credit Line', 'Loan_Income', 'Debt_Income', 'RevBal_Line', 'RevBal_Income',\n",
        "                'Income Verification', 'IncVer_Income_act', 'OWN', 'RENT', 'OTHER','Own_RevLine_act','Interest Rate']]\n",
        "X = df_reg.drop([\"Interest Rate\"], axis = 1)\n",
        "y = df_reg[['Interest Rate']]"
      ]
    },
    {
      "cell_type": "code",
      "execution_count": null,
      "metadata": {
        "id": "k0MHYz1KCzpx"
      },
      "outputs": [],
      "source": [
        "#Code Block 27\n",
        "X = sm.add_constant(X) # adding a constant\n",
        "\n",
        "reg2 = sm.OLS(y, X).fit()\n",
        "\n",
        "predictions2 = reg2.predict(X)\n",
        "resid2 = reg2.resid\n",
        "reg2.summary()"
      ]
    },
    {
      "cell_type": "code",
      "execution_count": null,
      "metadata": {
        "id": "SCFyp_V_Czpx"
      },
      "outputs": [],
      "source": [
        "#Code Block 28\n",
        "\n",
        "#Create Predictions dataframe\n",
        "df_predictions2 = pd.DataFrame(predictions2)\n",
        "df_predictions2=df_predictions2.rename(columns = {0:'Int_Pred2'})\n",
        "\n",
        "#Create Residuals dataframe\n",
        "df_resid2 = pd.DataFrame(resid2)\n",
        "df_resid2=df_resid2.rename(columns = {0:'Resid2'})\n",
        "\n",
        "\n",
        "#Concat results into one dataframe\n",
        "df_reg_results = pd.concat([df_reg_results, df_predictions2, df_resid2], axis=1)\n",
        "\n",
        "df_reg_results.head()"
      ]
    },
    {
      "cell_type": "code",
      "execution_count": null,
      "metadata": {
        "scrolled": true,
        "id": "EEu39POLCzpy"
      },
      "outputs": [],
      "source": [
        "#Code Block 29\n",
        "vif = pd.DataFrame()\n",
        "vif[\"VIF Factor\"] = [variance_inflation_factor(X.values, i) for i in range(X.shape[1])]\n",
        "vif[\"features\"] = X.columns #adds a column with the labels\n",
        "round(vif, 1).sort_values(by = 'VIF Factor', ascending = False)"
      ]
    },
    {
      "cell_type": "code",
      "execution_count": null,
      "metadata": {
        "id": "_gX-g9dtCzpy"
      },
      "outputs": [],
      "source": [
        "#Code Block 30\n",
        "\n",
        "corrMatrix = df_reg.corr()\n",
        "df_corrMatrix = pd.DataFrame(corrMatrix)\n",
        "round(df_corrMatrix,3)"
      ]
    },
    {
      "cell_type": "code",
      "execution_count": null,
      "metadata": {
        "scrolled": false,
        "id": "e-TcAMLaCzpy"
      },
      "outputs": [],
      "source": [
        "#Code Block 31\n",
        "colormap = plt.cm.viridis\n",
        "plt.figure(figsize=(14,10))\n",
        "plt.title('Correlation Heat Map', y=1.05, size=15)\n",
        "sns.heatmap(df_corrMatrix,linewidths=0.1,vmax=1.0, square=True, cmap=colormap, linecolor='white', annot=True)"
      ]
    },
    {
      "cell_type": "code",
      "execution_count": null,
      "metadata": {
        "scrolled": false,
        "id": "6Qq_XsHHCzp5"
      },
      "outputs": [],
      "source": [
        "#Code Block 32\n",
        "plt.figure(figsize=(20,10)) #changes area of scatterplot\n",
        "sns.regplot(x='Int_Pred2', y='Resid2',\n",
        "              data = df_reg_results, scatter_kws={\"color\":\"blue\",\"alpha\":0.15, \"s\":100,\"linewidth\":2,\"edgecolor\":\"white\"},\n",
        "              line_kws={'color': 'black'})"
      ]
    },
    {
      "cell_type": "markdown",
      "metadata": {
        "id": "OMjh6W-gCzp5"
      },
      "source": [
        "### Graphically looking at residuals using lowess\n",
        "\n",
        "- LOWESS (Locally Weighted Scatterplot Smoothing), is a tool used in regression analysis that creates a smooth line through a scatter plot to help you to see relationship between variables and foresee trends.\n",
        "- https://www.statisticshowto.com/lowess-smoothing/"
      ]
    },
    {
      "cell_type": "code",
      "execution_count": null,
      "metadata": {
        "id": "kc1Xx7k5Czp6"
      },
      "outputs": [],
      "source": [
        "#Code Block 33\n",
        "sns.set(style='dark')\n",
        "plt.figure(figsize=(20,14))\n",
        "#top left Amopunt Funded\n",
        "ax1 = plt.subplot2grid((2, 2), (0, 0))\n",
        "plt.title('Amount Funded', fontweight='bold', color = 'green', fontsize='17', horizontalalignment='center')\n",
        "ax1 = sns.regplot(x='Amount Funded', y='Resid2', lowess=True,\n",
        "                  data = df_reg_results, scatter_kws={\"color\":\"blue\",\"alpha\":0.15, \"s\":100,\"linewidth\":2,\"edgecolor\":\"white\"},\n",
        "                  line_kws={'color': 'black'})\n",
        "#top right Total Debt\n",
        "ax2 = plt.subplot2grid((2, 2), (0, 1))\n",
        "plt.title('Total Debt', fontweight='bold', color = 'green', fontsize='17', horizontalalignment='center')\n",
        "ax2 = sns.regplot(x='Total Debt', y='Resid2', lowess=True,\n",
        "                  data = df_reg_results, scatter_kws={\"color\":\"blue\",\"alpha\":0.15, \"s\":100,\"linewidth\":2,\"edgecolor\":\"white\"},\n",
        "                  line_kws={'color': 'black'})\n",
        "#bottom left Annual Income\n",
        "ax3 = plt.subplot2grid((2, 2), (1, 0))\n",
        "plt.title('Annual Income', fontweight='bold', color = 'green', fontsize='17', horizontalalignment='center')\n",
        "ax3 = sns.regplot(x='Annual Income', y='Resid2', lowess=True,\n",
        "                  data = df_reg_results, scatter_kws={\"color\":\"blue\",\"alpha\":0.15, \"s\":100,\"linewidth\":2,\"edgecolor\":\"white\"},\n",
        "                  line_kws={'color': 'black'})\n",
        "#bottom right Loan_Income\n",
        "ax4 = plt.subplot2grid((2, 2), (1, 1))\n",
        "plt.title('Total Revolving Credit Line', fontweight='bold', color = 'green', fontsize='17', horizontalalignment='center')\n",
        "ax4 = sns.regplot(x= 'Total Revolving Credit Line', y='Resid2', lowess=True,\n",
        "                  data = df_reg_results, scatter_kws={\"color\":\"blue\",\"alpha\":0.15, \"s\":100,\"linewidth\":2,\"edgecolor\":\"white\"},\n",
        "                  line_kws={'color': 'black'})"
      ]
    },
    {
      "cell_type": "markdown",
      "metadata": {
        "id": "uoFTlRZfCzp6"
      },
      "source": [
        "<h2 style=\"color:blue;\">Remove outliers and re-run regression</h2>\n"
      ]
    },
    {
      "cell_type": "code",
      "execution_count": null,
      "metadata": {
        "id": "ImniX1h8Czp6"
      },
      "outputs": [],
      "source": [
        "#Code Block 34\n",
        "sns.set(style='dark')\n",
        "plt.figure(figsize=(20,20))\n",
        "\n",
        "\n",
        "ax1 = plt.subplot2grid((3, 2), (0, 0))\n",
        "ax1.grid(b=True, which='major')\n",
        "ax1.grid(b=True, which='minor')\n",
        "plt.title('Amount Funded', fontweight='bold', color = 'green', fontsize='17', horizontalalignment='center')\n",
        "ax1 = sns.regplot(x='Amount Funded', y='Interest Rate',\n",
        "                  data = df_reg_results, scatter_kws={\"alpha\":0.15, \"s\":100,\"linewidth\":2,\"edgecolor\":\"white\"},\n",
        "                  line_kws={'color': 'black'})\n",
        "\n",
        "\n",
        "ax2 = plt.subplot2grid((3, 2), (0, 1))\n",
        "ax2.grid(b=True, which='major')\n",
        "ax2.grid(b=True, which='minor')\n",
        "plt.title('Total Debt', fontweight='bold', color = 'green', fontsize='17', horizontalalignment='center')\n",
        "ax2 = sns.regplot(x='Total Debt', y='Interest Rate',\n",
        "                  data = df_reg_results, scatter_kws={\"alpha\":0.15, \"s\":100,\"linewidth\":2,\"edgecolor\":\"white\"},\n",
        "                  line_kws={'color': 'black'})\n",
        "\n",
        "\n",
        "ax3 = plt.subplot2grid((3, 2), (1, 0))\n",
        "ax3.grid(b=True, which='major')\n",
        "ax3.grid(b=True, which='minor')\n",
        "plt.title('Annual Income', fontweight='bold', color = 'green', fontsize='17', horizontalalignment='center')\n",
        "ax3 = sns.regplot(x='Annual Income', y='Interest Rate',\n",
        "                  data = df_reg_results, scatter_kws={\"alpha\":0.15, \"s\":100,\"linewidth\":2,\"edgecolor\":\"white\"},\n",
        "                  line_kws={'color': 'black'})\n",
        "\n",
        "ax4 = plt.subplot2grid((3, 2), (1, 1))\n",
        "ax4.grid(b=True, which='major')\n",
        "ax4.grid(b=True, which='minor')\n",
        "plt.title('Loan_Income', fontweight='bold', color = 'green', fontsize='17', horizontalalignment='center')\n",
        "ax4 = sns.regplot(x='Loan_Income', y='Interest Rate',\n",
        "                  data = df_reg_results, scatter_kws={\"alpha\":0.15, \"s\":100,\"linewidth\":2,\"edgecolor\":\"white\"},\n",
        "                  line_kws={'color': 'black'})\n",
        "\n",
        "ax5 = plt.subplot2grid((3, 2), (2, 0))\n",
        "ax5.grid(b=True, which='major')\n",
        "ax5.grid(b=True, which='minor')\n",
        "plt.title('Revolving Balance', fontweight='bold', color = 'green', fontsize='17', horizontalalignment='center')\n",
        "ax5 = sns.regplot(x='Revolving Balance', y='Interest Rate',\n",
        "                  data = df_reg_results, scatter_kws={\"alpha\":0.15, \"s\":100,\"linewidth\":2,\"edgecolor\":\"white\"},\n",
        "                  line_kws={'color': 'black'})\n",
        "\n",
        "\n",
        "ax6 = plt.subplot2grid((3, 2), (2, 1))\n",
        "ax6.grid(b=True, which='major')\n",
        "ax6.grid(b=True, which='minor')\n",
        "plt.title('Total Revolving Credit Line', fontweight='bold', color = 'green', fontsize='17', horizontalalignment='center')\n",
        "ax6 = sns.regplot(x='Total Revolving Credit Line', y='Interest Rate',\n",
        "                  data = df_reg_results, scatter_kws={\"alpha\":0.15, \"s\":100,\"linewidth\":2,\"edgecolor\":\"white\"},\n",
        "                  line_kws={'color': 'black'})"
      ]
    },
    {
      "cell_type": "code",
      "execution_count": null,
      "metadata": {
        "id": "u3s-BxCxCzp6"
      },
      "outputs": [],
      "source": [
        "#Code Block 35\n",
        "df.info()"
      ]
    },
    {
      "cell_type": "code",
      "execution_count": null,
      "metadata": {
        "id": "lPLN1s5BCzp7"
      },
      "outputs": [],
      "source": [
        "#Code Block 36\n",
        "df_new = df.copy()\n",
        "df_new = df_new[df_new['Annual Income']<500000]\n",
        "df_new = df_new[df_new['Total Debt']<1000000]\n",
        "df_new = df_new[df_new['Revolving Balance']<150000]\n",
        "df_new = df_new[df_new['Total Revolving Credit Line']<250000]\n",
        "df_new.info()"
      ]
    },
    {
      "cell_type": "code",
      "execution_count": null,
      "metadata": {
        "id": "mCfAouKaCzp7"
      },
      "outputs": [],
      "source": [
        "#Code Block 37\n",
        "sns.set(style='dark')\n",
        "plt.figure(figsize=(20,20))\n",
        "\n",
        "\n",
        "ax1 = plt.subplot2grid((3, 2), (0, 0))\n",
        "ax1.grid(b=True, which='major')\n",
        "ax1.grid(b=True, which='minor')\n",
        "plt.title('Amount Funded', fontweight='bold', color = 'green', fontsize='17', horizontalalignment='center')\n",
        "ax1 = sns.regplot(x='Amount Funded', y='Interest Rate',\n",
        "                  data = df_new, scatter_kws={\"alpha\":0.15, \"s\":100,\"linewidth\":2,\"edgecolor\":\"white\"},\n",
        "                  line_kws={'color': 'black'})\n",
        "\n",
        "\n",
        "ax2 = plt.subplot2grid((3, 2), (0, 1))\n",
        "ax2.grid(b=True, which='major')\n",
        "ax2.grid(b=True, which='minor')\n",
        "plt.title('Total Debt', fontweight='bold', color = 'green', fontsize='17', horizontalalignment='center')\n",
        "ax2 = sns.regplot(x='Total Debt', y='Interest Rate',\n",
        "                  data = df_new, scatter_kws={\"alpha\":0.15, \"s\":100,\"linewidth\":2,\"edgecolor\":\"white\"},\n",
        "                  line_kws={'color': 'black'})\n",
        "\n",
        "\n",
        "ax3 = plt.subplot2grid((3, 2), (1, 0))\n",
        "ax3.grid(b=True, which='major')\n",
        "ax3.grid(b=True, which='minor')\n",
        "plt.title('Annual Income', fontweight='bold', color = 'green', fontsize='17', horizontalalignment='center')\n",
        "ax3 = sns.regplot(x='Annual Income', y='Interest Rate',\n",
        "                  data = df_new, scatter_kws={\"alpha\":0.15, \"s\":100,\"linewidth\":2,\"edgecolor\":\"white\"},\n",
        "                  line_kws={'color': 'black'})\n",
        "\n",
        "ax4 = plt.subplot2grid((3, 2), (1, 1))\n",
        "ax4.grid(b=True, which='major')\n",
        "ax4.grid(b=True, which='minor')\n",
        "plt.title('Loan_Income', fontweight='bold', color = 'green', fontsize='17', horizontalalignment='center')\n",
        "ax4 = sns.regplot(x='Loan_Income', y='Interest Rate',\n",
        "                  data = df_new, scatter_kws={\"alpha\":0.15, \"s\":100,\"linewidth\":2,\"edgecolor\":\"white\"},\n",
        "                  line_kws={'color': 'black'})\n",
        "\n",
        "ax5 = plt.subplot2grid((3, 2), (2, 0))\n",
        "ax5.grid(b=True, which='major')\n",
        "ax5.grid(b=True, which='minor')\n",
        "plt.title('Revolving Balance', fontweight='bold', color = 'green', fontsize='17', horizontalalignment='center')\n",
        "ax5 = sns.regplot(x='Revolving Balance', y='Interest Rate',\n",
        "                  data = df_new, scatter_kws={\"alpha\":0.15, \"s\":100,\"linewidth\":2,\"edgecolor\":\"white\"},\n",
        "                  line_kws={'color': 'black'})\n",
        "\n",
        "\n",
        "ax6 = plt.subplot2grid((3, 2), (2, 1))\n",
        "ax6.grid(b=True, which='major')\n",
        "ax6.grid(b=True, which='minor')\n",
        "plt.title('Total Revolving Credit Line', fontweight='bold', color = 'green', fontsize='17', horizontalalignment='center')\n",
        "ax6 = sns.regplot(x='Total Revolving Credit Line', y='Interest Rate',\n",
        "                  data = df_new, scatter_kws={\"alpha\":0.15, \"s\":100,\"linewidth\":2,\"edgecolor\":\"white\"},\n",
        "                  line_kws={'color': 'black'})"
      ]
    },
    {
      "cell_type": "markdown",
      "metadata": {
        "id": "Wq400TwvCzp7"
      },
      "source": [
        "## Run new regression model with filtered dataset - df_new"
      ]
    },
    {
      "cell_type": "markdown",
      "metadata": {
        "id": "ZlB23YQcCzp7"
      },
      "source": [
        "### Create new regression datasets without outliers"
      ]
    },
    {
      "cell_type": "code",
      "execution_count": null,
      "metadata": {
        "id": "yER8Q9FRCzp7"
      },
      "outputs": [],
      "source": [
        "#Code Block 38\n",
        "df_new.columns"
      ]
    },
    {
      "cell_type": "code",
      "execution_count": null,
      "metadata": {
        "id": "84B_xuYoCzp8"
      },
      "outputs": [],
      "source": [
        "#Code Block 39\n",
        "df_reg = df_new[['Amount Funded', 'Total Debt', 'Annual Income', 'Revolving Balance',\n",
        "                'Total Revolving Credit Line', 'Loan_Income', 'Debt_Income', 'RevBal_Line', 'RevBal_Income',\n",
        "                'Income Verification', 'IncVer_Income_act', 'OWN', 'OTHER', 'RENT','Own_RevLine_act','Interest Rate']]\n",
        "X = df_reg.drop([\"Interest Rate\"], axis = 1)\n",
        "y = df_reg[['Interest Rate']]"
      ]
    },
    {
      "cell_type": "code",
      "execution_count": null,
      "metadata": {
        "id": "qDoT1MoFCzp8"
      },
      "outputs": [],
      "source": [
        "#Code Block 40\n",
        "X = sm.add_constant(X) # adding a constant\n",
        "\n",
        "reg3 = sm.OLS(y, X).fit()\n",
        "\n",
        "predictions3 = reg3.predict(X)\n",
        "resid3 = reg3.resid\n",
        "reg3.summary()"
      ]
    },
    {
      "cell_type": "code",
      "execution_count": null,
      "metadata": {
        "id": "VU9ulddjCzp8"
      },
      "outputs": [],
      "source": [
        "#Code Block 41\n",
        "\n",
        "#Create Predictions dataframe\n",
        "df_predictions3 = pd.DataFrame(predictions3)\n",
        "df_predictions3 =df_predictions3.rename(columns = {0:'Int_Pred3'})\n",
        "\n",
        "#Create Residuals dataframe\n",
        "df_resid3 = pd.DataFrame(resid3)\n",
        "df_resid3=df_resid3.rename(columns = {0:'Resid3'})\n",
        "\n",
        "\n",
        "#Concat results into one dataframe\n",
        "df_reg_results = pd.concat([df_reg, df_predictions3, df_resid3], axis=1)\n",
        "\n",
        "df_reg_results.head()"
      ]
    },
    {
      "cell_type": "code",
      "execution_count": null,
      "metadata": {
        "id": "i9UcIxXyCzp8"
      },
      "outputs": [],
      "source": [
        "#Code Block 42\n",
        "vif = pd.DataFrame()\n",
        "vif[\"VIF Factor\"] = [variance_inflation_factor(X.values, i) for i in range(X.shape[1])]\n",
        "vif[\"features\"] = X.columns #adds a column with the labels\n",
        "round(vif, 1).sort_values(by = 'VIF Factor', ascending = False)"
      ]
    },
    {
      "cell_type": "code",
      "execution_count": null,
      "metadata": {
        "id": "cNam_8PhCzp9"
      },
      "outputs": [],
      "source": [
        "#Code Block 43\n",
        "\n",
        "corrMatrix = df_reg.corr()\n",
        "df_corrMatrix = pd.DataFrame(corrMatrix)\n",
        "round(df_corrMatrix,3)"
      ]
    },
    {
      "cell_type": "code",
      "execution_count": null,
      "metadata": {
        "id": "TmkkuBHACzp9"
      },
      "outputs": [],
      "source": [
        "#Code Block 44\n",
        "colormap = plt.cm.viridis\n",
        "plt.figure(figsize=(14,10))\n",
        "plt.title('Correlation Heat Map', y=1.05, size=15)\n",
        "sns.heatmap(df_corrMatrix,linewidths=0.1,vmax=1.0, square=True, cmap=colormap, linecolor='white', annot=True)"
      ]
    },
    {
      "cell_type": "code",
      "execution_count": null,
      "metadata": {
        "scrolled": false,
        "id": "6bDC82QzCzp9"
      },
      "outputs": [],
      "source": [
        "#Code Block 45\n",
        "plt.figure(figsize=(20,10)) #changes area of scatterplot\n",
        "sns.regplot(x='Int_Pred3', y='Resid3',\n",
        "              data = df_reg_results, scatter_kws={\"color\":\"blue\",\"alpha\":0.15, \"s\":100,\"linewidth\":2,\"edgecolor\":\"white\"},\n",
        "              line_kws={'color': 'black'})"
      ]
    }
  ],
  "metadata": {
    "kernelspec": {
      "display_name": "Python 3",
      "language": "python",
      "name": "python3"
    },
    "language_info": {
      "codemirror_mode": {
        "name": "ipython",
        "version": 3
      },
      "file_extension": ".py",
      "mimetype": "text/x-python",
      "name": "python",
      "nbconvert_exporter": "python",
      "pygments_lexer": "ipython3",
      "version": "3.7.7"
    },
    "toc": {
      "base_numbering": 1,
      "nav_menu": {
        "height": "344px",
        "width": "350px"
      },
      "number_sections": true,
      "sideBar": true,
      "skip_h1_title": false,
      "title_cell": "Table of Contents",
      "title_sidebar": "Contents",
      "toc_cell": false,
      "toc_position": {
        "height": "calc(100% - 180px)",
        "left": "10px",
        "top": "150px",
        "width": "266.797px"
      },
      "toc_section_display": true,
      "toc_window_display": true
    },
    "colab": {
      "provenance": []
    }
  },
  "nbformat": 4,
  "nbformat_minor": 0
}