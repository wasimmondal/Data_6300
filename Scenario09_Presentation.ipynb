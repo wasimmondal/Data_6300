{
  "cells": [
    {
      "cell_type": "markdown",
      "metadata": {
        "id": "2rdFMuHYG_gl"
      },
      "source": [
        "<h1 style=\"color:blue;\">Outline of Scenario 9 notebook:</h1>\n",
        "\n",
        "- C1.S9.Py01 -  One-hot encoding of income verification category\n",
        "- C1.S9.Py02 -  Manually encoding the income verification category\n",
        "- C1.S9.Py03 -  Combining multiple categories of verified income and using label encoding\n",
        "- C1.S9.Py04 -  Creating a new regression model with income verification\n",
        "- C1.S9.Py05 -  Adding an interaction feature variable and running a new regression model\n"
      ]
    },
    {
      "cell_type": "code",
      "execution_count": null,
      "metadata": {
        "id": "Zj_ELVZqG_gn"
      },
      "outputs": [],
      "source": [
        "#Code Block 1\n",
        "\n",
        "import numpy as np\n",
        "import pandas as pd\n",
        "import matplotlib.pyplot as plt\n",
        "import seaborn as sns\n",
        "\n",
        "\n",
        "\n",
        "#style options\n",
        "\n",
        "%matplotlib inline\n",
        "#if you want graphs to automatically without plt.show\n",
        "\n",
        "pd.set_option('display.max_columns',500) #allows for up to 500 columns to be displayed when viewing a dataframe\n",
        "\n",
        "plt.style.use('seaborn') #a style that can be used for plots - see style reference above\n",
        "\n"
      ]
    },
    {
      "cell_type": "code",
      "execution_count": null,
      "metadata": {
        "id": "zxEj08-qG_gp"
      },
      "outputs": [],
      "source": [
        "#Code Block 2\n",
        "df = pd.read_csv('data/Scenario9.csv', index_col = 0, header=0)\n",
        "    #DOES set the first column to the index\n",
        "    # and the top row as the headers"
      ]
    },
    {
      "cell_type": "code",
      "execution_count": null,
      "metadata": {
        "scrolled": true,
        "id": "2zM8B2o6G_gq"
      },
      "outputs": [],
      "source": [
        "#Code Block 3\n",
        "df.head(3)"
      ]
    },
    {
      "cell_type": "code",
      "execution_count": null,
      "metadata": {
        "id": "kQbblO-mG_gq"
      },
      "outputs": [],
      "source": [
        "#Code Block 4\n",
        "df.info()"
      ]
    },
    {
      "cell_type": "markdown",
      "metadata": {
        "id": "zRoHKFr5G_gq"
      },
      "source": [
        "<h2 style=\"color:blue;\">C1.S9.Py01 - One-hot encoding of verified income category</h2>\n",
        "\n"
      ]
    },
    {
      "cell_type": "code",
      "execution_count": null,
      "metadata": {
        "id": "ZZpF8viGG_gr"
      },
      "outputs": [],
      "source": [
        "#Code Block 5\n",
        "df['Income Verification'].value_counts(dropna=False)"
      ]
    },
    {
      "cell_type": "markdown",
      "metadata": {
        "id": "TMTD7mybG_gr"
      },
      "source": [
        "### Fill in NaN values with \"Unverified\""
      ]
    },
    {
      "cell_type": "code",
      "execution_count": null,
      "metadata": {
        "id": "XvoxEy8EG_gr"
      },
      "outputs": [],
      "source": [
        "#Code Block 6\n",
        "df['Income Verification'] = df['Income Verification'].fillna(\"Unverified\")\n",
        "df['Income Verification'].value_counts(dropna=False)"
      ]
    },
    {
      "cell_type": "code",
      "execution_count": null,
      "metadata": {
        "id": "ywoTUfPsG_gr"
      },
      "outputs": [],
      "source": [
        "#Code Block 7\n",
        "df_IncomeVerification = pd.DataFrame(df['Income Verification'])\n",
        "df_IncomeVerification.head()"
      ]
    },
    {
      "cell_type": "markdown",
      "metadata": {
        "id": "S0z7xOZgG_gs"
      },
      "source": [
        "### Create 3 columns based on Income Verification\n",
        "- For every unique value in Income Verification, a column will be created.  \n",
        "- Since there are 3 unique values in Income Verification, there will be three columns:\n",
        "    - Verified\n",
        "    - Unverified     \n",
        "    - Source Verified\n",
        "- If a row is **Verified**, then:\n",
        "    - Verified = 1\n",
        "    - Unverified = 0\n",
        "    - Source Verified = 0\n",
        "- If a row is **Unverified**, then:\n",
        "    - Verified = 0\n",
        "    - Unverified = 1\n",
        "    - Source Verified = 0\n",
        "- If a row is **Source Verified**, then:\n",
        "    - Verified = 0\n",
        "    - Unverified = 0\n",
        "    - Source Verified = 1"
      ]
    },
    {
      "cell_type": "code",
      "execution_count": null,
      "metadata": {
        "id": "KKVKG62WG_gs"
      },
      "outputs": [],
      "source": [
        "#Code Block 8\n",
        "dummies_IncomeVerification = pd.get_dummies(df_IncomeVerification['Income Verification'], drop_first = False)\n",
        "dummies_IncomeVerification.head()"
      ]
    },
    {
      "cell_type": "code",
      "execution_count": null,
      "metadata": {
        "id": "js-MluHKG_gs"
      },
      "outputs": [],
      "source": [
        "#Code Block 9\n",
        "df_IncomeVerification = pd.concat([df_IncomeVerification, dummies_IncomeVerification], axis = 1)\n",
        "df_IncomeVerification.head()"
      ]
    },
    {
      "cell_type": "markdown",
      "metadata": {
        "id": "e8S9qRLdG_gt"
      },
      "source": [
        "<h3 style=\"color:blue;\">Let's create dummy variables in a more efficient way </h3>\n",
        "\n",
        "- Create the dummy variables *(ex. Source Verified, Unverified, and Verified)*\n",
        "- Concatenate with the original DataFrame *(ex. df_IncomeVerification with df)*\n",
        "- Drop the original variable that was used to create the dummy variables *(ex. Income Verification)*"
      ]
    },
    {
      "cell_type": "code",
      "execution_count": null,
      "metadata": {
        "id": "8h1BIHNXG_gt"
      },
      "outputs": [],
      "source": [
        "#Code Block 10\n",
        "df_dummy = df.copy()"
      ]
    },
    {
      "cell_type": "code",
      "execution_count": null,
      "metadata": {
        "id": "ABHQqbrNG_gt"
      },
      "outputs": [],
      "source": [
        "#Code Block 11\n",
        "dummies_IncomeVerification = pd.get_dummies(df_dummy['Income Verification'], drop_first = False)\n",
        "df_dummy = pd.concat([df_dummy, dummies_IncomeVerification], axis = 1)\n",
        "df_dummy = df_dummy.drop([\"Income Verification\"], axis = 1)\n",
        "df_dummy.head()"
      ]
    },
    {
      "cell_type": "markdown",
      "metadata": {
        "id": "ahutSWgFG_gt"
      },
      "source": [
        "<h2 style=\"color:blue;\">C1.S9.Py02 - Label encoding of verified income category</h2>\n",
        "\n",
        "### 4 ways to convert a categorical variable (object) into a numerical variable (int)\n",
        "- One-hot encoding (dummy variables) ***Previous Video***\n",
        "- pandas.DataFrame.replace\n",
        "- A custom function\n",
        "- Label encoding from sci-kit learn(sequential numbering based on alphabetical order) ***Next Video***\n"
      ]
    },
    {
      "cell_type": "markdown",
      "metadata": {
        "id": "7X7pXX2jG_gt"
      },
      "source": [
        "### Use pandas.DataFrame.replace\n",
        "- https://pandas.pydata.org/pandas-docs/stable/reference/api/pandas.DataFrame.replace.html\n",
        "- Examples:\n",
        "    - https://www.geeksforgeeks.org/python-pandas-dataframe-replace/\n",
        "    - http://queirozf.com/entries/pandas-dataframe-replace-examples"
      ]
    },
    {
      "cell_type": "code",
      "execution_count": null,
      "metadata": {
        "id": "Zd4zCT_SG_gu"
      },
      "outputs": [],
      "source": [
        "#Code Block 12\n",
        "df_label_ex1 = df.copy()"
      ]
    },
    {
      "cell_type": "code",
      "execution_count": null,
      "metadata": {
        "id": "FUN5bkyVG_gu"
      },
      "outputs": [],
      "source": [
        "#Code Block 13\n",
        "df_label_ex1 = df_label_ex1.replace({\"Unverified\":0})\n",
        "df_label_ex1.head()"
      ]
    },
    {
      "cell_type": "code",
      "execution_count": null,
      "metadata": {
        "id": "lfyYnNzOG_gu"
      },
      "outputs": [],
      "source": [
        "#Code Block 14\n",
        "df_label_ex2 = df.copy()"
      ]
    },
    {
      "cell_type": "code",
      "execution_count": null,
      "metadata": {
        "id": "XyH2-HeLG_gu"
      },
      "outputs": [],
      "source": [
        "#Code Block 15\n",
        "df_label_ex2 = df_label_ex2.replace({'Unverified': 0, 'Verified':1, \"Source Verified\":2})\n",
        "df_label_ex2.head()"
      ]
    },
    {
      "cell_type": "code",
      "execution_count": null,
      "metadata": {
        "id": "9MVUe4XDG_gu"
      },
      "outputs": [],
      "source": [
        "#Code Block 16\n",
        "print(df_label_ex2['Income Verification'].value_counts())\n",
        "df_label_ex2.info()"
      ]
    },
    {
      "cell_type": "markdown",
      "metadata": {
        "id": "LJ194V7pG_gv"
      },
      "source": [
        "### Custom Function for converting categorical variable to numeric"
      ]
    },
    {
      "cell_type": "code",
      "execution_count": null,
      "metadata": {
        "id": "3ipkqkHFG_gv"
      },
      "outputs": [],
      "source": [
        "#Code Block 17\n",
        "df_label_ex3 = df.copy()"
      ]
    },
    {
      "cell_type": "markdown",
      "metadata": {
        "id": "ofxWBz9GG_gv"
      },
      "source": [
        "### Create a new variable"
      ]
    },
    {
      "cell_type": "code",
      "execution_count": null,
      "metadata": {
        "id": "zBTBmUlbG_gv"
      },
      "outputs": [],
      "source": [
        "#Code Block 18\n",
        "def incomever(v):\n",
        "    if v['Income Verification'] == 'Source Verified':\n",
        "        return 2\n",
        "    elif v['Income Verification'] == 'Verified':\n",
        "        return 1\n",
        "    else:\n",
        "        return 0\n",
        "df_label_ex3['IncomeVer_num'] = df_label_ex3.apply(incomever, axis = 1)\n",
        "display(df_label_ex3[['Income Verification', 'IncomeVer_num']].head())\n",
        "df_label_ex3[['Income Verification', 'IncomeVer_num']].dtypes"
      ]
    },
    {
      "cell_type": "markdown",
      "metadata": {
        "id": "RKNp2_ldG_gw"
      },
      "source": [
        "### Replace categorcial variable with numeric values with function"
      ]
    },
    {
      "cell_type": "code",
      "execution_count": null,
      "metadata": {
        "id": "h1eQzHi8G_gw"
      },
      "outputs": [],
      "source": [
        "#Code Block 19\n",
        "df_label_ex4 = df.copy()"
      ]
    },
    {
      "cell_type": "code",
      "execution_count": null,
      "metadata": {
        "id": "0iAxA3ZrG_gw"
      },
      "outputs": [],
      "source": [
        "#Code Block 20\n",
        "def incomever(v):\n",
        "    if v['Income Verification'] == 'Source Verified':\n",
        "        return 2\n",
        "    elif v['Income Verification'] == 'Verified':\n",
        "        return 1\n",
        "    else:\n",
        "        return 0\n",
        "df_label_ex4['Income Verification'] = df_label_ex4.apply(incomever, axis = 1)\n",
        "display(df_label_ex4.head())\n",
        "df_label_ex4['Income Verification'].dtypes"
      ]
    },
    {
      "cell_type": "markdown",
      "metadata": {
        "id": "mGfAfbYGG_gw"
      },
      "source": [
        "<h2 style=\"color:blue;\">C1.S9.Py03 - Combining multiple categories of verified income and using label encoding</h2>\n",
        "\n"
      ]
    },
    {
      "cell_type": "code",
      "execution_count": null,
      "metadata": {
        "id": "31eLXK-iG_gw"
      },
      "outputs": [],
      "source": [
        "#Code Block 21\n",
        "df_reg = df.copy()"
      ]
    },
    {
      "cell_type": "code",
      "execution_count": null,
      "metadata": {
        "id": "adUKCetCG_gw"
      },
      "outputs": [],
      "source": [
        "#Code Block 22\n",
        "df_reg['Income Verification'].value_counts()"
      ]
    },
    {
      "cell_type": "code",
      "execution_count": null,
      "metadata": {
        "id": "HX-4Cs7aG_gx"
      },
      "outputs": [],
      "source": [
        "#Code Block 23\n",
        "df_reg = df_reg.replace({'Source Verified': 'Verified'})\n",
        "df_reg['Income Verification'].value_counts()"
      ]
    },
    {
      "cell_type": "markdown",
      "metadata": {
        "id": "I_OS7S6QG_gx"
      },
      "source": [
        "### What is scikit-learn?\n",
        "- Scikit-learn provides a range of supervised and unsupervised learning algorithms via a consistent interface in Python.\n",
        "- It is the most common machine learning library.\n",
        "\n",
        "https://scikit-learn.org/stable/index.html"
      ]
    },
    {
      "cell_type": "code",
      "execution_count": null,
      "metadata": {
        "id": "S8ZETW6MG_gx"
      },
      "outputs": [],
      "source": [
        "#Code Block 24\n",
        "from sklearn.preprocessing import LabelEncoder\n",
        "lc = LabelEncoder()"
      ]
    },
    {
      "cell_type": "code",
      "execution_count": null,
      "metadata": {
        "id": "mFK9rIQBG_gx"
      },
      "outputs": [],
      "source": [
        "#Code Block 25\n",
        "df_reg['Income Verification'].head()"
      ]
    },
    {
      "cell_type": "markdown",
      "metadata": {
        "id": "jh4O81O7G_gx"
      },
      "source": [
        "### Label encoder converts categorical variables to numeric in alphabetical order"
      ]
    },
    {
      "cell_type": "code",
      "execution_count": null,
      "metadata": {
        "id": "HsU1facBG_gx"
      },
      "outputs": [],
      "source": [
        "#Code Block 26\n",
        "df_reg['IncomeVer_num'] = lc.fit_transform(df_reg['Income Verification'])\n",
        "df_reg[['Income Verification', 'IncomeVer_num']].head()"
      ]
    },
    {
      "cell_type": "markdown",
      "metadata": {
        "id": "H7OMu0psG_g5"
      },
      "source": [
        "### Drop ['Income Verification'] and rename ['IncomeVer_num'] to ['Income Verification']"
      ]
    },
    {
      "cell_type": "code",
      "execution_count": null,
      "metadata": {
        "id": "jqeN9oonG_g5"
      },
      "outputs": [],
      "source": [
        "#Code Block 27\n",
        "df_reg = df_reg.drop([\"Income Verification\"], axis = 1)\n",
        "df_reg = df_reg.rename(columns = {'IncomeVer_num':'Income Verification'})\n",
        "df_reg.info()"
      ]
    },
    {
      "cell_type": "markdown",
      "metadata": {
        "id": "VvRu-6qOG_g5"
      },
      "source": [
        "<h2 style=\"color:blue;\">C1.S9.Py04 - Creating a new regression model with income verification</h2>\n",
        "\n"
      ]
    },
    {
      "cell_type": "code",
      "execution_count": null,
      "metadata": {
        "id": "eAf3oTNxG_g5"
      },
      "outputs": [],
      "source": [
        "#Code Block 28\n",
        "df_reg.head()"
      ]
    },
    {
      "cell_type": "code",
      "execution_count": null,
      "metadata": {
        "id": "lPFdE9j4G_g5"
      },
      "outputs": [],
      "source": [
        "#Code Block 29\n",
        "df_reg.columns"
      ]
    },
    {
      "cell_type": "code",
      "execution_count": null,
      "metadata": {
        "id": "9fW-DAAcG_g6"
      },
      "outputs": [],
      "source": [
        "#Code Block 30\n",
        "df_reg = df_reg[['Interest Rate', 'Amount Funded', 'Total Debt', 'Annual Income', 'Revolving Accounts',\n",
        "                'Total Revolving Credit Line', 'Loan_Income', 'Debt_Income', 'RevBal_Line', 'RevBal_Income',\n",
        "                'Income Verification']]\n",
        "X = df_reg.drop([\"Interest Rate\"], axis = 1)\n",
        "y = df_reg[['Interest Rate']]"
      ]
    },
    {
      "cell_type": "code",
      "execution_count": null,
      "metadata": {
        "id": "eceBXZAeG_g6"
      },
      "outputs": [],
      "source": [
        "#Code Block 31\n",
        "X.info()"
      ]
    },
    {
      "cell_type": "code",
      "execution_count": null,
      "metadata": {
        "id": "lbDgXjd8G_g6"
      },
      "outputs": [],
      "source": [
        "#Code Block 32\n",
        "import statsmodels\n",
        "import statsmodels.api as sm"
      ]
    },
    {
      "cell_type": "code",
      "execution_count": null,
      "metadata": {
        "id": "wXYH-8NxG_g6"
      },
      "outputs": [],
      "source": [
        "#Code Block 33\n",
        "X = sm.add_constant(X) # adding a constant\n",
        "\n",
        "reg1 = sm.OLS(y, X).fit()\n",
        "\n",
        "predictions1 = reg1.predict(X)\n",
        "resid1 = reg1.resid\n",
        "reg1.summary()"
      ]
    },
    {
      "cell_type": "code",
      "execution_count": null,
      "metadata": {
        "id": "dwFCmxcpG_g7"
      },
      "outputs": [],
      "source": [
        "#Code Block 34\n",
        "\n",
        "#Create Predictions dataframe\n",
        "df_predictions1 = pd.DataFrame(predictions1)\n",
        "df_predictions1=df_predictions1.rename(columns = {0:'Int_Pred1'})\n",
        "\n",
        "#Create Residuals dataframe\n",
        "df_resid1 = pd.DataFrame(resid1)\n",
        "df_resid1=df_resid1.rename(columns = {0:'Resid1'})\n",
        "\n",
        "\n",
        "#Concat results into one dataframe\n",
        "df_reg_results = pd.concat([df_reg, df_predictions1, df_resid1], axis=1)\n",
        "df_reg_results.head()"
      ]
    },
    {
      "cell_type": "code",
      "execution_count": null,
      "metadata": {
        "id": "MeK88s62G_g7"
      },
      "outputs": [],
      "source": [
        "#Code Block 35\n",
        "plt.figure(figsize=(20,10)) #changes area of scatterplot\n",
        "sns.regplot(x='Int_Pred1', y='Resid1',\n",
        "              data = df_reg_results, scatter_kws={\"color\":\"blue\",\"alpha\":0.15, \"s\":100,\"linewidth\":2,\"edgecolor\":\"white\"},\n",
        "              line_kws={'color': 'black'})"
      ]
    },
    {
      "cell_type": "code",
      "execution_count": null,
      "metadata": {
        "id": "sJoJLPJMG_g7"
      },
      "outputs": [],
      "source": [
        "#Code Block 36\n",
        "from statsmodels.stats.outliers_influence import variance_inflation_factor"
      ]
    },
    {
      "cell_type": "code",
      "execution_count": null,
      "metadata": {
        "id": "GsGs_RguG_g7"
      },
      "outputs": [],
      "source": [
        "#Code Block 37\n",
        "vif = pd.DataFrame()\n",
        "vif[\"VIF Factor\"] = [variance_inflation_factor(X.values, i) for i in range(X.shape[1])]\n",
        "vif[\"features\"] = X.columns #adds a column with the labels\n",
        "round(vif, 1).sort_values(by = 'VIF Factor', ascending = False)"
      ]
    },
    {
      "cell_type": "code",
      "execution_count": null,
      "metadata": {
        "id": "07ip9T9kG_g7"
      },
      "outputs": [],
      "source": [
        "#Code Block 38\n",
        "\n",
        "corrMatrix = df_reg.corr()\n",
        "df_corrMatrix = pd.DataFrame(corrMatrix)\n",
        "round(df_corrMatrix,3)"
      ]
    },
    {
      "cell_type": "code",
      "execution_count": null,
      "metadata": {
        "id": "xabThkkjG_g8"
      },
      "outputs": [],
      "source": [
        "#Code Block 39\n",
        "colormap = plt.cm.viridis\n",
        "plt.figure(figsize=(14,10))\n",
        "plt.title('Correlation Heat Map', y=1.05, size=15)\n",
        "sns.heatmap(df_corrMatrix,linewidths=0.1,vmax=1.0, square=True, cmap=colormap, linecolor='white', annot=True)"
      ]
    },
    {
      "cell_type": "markdown",
      "metadata": {
        "id": "ohF9ALWjG_g8"
      },
      "source": [
        "<h2 style=\"color:blue;\">C1.S9.Py05 - Adding an interaction feature variable and running a new regression model</h2>\n",
        "\n",
        "- What is an interaction variable?\n",
        "    - https://statisticsbyjim.com/regression/interaction-effects/\n",
        "\n",
        "### Create a variable that shows interactions between ['Income Verification'] and ['Annual Income']\n",
        "- Multiply  ['Income Verification'] and ['Annual Income'] into a new variable named ['IncVer_Income_act']"
      ]
    },
    {
      "cell_type": "code",
      "execution_count": null,
      "metadata": {
        "id": "zhx6CvlEG_g8"
      },
      "outputs": [],
      "source": [
        "#Code Block 40\n",
        "df_reg.head()"
      ]
    },
    {
      "cell_type": "code",
      "execution_count": null,
      "metadata": {
        "id": "NbL-Tep2G_g8"
      },
      "outputs": [],
      "source": [
        "#Code Block 41\n",
        "df_reg['IncVer_Income_act'] = df_reg['Annual Income'] * df_reg['Income Verification']\n",
        "df_reg.head()"
      ]
    },
    {
      "cell_type": "code",
      "execution_count": null,
      "metadata": {
        "id": "_JZCr863G_g8"
      },
      "outputs": [],
      "source": [
        "#Code Block 42\n",
        "X = df_reg.drop([\"Interest Rate\"], axis = 1) #this will include IncVer_Income_act\n",
        "y = df_reg[['Interest Rate']]"
      ]
    },
    {
      "cell_type": "code",
      "execution_count": null,
      "metadata": {
        "id": "JlvhNkLIG_g9"
      },
      "outputs": [],
      "source": [
        "#Code Block 43\n",
        "X = sm.add_constant(X) # adding a constant\n",
        "\n",
        "reg2 = sm.OLS(y, X).fit()\n",
        "\n",
        "predictions2 = reg2.predict(X)\n",
        "resid2 = reg2.resid\n",
        "reg2.summary()"
      ]
    },
    {
      "cell_type": "code",
      "execution_count": null,
      "metadata": {
        "id": "vky5twJUG_g9"
      },
      "outputs": [],
      "source": [
        "#Code Block 44\n",
        "\n",
        "#Create Predictions dataframe\n",
        "df_predictions2 = pd.DataFrame(predictions2)\n",
        "df_predictions2=df_predictions2.rename(columns = {0:'Int_Pred2'})\n",
        "\n",
        "#Create Residuals dataframe\n",
        "df_resid2 = pd.DataFrame(resid2)\n",
        "df_resid2=df_resid2.rename(columns = {0:'Resid2'})\n",
        "\n",
        "\n",
        "#Concat results into one dataframe\n",
        "df_reg_results2 = pd.concat([df_reg, df_predictions1, df_resid1, df_predictions2, df_resid2], axis=1)\n",
        "df_reg_results2.head()"
      ]
    },
    {
      "cell_type": "code",
      "execution_count": null,
      "metadata": {
        "id": "mh9z2JMNG_g9"
      },
      "outputs": [],
      "source": [
        "#Code Block 45\n",
        "plt.figure(figsize=(20,10)) #changes area of scatterplot\n",
        "sns.regplot(x='Int_Pred2', y='Resid2',\n",
        "              data = df_reg_results2, scatter_kws={\"color\":\"blue\",\"alpha\":0.15, \"s\":100,\"linewidth\":2,\"edgecolor\":\"white\"},\n",
        "              line_kws={'color': 'black'})"
      ]
    },
    {
      "cell_type": "code",
      "execution_count": null,
      "metadata": {
        "id": "KEJkL1ADG_g9"
      },
      "outputs": [],
      "source": [
        "#Code Block 46\n",
        "vif = pd.DataFrame()\n",
        "vif[\"VIF Factor\"] = [variance_inflation_factor(X.values, i) for i in range(X.shape[1])]\n",
        "vif[\"features\"] = X.columns #adds a column with the labels\n",
        "round(vif, 1).sort_values(by = 'VIF Factor', ascending = False)"
      ]
    },
    {
      "cell_type": "code",
      "execution_count": null,
      "metadata": {
        "id": "sa1HqcwzG_g9"
      },
      "outputs": [],
      "source": [
        "#Code Block 47\n",
        "\n",
        "corrMatrix = df_reg.corr()\n",
        "df_corrMatrix = pd.DataFrame(corrMatrix)\n",
        "round(df_corrMatrix,3)"
      ]
    },
    {
      "cell_type": "code",
      "execution_count": null,
      "metadata": {
        "id": "0dX5FD1KG_g-"
      },
      "outputs": [],
      "source": [
        "#Code Block 48\n",
        "colormap = plt.cm.viridis\n",
        "plt.figure(figsize=(14,10))\n",
        "plt.title('Correlation Heat Map', y=1.05, size=15)\n",
        "sns.heatmap(df_corrMatrix,linewidths=0.1,vmax=1.0, square=True, cmap=colormap, linecolor='white', annot=True)"
      ]
    },
    {
      "cell_type": "code",
      "execution_count": null,
      "metadata": {
        "id": "kYc6tcFmG_g-"
      },
      "outputs": [],
      "source": []
    }
  ],
  "metadata": {
    "kernelspec": {
      "display_name": "Python 3",
      "language": "python",
      "name": "python3"
    },
    "language_info": {
      "codemirror_mode": {
        "name": "ipython",
        "version": 3
      },
      "file_extension": ".py",
      "mimetype": "text/x-python",
      "name": "python",
      "nbconvert_exporter": "python",
      "pygments_lexer": "ipython3",
      "version": "3.7.7"
    },
    "toc": {
      "base_numbering": 1,
      "nav_menu": {
        "height": "344px",
        "width": "350px"
      },
      "number_sections": true,
      "sideBar": true,
      "skip_h1_title": false,
      "title_cell": "Table of Contents",
      "title_sidebar": "Contents",
      "toc_cell": false,
      "toc_position": {
        "height": "calc(100% - 180px)",
        "left": "10px",
        "top": "150px",
        "width": "266.797px"
      },
      "toc_section_display": true,
      "toc_window_display": true
    },
    "colab": {
      "provenance": []
    }
  },
  "nbformat": 4,
  "nbformat_minor": 0
}