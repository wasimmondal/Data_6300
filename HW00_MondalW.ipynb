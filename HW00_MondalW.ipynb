{
 "cells": [
  {
   "cell_type": "markdown",
   "id": "f45adfc6-c1ca-422c-af26-88725c7a4c71",
   "metadata": {},
   "source": [
    "<h1 style=\"color:black;\">HW00 Getting Started with Jupyter Notebooks</h1>"
   ]
  },
  {
   "cell_type": "markdown",
   "id": "9b1829fa-2e5f-4d1c-96e5-4e4ae4a3d225",
   "metadata": {},
   "source": [
    "**BY WASIM RAJA MONDAL**"
   ]
  },
  {
   "cell_type": "markdown",
   "id": "95475a47-d50c-43f0-b4e8-351ec23531d9",
   "metadata": {},
   "source": [
    "**Import Libraries**"
   ]
  },
  {
   "cell_type": "code",
   "execution_count": 9,
   "id": "0dd3148b-628f-4062-add5-49db09fd264e",
   "metadata": {},
   "outputs": [],
   "source": [
    "#installing numpy"
   ]
  },
  {
   "cell_type": "code",
   "execution_count": 3,
   "id": "c1a96740-664d-4dad-8697-5fa8a9bd36e0",
   "metadata": {},
   "outputs": [
    {
     "name": "stdout",
     "output_type": "stream",
     "text": [
      "Collecting numpy\n",
      "  Downloading numpy-2.2.6-cp311-cp311-macosx_14_0_x86_64.whl.metadata (62 kB)\n",
      "Downloading numpy-2.2.6-cp311-cp311-macosx_14_0_x86_64.whl (6.9 MB)\n",
      "\u001b[2K   \u001b[90m━━━━━━━━━━━━━━━━━━━━━━━━━━━━━━━━━━━━━━━━\u001b[0m \u001b[32m6.9/6.9 MB\u001b[0m \u001b[31m13.0 MB/s\u001b[0m eta \u001b[36m0:00:00\u001b[0ma \u001b[36m0:00:01\u001b[0m\n",
      "\u001b[?25hInstalling collected packages: numpy\n",
      "Successfully installed numpy-2.2.6\n",
      "\n",
      "\u001b[1m[\u001b[0m\u001b[34;49mnotice\u001b[0m\u001b[1;39;49m]\u001b[0m\u001b[39;49m A new release of pip is available: \u001b[0m\u001b[31;49m24.2\u001b[0m\u001b[39;49m -> \u001b[0m\u001b[32;49m25.1.1\u001b[0m\n",
      "\u001b[1m[\u001b[0m\u001b[34;49mnotice\u001b[0m\u001b[1;39;49m]\u001b[0m\u001b[39;49m To update, run: \u001b[0m\u001b[32;49mpip install --upgrade pip\u001b[0m\n"
     ]
    }
   ],
   "source": [
    "!pip install numpy"
   ]
  },
  {
   "cell_type": "code",
   "execution_count": 10,
   "id": "3a5f2007-8f73-482a-9d0a-42529b4dddac",
   "metadata": {},
   "outputs": [],
   "source": [
    "#importing numpy as np"
   ]
  },
  {
   "cell_type": "code",
   "execution_count": 4,
   "id": "13574404-7e84-4dbc-9a1f-5d999d4deb46",
   "metadata": {},
   "outputs": [],
   "source": [
    "import numpy as np"
   ]
  },
  {
   "cell_type": "code",
   "execution_count": 11,
   "id": "cd7061c9-91ba-4a5e-b98d-bcbb74c91053",
   "metadata": {},
   "outputs": [],
   "source": [
    "#installing pandas"
   ]
  },
  {
   "cell_type": "code",
   "execution_count": 5,
   "id": "8c3b88c8-9e43-4c06-af24-9a1f96edce53",
   "metadata": {},
   "outputs": [
    {
     "name": "stdout",
     "output_type": "stream",
     "text": [
      "Collecting pandas\n",
      "  Using cached pandas-2.2.3-cp311-cp311-macosx_10_9_x86_64.whl.metadata (89 kB)\n",
      "Requirement already satisfied: numpy>=1.23.2 in /Library/Frameworks/Python.framework/Versions/3.11/lib/python3.11/site-packages (from pandas) (2.2.6)\n",
      "Requirement already satisfied: python-dateutil>=2.8.2 in /Library/Frameworks/Python.framework/Versions/3.11/lib/python3.11/site-packages (from pandas) (2.9.0.post0)\n",
      "Collecting pytz>=2020.1 (from pandas)\n",
      "  Downloading pytz-2025.2-py2.py3-none-any.whl.metadata (22 kB)\n",
      "Collecting tzdata>=2022.7 (from pandas)\n",
      "  Downloading tzdata-2025.2-py2.py3-none-any.whl.metadata (1.4 kB)\n",
      "Requirement already satisfied: six>=1.5 in /Library/Frameworks/Python.framework/Versions/3.11/lib/python3.11/site-packages (from python-dateutil>=2.8.2->pandas) (1.16.0)\n",
      "Using cached pandas-2.2.3-cp311-cp311-macosx_10_9_x86_64.whl (12.6 MB)\n",
      "Downloading pytz-2025.2-py2.py3-none-any.whl (509 kB)\n",
      "Downloading tzdata-2025.2-py2.py3-none-any.whl (347 kB)\n",
      "Installing collected packages: pytz, tzdata, pandas\n",
      "Successfully installed pandas-2.2.3 pytz-2025.2 tzdata-2025.2\n",
      "\n",
      "\u001b[1m[\u001b[0m\u001b[34;49mnotice\u001b[0m\u001b[1;39;49m]\u001b[0m\u001b[39;49m A new release of pip is available: \u001b[0m\u001b[31;49m24.2\u001b[0m\u001b[39;49m -> \u001b[0m\u001b[32;49m25.1.1\u001b[0m\n",
      "\u001b[1m[\u001b[0m\u001b[34;49mnotice\u001b[0m\u001b[1;39;49m]\u001b[0m\u001b[39;49m To update, run: \u001b[0m\u001b[32;49mpip install --upgrade pip\u001b[0m\n"
     ]
    }
   ],
   "source": [
    "!pip install pandas"
   ]
  },
  {
   "cell_type": "code",
   "execution_count": 12,
   "id": "4acc2e78-ac35-4083-8045-22af0922e2d6",
   "metadata": {},
   "outputs": [],
   "source": [
    "#importing pandas as pd"
   ]
  },
  {
   "cell_type": "code",
   "execution_count": 6,
   "id": "51dcfded-1bd2-4621-b6bd-4c792da66c84",
   "metadata": {},
   "outputs": [],
   "source": [
    "import pandas as pd"
   ]
  },
  {
   "cell_type": "markdown",
   "id": "2cf671bc-9607-48b6-a498-c48e547fb8aa",
   "metadata": {},
   "source": [
    "**Import Data**"
   ]
  },
  {
   "cell_type": "code",
   "execution_count": null,
   "id": "c174ee23-560d-437c-8e1f-5e2d1cb7c5e6",
   "metadata": {},
   "outputs": [],
   "source": [
    "#importing a csv file weather.csv from the directory named as data with index_col=none and header=0"
   ]
  },
  {
   "cell_type": "code",
   "execution_count": 13,
   "id": "2ecd566b-5d84-465f-8bab-d37e9194ae20",
   "metadata": {},
   "outputs": [],
   "source": [
    "#index_col=none suggests no column should be used as index. Pandas will autometically generate a numeric index (0,1,2,..) "
   ]
  },
  {
   "cell_type": "code",
   "execution_count": 14,
   "id": "8da9e897-65b0-406b-b8ea-c5c630a756d8",
   "metadata": {},
   "outputs": [],
   "source": [
    "#header=0 means the first row (row 0) of the csv file contains the column names "
   ]
  },
  {
   "cell_type": "code",
   "execution_count": 7,
   "id": "a5df1aaa-87d5-4775-a745-1d6256a674e2",
   "metadata": {},
   "outputs": [],
   "source": [
    "df_weather = pd.read_csv('data/weather.csv', index_col = None, header=0)"
   ]
  },
  {
   "cell_type": "markdown",
   "id": "048aa6d1-4ecc-4aa8-954e-0fe05e69bf13",
   "metadata": {},
   "source": [
    "**View Data**"
   ]
  },
  {
   "cell_type": "code",
   "execution_count": 16,
   "id": "040e172e-2684-4148-8797-0bc99860853f",
   "metadata": {},
   "outputs": [],
   "source": [
    "#viewing the top 5 rows of df_wather."
   ]
  },
  {
   "cell_type": "code",
   "execution_count": 8,
   "id": "fd7d0281-7b81-4f8a-b781-da14d005898c",
   "metadata": {},
   "outputs": [
    {
     "data": {
      "text/html": [
       "<div>\n",
       "<style scoped>\n",
       "    .dataframe tbody tr th:only-of-type {\n",
       "        vertical-align: middle;\n",
       "    }\n",
       "\n",
       "    .dataframe tbody tr th {\n",
       "        vertical-align: top;\n",
       "    }\n",
       "\n",
       "    .dataframe thead th {\n",
       "        text-align: right;\n",
       "    }\n",
       "</style>\n",
       "<table border=\"1\" class=\"dataframe\">\n",
       "  <thead>\n",
       "    <tr style=\"text-align: right;\">\n",
       "      <th></th>\n",
       "      <th>Date</th>\n",
       "      <th>MaxTemp</th>\n",
       "      <th>MaxTime</th>\n",
       "      <th>MinTemp</th>\n",
       "      <th>MinTime</th>\n",
       "      <th>cloudCover</th>\n",
       "      <th>precipProbability</th>\n",
       "      <th>precipAmount</th>\n",
       "      <th>sunriseTime</th>\n",
       "      <th>sunsetTime</th>\n",
       "      <th>windSpeed</th>\n",
       "    </tr>\n",
       "  </thead>\n",
       "  <tbody>\n",
       "    <tr>\n",
       "      <th>0</th>\n",
       "      <td>3/1/17</td>\n",
       "      <td>68.48</td>\n",
       "      <td>3/1/17 5:00</td>\n",
       "      <td>51.69</td>\n",
       "      <td>2/28/17 9:18</td>\n",
       "      <td>0.96</td>\n",
       "      <td>0.91</td>\n",
       "      <td>0.0184</td>\n",
       "      <td>2/28/17 12:25</td>\n",
       "      <td>2/28/17 23:46</td>\n",
       "      <td>6.20</td>\n",
       "    </tr>\n",
       "    <tr>\n",
       "      <th>1</th>\n",
       "      <td>3/2/17</td>\n",
       "      <td>69.75</td>\n",
       "      <td>3/1/17 10:30</td>\n",
       "      <td>36.00</td>\n",
       "      <td>3/2/17 5:00</td>\n",
       "      <td>0.53</td>\n",
       "      <td>1.00</td>\n",
       "      <td>0.2422</td>\n",
       "      <td>3/1/17 12:24</td>\n",
       "      <td>3/1/17 23:47</td>\n",
       "      <td>9.69</td>\n",
       "    </tr>\n",
       "    <tr>\n",
       "      <th>2</th>\n",
       "      <td>3/3/17</td>\n",
       "      <td>51.93</td>\n",
       "      <td>3/2/17 21:49</td>\n",
       "      <td>30.87</td>\n",
       "      <td>3/2/17 11:39</td>\n",
       "      <td>0.18</td>\n",
       "      <td>0.36</td>\n",
       "      <td>0.0028</td>\n",
       "      <td>3/2/17 12:23</td>\n",
       "      <td>3/2/17 23:48</td>\n",
       "      <td>4.63</td>\n",
       "    </tr>\n",
       "    <tr>\n",
       "      <th>3</th>\n",
       "      <td>3/4/17</td>\n",
       "      <td>44.03</td>\n",
       "      <td>3/3/17 21:51</td>\n",
       "      <td>26.49</td>\n",
       "      <td>3/3/17 14:06</td>\n",
       "      <td>0.14</td>\n",
       "      <td>0.70</td>\n",
       "      <td>0.0017</td>\n",
       "      <td>3/3/17 12:21</td>\n",
       "      <td>3/3/17 23:49</td>\n",
       "      <td>2.26</td>\n",
       "    </tr>\n",
       "    <tr>\n",
       "      <th>4</th>\n",
       "      <td>3/5/17</td>\n",
       "      <td>65.98</td>\n",
       "      <td>3/4/17 21:24</td>\n",
       "      <td>27.40</td>\n",
       "      <td>3/4/17 10:06</td>\n",
       "      <td>0.03</td>\n",
       "      <td>0.00</td>\n",
       "      <td>0.0000</td>\n",
       "      <td>3/4/17 12:20</td>\n",
       "      <td>3/4/17 23:50</td>\n",
       "      <td>4.69</td>\n",
       "    </tr>\n",
       "  </tbody>\n",
       "</table>\n",
       "</div>"
      ],
      "text/plain": [
       "     Date  MaxTemp       MaxTime  MinTemp       MinTime  cloudCover  \\\n",
       "0  3/1/17    68.48   3/1/17 5:00    51.69  2/28/17 9:18        0.96   \n",
       "1  3/2/17    69.75  3/1/17 10:30    36.00   3/2/17 5:00        0.53   \n",
       "2  3/3/17    51.93  3/2/17 21:49    30.87  3/2/17 11:39        0.18   \n",
       "3  3/4/17    44.03  3/3/17 21:51    26.49  3/3/17 14:06        0.14   \n",
       "4  3/5/17    65.98  3/4/17 21:24    27.40  3/4/17 10:06        0.03   \n",
       "\n",
       "   precipProbability  precipAmount    sunriseTime     sunsetTime  windSpeed  \n",
       "0               0.91        0.0184  2/28/17 12:25  2/28/17 23:46       6.20  \n",
       "1               1.00        0.2422   3/1/17 12:24   3/1/17 23:47       9.69  \n",
       "2               0.36        0.0028   3/2/17 12:23   3/2/17 23:48       4.63  \n",
       "3               0.70        0.0017   3/3/17 12:21   3/3/17 23:49       2.26  \n",
       "4               0.00        0.0000   3/4/17 12:20   3/4/17 23:50       4.69  "
      ]
     },
     "execution_count": 8,
     "metadata": {},
     "output_type": "execute_result"
    }
   ],
   "source": [
    "df_weather.head(5)"
   ]
  },
  {
   "cell_type": "code",
   "execution_count": null,
   "id": "5dcd6d89-4f8a-42e5-a2e0-b5d79d2a2348",
   "metadata": {},
   "outputs": [],
   "source": []
  }
 ],
 "metadata": {
  "kernelspec": {
   "display_name": "Python 3 (ipykernel)",
   "language": "python",
   "name": "python3"
  },
  "language_info": {
   "codemirror_mode": {
    "name": "ipython",
    "version": 3
   },
   "file_extension": ".py",
   "mimetype": "text/x-python",
   "name": "python",
   "nbconvert_exporter": "python",
   "pygments_lexer": "ipython3",
   "version": "3.11.5"
  }
 },
 "nbformat": 4,
 "nbformat_minor": 5
}
