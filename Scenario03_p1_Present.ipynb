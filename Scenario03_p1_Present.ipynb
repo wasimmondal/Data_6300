{
 "cells": [
  {
   "cell_type": "markdown",
   "metadata": {},
   "source": [
    "<h1 style=\"color:blue;\">Scenario 3 - Part 1</h1>  \n",
    "\n",
    "- **C1.S3.Py01 - Bar Plots using MatPlotLib and Seaborn**\n",
    "- **C1.S3.Py02 - Bar Plots with Percentages**\n",
    "- **C1.S3.Py03 - Bar Plots with Different Groupings**\n",
    "- **C1.S3.Py03b - Other Categorical Plots**\n",
    "- **C1.S3.Py04 - Pie Charts Compared to Bar Plots**\n",
    "- **C1.S3.Py05 - Histograms**\n",
    "- **C1.S3.Py06 - Describing Data**\n",
    "- **C1.S3.Py07 - Box Plots**\n",
    "- **C1.S3.Py08 - Sub Plots for Comparisons**\n",
    "- **C1.S3.Py09 - How to Transform Data**"
   ]
  },
  {
   "cell_type": "code",
   "execution_count": null,
   "metadata": {},
   "outputs": [],
   "source": [
    "#Code Block 1\n",
    "\n",
    "import numpy as np\n",
    "import pandas as pd\n",
    "import matplotlib.pyplot as plt\n",
    "import seaborn as sns\n",
    "\n",
    "\n",
    "\n",
    "#style options \n",
    "\n",
    "%matplotlib inline  \n",
    "#if you want graphs to automatically without plt.show\n",
    "\n",
    "pd.set_option('display.max_columns',500) #allows for up to 500 columns to be displayed when viewing a dataframe\n",
    "\n",
    "plt.style.use('seaborn') #a style that can be used for plots - see style reference above\n",
    "\n"
   ]
  },
  {
   "cell_type": "code",
   "execution_count": null,
   "metadata": {},
   "outputs": [],
   "source": [
    "#Code Block 2\n",
    "df = pd.read_csv('data/Scenario3.csv', index_col = 0, header=0) \n",
    "    #DOES NOT set the first column to the index\n",
    "    # and the top row as the headers"
   ]
  },
  {
   "cell_type": "code",
   "execution_count": null,
   "metadata": {},
   "outputs": [],
   "source": [
    "#Code Block 3\n",
    "df.info()"
   ]
  },
  {
   "cell_type": "code",
   "execution_count": null,
   "metadata": {},
   "outputs": [],
   "source": [
    "df['Home Ownership'].value_counts()"
   ]
  },
  {
   "cell_type": "markdown",
   "metadata": {},
   "source": [
    "### References for visualizations using MatPlotLib or Seaborn\n",
    "\n",
    "#### Good reference for different plots\n",
    "- http://python-graph-gallery.com/\n",
    "\n",
    "#### Seaborn Reference Guide with examples\n",
    "- https://seaborn.pydata.org/\n",
    "\n",
    "#### MatplotLib Reference Guide with examples\n",
    "- https://matplotlib.org/"
   ]
  },
  {
   "cell_type": "markdown",
   "metadata": {},
   "source": [
    "<h2 style=\"color:blue;\">C1.S3.Py01 - Creating Bar Plots using MatPlotLib and Seaborn</h2> \n",
    "\n",
    "\n",
    "#### Reference for Bar Plots\n",
    "http://python-graph-gallery.com/barplot/"
   ]
  },
  {
   "cell_type": "markdown",
   "metadata": {},
   "source": [
    "**Note:** MatPlotLib and Seaborn were imported in Code Block 1 as plt and sns"
   ]
  },
  {
   "cell_type": "code",
   "execution_count": null,
   "metadata": {},
   "outputs": [],
   "source": [
    "#Code Block 4\n",
    "sns.barplot(x = \"Amount Funded\", data = df)\n",
    "#plt.savefig('plots/barplot_h_AmountFunded.png')"
   ]
  },
  {
   "cell_type": "code",
   "execution_count": null,
   "metadata": {},
   "outputs": [],
   "source": [
    "#Code Block 5\n",
    "sns.barplot(y = \"Amount Funded\", data = df, color='green')\n",
    "#plt.savefig('plots/barplot_h_AmountFunded.png')"
   ]
  },
  {
   "cell_type": "markdown",
   "metadata": {},
   "source": [
    "### Adding title for the plot and x and y axis"
   ]
  },
  {
   "cell_type": "code",
   "execution_count": null,
   "metadata": {},
   "outputs": [],
   "source": [
    "#Code Block 6\n",
    "sns.barplot(y = \"Amount Funded\", data = df)\n",
    "plt.title('Average Amount Funded', fontweight='bold', color = 'blue', fontsize='17', horizontalalignment='center')\n",
    "plt.xlabel('Amount Funded')\n",
    "plt.ylabel('Dollars')\n",
    "#plt.savefig('plots/barplot_h_AmountFundedWithTitle.png')"
   ]
  },
  {
   "cell_type": "markdown",
   "metadata": {},
   "source": [
    "### Group a barplot based on Loan Purpose"
   ]
  },
  {
   "cell_type": "code",
   "execution_count": null,
   "metadata": {},
   "outputs": [],
   "source": [
    "#Code Block 7\n",
    "sns.set(style='white')\n",
    "sns.barplot(x = \"Amount Funded\", y = \"Loan Purpose\", data = df, palette = 'deep')\n",
    "#plt.savefig('plots/barplot_AmountFunded_LoanPurpose.png')"
   ]
  },
  {
   "cell_type": "markdown",
   "metadata": {},
   "source": [
    "### How to create a grouped barplot with MatPlotLib"
   ]
  },
  {
   "cell_type": "code",
   "execution_count": null,
   "metadata": {},
   "outputs": [],
   "source": [
    "#Code Block 8\n",
    "result = df.groupby([\"Loan Purpose\"])['Amount Funded'].mean().reset_index()\n",
    "result"
   ]
  },
  {
   "cell_type": "code",
   "execution_count": null,
   "metadata": {},
   "outputs": [],
   "source": [
    "#Code Block 9\n",
    "result = result.sort_values('Amount Funded', ascending = False)\n",
    "result"
   ]
  },
  {
   "cell_type": "code",
   "execution_count": null,
   "metadata": {},
   "outputs": [],
   "source": [
    "#Code Block 10\n",
    "sns.set(style='white')\n",
    "result.plot(kind='bar', x = \"Loan Purpose\", y = \"Amount Funded\", figsize=(20,4))\n",
    "plt.title('Average Amount Funded', fontweight='bold', color = 'blue', fontsize='17', horizontalalignment='center')"
   ]
  },
  {
   "cell_type": "markdown",
   "metadata": {},
   "source": [
    "### Comparable seaborn barplot "
   ]
  },
  {
   "cell_type": "code",
   "execution_count": null,
   "metadata": {},
   "outputs": [],
   "source": [
    "#Code Block 11\n",
    "sns.set(style='dark')\n",
    "plt.figure(figsize=(20,4))\n",
    "sns.barplot(x = \"Loan Purpose\", y = \"Amount Funded\",  data = df, order = result['Loan Purpose'], palette = 'deep')\n",
    "plt.title('Average Amount Funded', fontweight='bold', color = 'blue', fontsize='17', horizontalalignment='center')\n",
    "#plt.savefig('barplot_AmountFunded_LoanPurposeOrder.png')"
   ]
  },
  {
   "cell_type": "markdown",
   "metadata": {},
   "source": [
    "<h2 style=\"color:blue;\">C1.S3.Py02 - Creating Bar Plots with Percentages</h2> "
   ]
  },
  {
   "cell_type": "code",
   "execution_count": null,
   "metadata": {},
   "outputs": [],
   "source": [
    "#Code Block 12\n",
    "df_loanpurpose = df.groupby([\"Loan Purpose\"])['Amount Funded'].count().reset_index()\n",
    "df_loanpurpose"
   ]
  },
  {
   "cell_type": "code",
   "execution_count": null,
   "metadata": {},
   "outputs": [],
   "source": [
    "#Code Block 13\n",
    "df_loanpurpose.plot(kind='bar', x = \"Loan Purpose\", y = \"Amount Funded\", figsize=(20,4))\n",
    "plt.title('Count Amount Funded', fontweight='bold', color = 'blue', fontsize='17', horizontalalignment='center')"
   ]
  },
  {
   "cell_type": "code",
   "execution_count": null,
   "metadata": {
    "scrolled": true
   },
   "outputs": [],
   "source": [
    "#Code Block 14\n",
    "sns.set(style='whitegrid')\n",
    "plt.figure(figsize=(20,4))\n",
    "sns.countplot(x = \"Loan Purpose\",  data = df, order = result['Loan Purpose'], palette = 'deep')\n",
    "plt.title('Count of Loans by Purpose', fontweight='bold', color = 'blue', fontsize='17', horizontalalignment='center')\n",
    "plt.xlabel('Loan Purpose', fontweight='bold', color = 'green', fontsize='14', horizontalalignment='center')\n",
    "plt.ylabel('Count', fontweight='bold', color = 'green', fontsize='14', horizontalalignment='center')"
   ]
  },
  {
   "cell_type": "code",
   "execution_count": null,
   "metadata": {},
   "outputs": [],
   "source": [
    "#Code Block 15\n",
    "df_total = df_loanpurpose['Amount Funded'].sum()\n",
    "df_total"
   ]
  },
  {
   "cell_type": "code",
   "execution_count": null,
   "metadata": {},
   "outputs": [],
   "source": [
    "#Code Block 16\n",
    "df_loanpurpose['Funded Percent'] = df_loanpurpose['Amount Funded'] / df_total\n",
    "print(df_loanpurpose['Funded Percent'].sum())\n",
    "df_loanpurpose = df_loanpurpose.sort_values('Amount Funded', ascending = False)\n",
    "df_loanpurpose"
   ]
  },
  {
   "cell_type": "code",
   "execution_count": null,
   "metadata": {},
   "outputs": [],
   "source": [
    "#Code Block 17\n",
    "df_loanpurpose.plot(kind='bar', x = \"Loan Purpose\", y = \"Funded Percent\", figsize=(20,10), color = 'green')\n",
    "plt.title('Percentage of Loans per Purpose', fontweight='bold', color = 'green', fontsize='17', horizontalalignment='center')\n",
    "#plt.savefig('barplot_AmountFundedPercent_LoanPurpose.png')"
   ]
  },
  {
   "cell_type": "markdown",
   "metadata": {},
   "source": [
    "### Embellishments of a plot\n",
    " - palette - https://seaborn.pydata.org/tutorial/color_palettes.html\n",
    " - order - allows bar to go from large to small or small to large\n",
    " - title - top title for the plot, you can also change its format\n",
    " - legend - https://matplotlib.org/api/_as_gen/matplotlib.pyplot.legend.html"
   ]
  },
  {
   "cell_type": "markdown",
   "metadata": {},
   "source": [
    "<h2 style=\"color:blue;\">C1.S3.Py03 - Creating Bar Plots with Different Groupings</h2>  \n",
    "\n",
    "- Look at groupings to combine categories"
   ]
  },
  {
   "cell_type": "code",
   "execution_count": null,
   "metadata": {
    "scrolled": false
   },
   "outputs": [],
   "source": [
    "#Code Block 18\n",
    "sns.set(style='white')\n",
    "plt.figure(figsize=(20,8))\n",
    "sns.countplot(x = \"Loan Purpose\",  data = df, palette=\"Paired\", order = df_loanpurpose['Loan Purpose'])\n",
    "plt.title('Average Amount Funded', fontweight='bold', color = 'blue', fontsize='17', horizontalalignment='center')"
   ]
  },
  {
   "cell_type": "code",
   "execution_count": null,
   "metadata": {},
   "outputs": [],
   "source": [
    "#Code Block 19\n",
    "df_loanpurpose.loc[df_loanpurpose['Funded Percent'] < 0.05, 'Loan Category'] = 'Other' \n",
    "df_loanpurpose.loc[df_loanpurpose['Funded Percent'] >= 0.05, 'Loan Category'] = df_loanpurpose['Loan Purpose']"
   ]
  },
  {
   "cell_type": "code",
   "execution_count": null,
   "metadata": {},
   "outputs": [],
   "source": [
    "#Code Block 20\n",
    "df_loanpurpose_other = df_loanpurpose.groupby(['Loan Category']).sum().reset_index()\n",
    "df_loanpurpose_other"
   ]
  },
  {
   "cell_type": "code",
   "execution_count": null,
   "metadata": {},
   "outputs": [],
   "source": [
    "#Code Block 21\n",
    "sns.set(style='dark')\n",
    "plt.figure(figsize=(20,4))\n",
    "sns.barplot(x = \"Loan Category\", y = \"Amount Funded\",  data = df_loanpurpose_other, palette = 'deep')\n",
    "plt.title('Count of Loans Funded', fontweight='bold', color = 'blue', fontsize='17', horizontalalignment='center')\n",
    "plt.xlabel('Loan Category', fontweight='bold', color = 'green', fontsize='14', horizontalalignment='center')\n",
    "plt.ylabel('Count', fontweight='bold', color = 'green', fontsize='14', horizontalalignment='center')"
   ]
  },
  {
   "cell_type": "code",
   "execution_count": null,
   "metadata": {},
   "outputs": [],
   "source": [
    "#Code Block 22\n",
    "sns.set(style='dark')\n",
    "plt.figure(figsize=(20,4))\n",
    "sns.barplot(x = \"Loan Category\", y = \"Funded Percent\",  data = df_loanpurpose_other, palette = 'Purples', order = df_loanpurpose_other['Loan Category'])\n",
    "plt.title('Count of Loans Funded', fontweight='bold', color = 'blue', fontsize='17', horizontalalignment='center')\n",
    "plt.xlabel('Loan Category', fontweight='bold', color = 'green', fontsize='14', horizontalalignment='center')\n",
    "plt.ylabel('Percentage', fontweight='bold', color = 'green', fontsize='14', horizontalalignment='center')"
   ]
  },
  {
   "cell_type": "markdown",
   "metadata": {},
   "source": [
    "<h2 style=\"color:blue;\">C1.S3.Py03b - Other Categorical Plots</h2>  \n",
    "\n",
    "- Plotting with categorical data - https://seaborn.pydata.org/tutorial.html\n",
    "\n",
    "### Categorical scatterplots:\n",
    "\n",
    "- :func:`stripplot` (with ``kind=\"strip\"``; the default)\n",
    "- :func:`swarmplot` (with ``kind=\"swarm\"``)\n",
    "\n",
    "### Categorical distribution plots:\n",
    "\n",
    "- :func:`boxplot` (with ``kind=\"box\"``)\n",
    "- :func:`violinplot` (with ``kind=\"violin\"``)\n",
    "- :func:`boxenplot` (with ``kind=\"boxen\"``)\n",
    "\n",
    "### Categorical estimate plots:\n",
    "\n",
    "- :func:`pointplot` (with ``kind=\"point\"``)\n",
    "- :func:`barplot` (with ``kind=\"bar\"``)\n",
    "- :func:`countplot` (with ``kind=\"count\"``)"
   ]
  },
  {
   "cell_type": "code",
   "execution_count": null,
   "metadata": {},
   "outputs": [],
   "source": [
    "#Code Block 23\n",
    "sns.set(style='dark')\n",
    "plt.figure(figsize=(20,4))\n",
    "g = sns.catplot(y = \"Loan Purpose\", x = \"Amount Funded\", data = df, palette = 'Dark2_r')\n",
    "g.fig.set_size_inches(20,5)"
   ]
  },
  {
   "cell_type": "code",
   "execution_count": null,
   "metadata": {},
   "outputs": [],
   "source": [
    "#Code Block 24\n",
    "sns.set(style='dark')\n",
    "\n",
    "g = sns.catplot(y = \"Loan Purpose\", x = \"Amount Funded\", data = df, palette = 'deep', hue = \"Home Ownership\")\n",
    "g.fig.set_size_inches(30,10)"
   ]
  },
  {
   "cell_type": "code",
   "execution_count": null,
   "metadata": {
    "scrolled": false
   },
   "outputs": [],
   "source": [
    "#Code Block 25\n",
    "sns.set(style='dark')\n",
    "plt.figure(figsize=(20,8))\n",
    "sns.stripplot(y = \"Loan Purpose\", x = \"Amount Funded\",  data = df, hue = 'Home Ownership', dodge=True, alpha=.25, zorder=1, palette=\"GnBu_r\")\n",
    "sns.pointplot(y = \"Loan Purpose\", x = \"Amount Funded\",  data = df, hue = 'Home Ownership', dodge=.532, join=False, palette=\"Reds\",\n",
    "              markers=\"d\", scale=1, ci=None)\n"
   ]
  },
  {
   "cell_type": "code",
   "execution_count": null,
   "metadata": {
    "scrolled": true
   },
   "outputs": [],
   "source": [
    "#Code Block 26\n",
    "sns.set(style='white')\n",
    "plt.figure(figsize=(20,4))\n",
    "sns.countplot(x = \"Loan Purpose\",  data = df, palette=\"Paired\", order = df_loanpurpose['Loan Purpose'])\n",
    "plt.title('Average Amount Funded', fontweight='bold', color = 'blue', fontsize='17', horizontalalignment='center')"
   ]
  },
  {
   "cell_type": "code",
   "execution_count": null,
   "metadata": {
    "scrolled": false
   },
   "outputs": [],
   "source": [
    "#Code Block 27\n",
    "sns.set(style='dark')\n",
    "plt.figure(figsize=(20,8))\n",
    "sns.countplot(x = \"Loan Purpose\",  data = df, order = df_loanpurpose['Loan Purpose'], palette = 'deep', hue = 'Home Ownership')\n",
    "plt.title('Average Amount Funded', fontweight='bold', color = 'blue', fontsize='17', horizontalalignment='center')"
   ]
  },
  {
   "cell_type": "code",
   "execution_count": null,
   "metadata": {
    "scrolled": true
   },
   "outputs": [],
   "source": [
    "#Code Block 28\n",
    "sns.set(style='dark')\n",
    "plt.figure(figsize=(20,4))\n",
    "sns.barplot(x = \"Loan Purpose\", y = \"Amount Funded\",  capsize=.1, data = df, order = result['Loan Purpose'], palette = 'deep', hue = 'Home Ownership')\n",
    "plt.title('Average Amount Funded', fontweight='bold', color = 'blue', fontsize='17', horizontalalignment='center')\n",
    "plt.legend(loc='upper right')"
   ]
  },
  {
   "cell_type": "markdown",
   "metadata": {},
   "source": [
    "<h2 style=\"color:blue;\">C1.S3.Py04 - Creating Pie Charts Compared to Bar Plots</h2>   \n",
    "\n",
    "https://matplotlib.org/api/_as_gen/matplotlib.pyplot.pie.html?highlight=pie#matplotlib.pyplot.pie"
   ]
  },
  {
   "cell_type": "code",
   "execution_count": null,
   "metadata": {},
   "outputs": [],
   "source": [
    "#Code Block 29\n",
    "df_homeownership = df.groupby('Home Ownership')['Amount Funded'].count().reset_index()\n",
    "df_homeownership = df_homeownership.sort_values('Amount Funded', ascending = False)\n",
    "df_homeownership"
   ]
  },
  {
   "cell_type": "code",
   "execution_count": null,
   "metadata": {
    "scrolled": true
   },
   "outputs": [],
   "source": [
    "#Code Block 30\n",
    "plt.pie(df_homeownership['Amount Funded'], labels=df_homeownership['Home Ownership'], shadow=True, startangle=200)\n",
    "plt.savefig('plots/piechart_HomeOwnership.png')"
   ]
  },
  {
   "cell_type": "code",
   "execution_count": null,
   "metadata": {},
   "outputs": [],
   "source": [
    "#Code Block 31\n",
    "plt.figure(figsize=(20,20))\n",
    "plt.pie(df_homeownership['Amount Funded'], labels=df_homeownership['Home Ownership'], shadow=False, startangle=200)"
   ]
  },
  {
   "cell_type": "code",
   "execution_count": null,
   "metadata": {},
   "outputs": [],
   "source": [
    "#Code Block 32\n",
    "plt.figure(figsize=(10,10))\n",
    "plt.pie(df_homeownership['Amount Funded'], explode = (0, 0, .2, 0, 0), wedgeprops = {'linewidth': 3}, labels=df_homeownership['Home Ownership'], startangle=140, autopct='%1.1f%%')\n",
    "plt.savefig('plots/piechart_HomeOwnership_Explode.png')"
   ]
  },
  {
   "cell_type": "markdown",
   "metadata": {},
   "source": [
    "### Creating subplots to compare pie charts and bar plots\n",
    "\n",
    "- Link to show how to create subplots - https://python-graph-gallery.com/194-split-the-graphic-window-with-subplot/"
   ]
  },
  {
   "cell_type": "code",
   "execution_count": null,
   "metadata": {},
   "outputs": [],
   "source": [
    "#Code Block 33\n",
    "plt.style.use('ggplot')\n",
    "plt.figure(figsize=(20,8))\n",
    "plt.subplot(121)\n",
    "plt.pie(df_homeownership['Amount Funded'], wedgeprops = {'linewidth': 3}, labels=df_homeownership['Home Ownership'], startangle=140, autopct='%1.1f%%')\n",
    "plt.subplot(122)\n",
    "sns.barplot(y = \"Home Ownership\", x = \"Amount Funded\",  data = df_homeownership)\n",
    "plt.savefig('plots/piechart_barplot_HomeOwnership.png')"
   ]
  },
  {
   "cell_type": "code",
   "execution_count": null,
   "metadata": {},
   "outputs": [],
   "source": [
    "#Code Block 34\n",
    "sns.set(style='dark')\n",
    "plt.figure(figsize=(20,16))\n",
    "plt.subplot(121)\n",
    "plt.pie(df_loanpurpose['Funded Percent'], labels=df_loanpurpose['Loan Purpose'], startangle=180, autopct='%1.1f%%')\n",
    "plt.subplot(122)\n",
    "sns.barplot(y = \"Loan Purpose\", x = \"Amount Funded\",  data = df_loanpurpose, palette = 'deep')\n",
    "plt.savefig('plots/piechart_barplot_LoanPurpose.png')"
   ]
  },
  {
   "cell_type": "code",
   "execution_count": null,
   "metadata": {},
   "outputs": [],
   "source": [
    "#Code Block 35\n",
    "sns.set(style='dark')\n",
    "plt.figure(figsize=(20,8))\n",
    "plt.subplot(121)\n",
    "plt.pie(df_loanpurpose_other['Funded Percent'], explode = (0.2, 0, 0), wedgeprops = {'linewidth': 3}, labels=df_loanpurpose_other['Loan Category'], startangle=140, autopct='%1.1f%%')\n",
    "plt.subplot(122)\n",
    "sns.barplot(x = \"Loan Category\", y = \"Amount Funded\",  data = df_loanpurpose_other, palette = 'deep')\n",
    "plt.savefig('plots/piechart_barplot_LoanCategory.png')"
   ]
  },
  {
   "cell_type": "markdown",
   "metadata": {},
   "source": [
    "<h2 style=\"color:blue;\">C1.S3.Py05 - Creating a Histogram</h2> "
   ]
  },
  {
   "cell_type": "code",
   "execution_count": null,
   "metadata": {},
   "outputs": [],
   "source": [
    "#Code Block 36\n",
    "# Plot a simple histogram with binsize determined automatically\n",
    "sns.distplot(df['Interest Rate'], kde=False, color=\"b\")"
   ]
  },
  {
   "cell_type": "code",
   "execution_count": null,
   "metadata": {},
   "outputs": [],
   "source": [
    "#Code Block 37\n",
    "# Plot a kernel density estimate and rug plot\n",
    "sns.distplot(df['Interest Rate'], hist=False, rug=True, color=\"r\")"
   ]
  },
  {
   "cell_type": "code",
   "execution_count": null,
   "metadata": {},
   "outputs": [],
   "source": [
    "#Code Block 38\n",
    "sns.distplot(df['Interest Rate'], hist=False, color=\"g\", kde_kws={\"shade\": True})"
   ]
  },
  {
   "cell_type": "code",
   "execution_count": null,
   "metadata": {
    "scrolled": true
   },
   "outputs": [],
   "source": [
    "#Code Block 39\n",
    "# Plot a histogram and kernel density estimate and color magenta\n",
    "sns.distplot(df['Interest Rate'], color=\"m\", bins=10)"
   ]
  },
  {
   "cell_type": "markdown",
   "metadata": {},
   "source": [
    "<h2 style=\"color:blue;\">C1.S3.Py06 - Describing Data</h2>  "
   ]
  },
  {
   "cell_type": "code",
   "execution_count": null,
   "metadata": {},
   "outputs": [],
   "source": [
    "#Code Block 40\n",
    "df.head()"
   ]
  },
  {
   "cell_type": "code",
   "execution_count": null,
   "metadata": {},
   "outputs": [],
   "source": [
    "#Code Block 41\n",
    "df.describe()"
   ]
  },
  {
   "cell_type": "code",
   "execution_count": null,
   "metadata": {},
   "outputs": [],
   "source": [
    "#Code Block 42\n",
    "df.describe(include='all')"
   ]
  },
  {
   "cell_type": "code",
   "execution_count": null,
   "metadata": {},
   "outputs": [],
   "source": [
    "#Code Block 43\n",
    "df[['Interest Rate', 'Annual Income', 'Amount Funded']].describe()"
   ]
  },
  {
   "cell_type": "code",
   "execution_count": null,
   "metadata": {},
   "outputs": [],
   "source": [
    "#Code Block 44\n",
    "df['Interest Rate'].describe()"
   ]
  },
  {
   "cell_type": "code",
   "execution_count": null,
   "metadata": {},
   "outputs": [],
   "source": [
    "#Code Block 45\n",
    "df_int_rate = df['Interest Rate'].describe().reset_index()\n",
    "df_int_rate"
   ]
  },
  {
   "cell_type": "code",
   "execution_count": null,
   "metadata": {},
   "outputs": [],
   "source": [
    "#Code Block 46\n",
    "int_skew = df['Interest Rate'].skew()\n",
    "int_skew"
   ]
  },
  {
   "cell_type": "code",
   "execution_count": null,
   "metadata": {},
   "outputs": [],
   "source": [
    "#Code Block 47\n",
    "new_row = {'index':'skew', 'Interest Rate': int_skew}\n",
    "#append row to the dataframe\n",
    "df_int_rate = df_int_rate.append(new_row, ignore_index=True)\n",
    "df_int_rate"
   ]
  },
  {
   "cell_type": "code",
   "execution_count": null,
   "metadata": {},
   "outputs": [],
   "source": [
    "#Code Block 48\n",
    "int_median = df['Interest Rate'].median()\n",
    "new_row = {'index':'median', 'Interest Rate': int_median}\n",
    "#append row to the dataframe\n",
    "df_int_rate = df_int_rate.append(new_row, ignore_index=True)\n",
    "\n",
    "int_var = df['Interest Rate'].var()\n",
    "new_row = {'index':'var', 'Interest Rate': int_var}\n",
    "#append row to the dataframe\n",
    "df_int_rate = df_int_rate.append(new_row, ignore_index=True)\n",
    "\n",
    "df_int_rate"
   ]
  },
  {
   "cell_type": "markdown",
   "metadata": {},
   "source": [
    "<h2 style=\"color:blue;\">C1.S3.Py07 - Creating Box Plots</h2>   "
   ]
  },
  {
   "cell_type": "code",
   "execution_count": null,
   "metadata": {},
   "outputs": [],
   "source": [
    "#Code Block 49\n",
    "df['Amount Funded'].plot(kind= 'box')"
   ]
  },
  {
   "cell_type": "code",
   "execution_count": null,
   "metadata": {},
   "outputs": [],
   "source": [
    "#Code Block 51\n",
    "sns.boxplot(y = \"Amount Funded\",  data = df)"
   ]
  },
  {
   "cell_type": "code",
   "execution_count": null,
   "metadata": {
    "scrolled": false
   },
   "outputs": [],
   "source": [
    "#Code Block 52\n",
    "plt.figure(figsize=(20,8))\n",
    "sns.boxplot(y = \"Amount Funded\", x = \"Home Ownership\", data = df)\n",
    "plt.savefig('plots/Boxplot_Homeownership.png')"
   ]
  },
  {
   "cell_type": "code",
   "execution_count": null,
   "metadata": {
    "scrolled": false
   },
   "outputs": [],
   "source": [
    "#Code Block 53\n",
    "plt.figure(figsize=(20,8))\n",
    "sns.boxplot(x = \"Amount Funded\", y = \"Home Ownership\", data = df)"
   ]
  },
  {
   "cell_type": "code",
   "execution_count": null,
   "metadata": {},
   "outputs": [],
   "source": [
    "#Code Block 54\n",
    "plt.figure(figsize=(20,8))\n",
    "sns.boxplot(y = \"Amount Funded\", x = \"Loan Purpose\", data = df)\n",
    "plt.savefig('plots/Boxplot_LoanPurpose.png')"
   ]
  },
  {
   "cell_type": "markdown",
   "metadata": {},
   "source": [
    "<h2 style=\"color:blue;\">C1.S3.Py08 - How to Create Sub Plots for Comparisons     </h2>    "
   ]
  },
  {
   "cell_type": "code",
   "execution_count": null,
   "metadata": {
    "scrolled": false
   },
   "outputs": [],
   "source": [
    "#Code Block 55\n",
    "plt.figure(figsize=(16,8))\n",
    "plt.title('Boxplot', fontweight='bold', color = 'green', fontsize='17', horizontalalignment='center')\n",
    "sns.boxplot(y = \"Annual Income\", x = \"Home Ownership\", data = df, palette = \"Greens\")"
   ]
  },
  {
   "cell_type": "code",
   "execution_count": null,
   "metadata": {},
   "outputs": [],
   "source": [
    "#Code Block 56\n",
    "plt.figure(figsize=(20,8))\n",
    "plt.title('Violinplot', fontweight='bold', color = 'blue', fontsize='17', horizontalalignment='center')\n",
    "sns.violinplot(y = \"Annual Income\", x = \"Home Ownership\", data = df, palette = \"Blues\")"
   ]
  },
  {
   "cell_type": "code",
   "execution_count": null,
   "metadata": {},
   "outputs": [],
   "source": [
    "#Code Block 57\n",
    "plt.figure(figsize=(20,8))\n",
    "plt.title('Boxenplot', fontweight='bold', color = 'red', fontsize='17', horizontalalignment='center')\n",
    "sns.boxenplot(y = \"Annual Income\", x = \"Home Ownership\", data = df, palette = \"Reds\")"
   ]
  },
  {
   "cell_type": "code",
   "execution_count": null,
   "metadata": {},
   "outputs": [],
   "source": [
    "#Code Block 58\n",
    "plt.figure(figsize=(20,4))\n",
    "plt.subplot(131)\n",
    "plt.title('Boxplot', fontweight='bold', color = 'green', fontsize='17', horizontalalignment='center')\n",
    "sns.boxplot(y = \"Annual Income\", x = \"Home Ownership\", data = df, palette = \"Greens\")\n",
    "plt.subplot(132)\n",
    "plt.title('Violinplot', fontweight='bold', color = 'blue', fontsize='17', horizontalalignment='center')\n",
    "sns.violinplot(y = \"Annual Income\", x = \"Home Ownership\", data = df, palette = \"Blues\")\n",
    "plt.subplot(133)\n",
    "plt.title('Boxenplot', fontweight='bold', color = 'red', fontsize='17', horizontalalignment='center')\n",
    "sns.boxenplot(y = \"Annual Income\", x = \"Home Ownership\", data = df, palette = \"Reds\")"
   ]
  },
  {
   "cell_type": "code",
   "execution_count": null,
   "metadata": {},
   "outputs": [],
   "source": [
    "#Code Block 59\n",
    "df_income_onemil = df[df['Annual Income'] < 1000000]"
   ]
  },
  {
   "cell_type": "code",
   "execution_count": null,
   "metadata": {
    "scrolled": false
   },
   "outputs": [],
   "source": [
    "#Code Block 60\n",
    "plt.figure(figsize=(16,8))\n",
    "plt.title('Boxplot', fontweight='bold', color = 'green', fontsize='17', horizontalalignment='center')\n",
    "sns.boxplot(y = \"Annual Income\", x = \"Home Ownership\", data = df_income_onemil, palette = \"Greens\")\n"
   ]
  },
  {
   "cell_type": "code",
   "execution_count": null,
   "metadata": {
    "scrolled": false
   },
   "outputs": [],
   "source": [
    "#Code Block 61\n",
    "plt.figure(figsize=(16,8))\n",
    "plt.title('Boxplot', fontweight='bold', color = 'green', fontsize='17', horizontalalignment='center')\n",
    "plt.ylim((0,1000000))\n",
    "sns.boxplot(y = \"Annual Income\", x = \"Home Ownership\", data = df, palette = \"Greens\")\n"
   ]
  },
  {
   "cell_type": "code",
   "execution_count": null,
   "metadata": {},
   "outputs": [],
   "source": [
    "#Code Block 62\n",
    "plt.figure(figsize=(16,8))\n",
    "plt.title('Boxplot', fontweight='bold', color = 'green', fontsize='17', horizontalalignment='center')\n",
    "plt.ylim((0,400000))\n",
    "sns.boxplot(y = \"Annual Income\", x = \"Home Ownership\", data = df, palette = \"Greens\")\n"
   ]
  },
  {
   "cell_type": "code",
   "execution_count": null,
   "metadata": {},
   "outputs": [],
   "source": [
    "#Code Block 63\n",
    "plt.figure(figsize=(20,12))\n",
    "ax1 = plt.subplot2grid((2, 2), (0, 0), colspan=2)\n",
    "plt.title('Boxplot', fontweight='bold', color = 'green', fontsize='17', horizontalalignment='center')\n",
    "plt.ylim((0,400000))\n",
    "ax1 = sns.boxplot(y = \"Annual Income\", x = \"Home Ownership\", data = df, palette = \"Greens\")\n",
    "ax2 = plt.subplot2grid((2, 2), (1, 0), colspan=1)\n",
    "plt.title('Violinplot', fontweight='bold', color = 'blue', fontsize='17', horizontalalignment='center')\n",
    "ax2 = sns.violinplot(y = \"Annual Income\", x = \"Home Ownership\", data = df, palette = \"Blues\")\n",
    "ax3 = plt.subplot2grid((2, 2), (1, 1), colspan=1)\n",
    "plt.ylim((0,1000000))\n",
    "plt.title('Boxenplot', fontweight='bold', color = 'red', fontsize='17', horizontalalignment='center')\n",
    "ax3 = sns.boxenplot(y = \"Annual Income\", x = \"Home Ownership\", data = df, palette = \"Reds\")\n",
    "plt.savefig('plots/Box_Violin_BoxenPlots_Homeownership.png')"
   ]
  },
  {
   "cell_type": "markdown",
   "metadata": {},
   "source": [
    "<h2 style=\"color:blue;\">C1.S3.Py09 How to Transform Data</h2>   "
   ]
  },
  {
   "cell_type": "code",
   "execution_count": null,
   "metadata": {},
   "outputs": [],
   "source": [
    "#Code Block 64\n",
    "df_income = df['Annual Income']\n",
    "df_income = pd.DataFrame(df_income).reset_index()\n",
    "df_income"
   ]
  },
  {
   "cell_type": "markdown",
   "metadata": {},
   "source": [
    "### Z-Score Explained\n",
    "- https://www.statisticshowto.com/probability-and-statistics/z-score/\n",
    "\n",
    "#### Example of a z-score\n",
    "- mean = 10\n",
    "- standard deviation = 5\n",
    "- X = 17.5\n",
    "- Z-score = (17.5 - 10) / 5 = 1.5"
   ]
  },
  {
   "cell_type": "code",
   "execution_count": null,
   "metadata": {},
   "outputs": [],
   "source": [
    "#Code Block 65\n",
    "mean_income = df_income['Annual Income'].mean()\n",
    "stdev_income = df_income['Annual Income'].std()\n",
    "df_income['z_score'] = ((df_income['Annual Income']-mean_income)/stdev_income)\n",
    "df_income"
   ]
  },
  {
   "cell_type": "markdown",
   "metadata": {},
   "source": [
    "### What is a log?\n",
    "- How many of one number do we multiply to get another number?\n",
    "\n",
    "#### log(e) \n",
    "- Also known as the natural log used Euler's Number which is approximately 2.718\n",
    "- Example: loge(7.389) ≈ 2 - because 2.71828^2 ≈ 7.389\n",
    "\n",
    "#### log2\n",
    "- What is log2(64)?\n",
    "- We are asking \"how many 2s need to be multiplied together to get 64?\"\n",
    "- 2 × 2 × 2 × 2 × 2 × 2 = 64, so we need 6 of the 2s\n",
    "- Answer: log2(64) = 6\n",
    "\n",
    "#### log10\n",
    "- What is log10(1000)?\n",
    "- We are asking \"how many 10s need to be multiplied together to get 1000?\"\n",
    "- 10 × 10 × 10 = 1000, so we need 3 of the 10s\n",
    "- Answer: log100(1000) = 3"
   ]
  },
  {
   "cell_type": "code",
   "execution_count": null,
   "metadata": {},
   "outputs": [],
   "source": [
    "#Code Block 66\n",
    "df_income['loge'] = np.log(df_income['Annual Income'])\n",
    "df_income['log2'] = np.log2(df_income['Annual Income'])\n",
    "df_income['log10'] = np.log10(df_income['Annual Income'])\n",
    "df_income.head(15)"
   ]
  },
  {
   "cell_type": "code",
   "execution_count": null,
   "metadata": {},
   "outputs": [],
   "source": [
    "#Code Block 67\n",
    "plt.figure(figsize=(20,16))\n",
    "plt.subplot(231)\n",
    "plt.title('Raw Data', fontweight='bold', color = 'green', fontsize='17', horizontalalignment='center')\n",
    "sns.distplot(df_income['Annual Income'], color=\"g\", bins = 20)\n",
    "plt.subplot(232)\n",
    "plt.title('Z Score', fontweight='bold', color = 'blue', fontsize='17', horizontalalignment='center')\n",
    "sns.distplot(df_income['z_score'], color=\"b\", bins = 20)\n",
    "plt.subplot(233)\n",
    "plt.title('Natural log', fontweight='bold', color = 'red', fontsize='17', horizontalalignment='center')\n",
    "sns.distplot(df_income['loge'], color=\"r\", bins = 20)\n",
    "plt.subplot(234)\n",
    "plt.title('Log2', fontweight='bold', color = 'black', fontsize='17', horizontalalignment='center')\n",
    "sns.distplot(df_income['log2'], color=\"y\", bins = 20)\n",
    "plt.subplot(235)\n",
    "plt.title('Log10', fontweight='bold', color = 'red', fontsize='17', horizontalalignment='center')\n",
    "sns.distplot(df_income['log10'], color=\"m\", bins = 20)\n",
    "plt.subplot(236)\n",
    "plt.title('Log10', fontweight='bold', color = 'red', fontsize='17', horizontalalignment='center')\n",
    "sns.distplot(df_income['log10'], color=\"m\", bins = 50)\n",
    "plt.savefig('plots/Transform_Histogram_AnnualIncome.png')"
   ]
  },
  {
   "cell_type": "code",
   "execution_count": null,
   "metadata": {},
   "outputs": [],
   "source": []
  }
 ],
 "metadata": {
  "kernelspec": {
   "display_name": "Python 3",
   "language": "python",
   "name": "python3"
  },
  "language_info": {
   "codemirror_mode": {
    "name": "ipython",
    "version": 3
   },
   "file_extension": ".py",
   "mimetype": "text/x-python",
   "name": "python",
   "nbconvert_exporter": "python",
   "pygments_lexer": "ipython3",
   "version": "3.7.7"
  },
  "toc": {
   "base_numbering": 1,
   "nav_menu": {
    "height": "344px",
    "width": "350px"
   },
   "number_sections": true,
   "sideBar": true,
   "skip_h1_title": false,
   "title_cell": "Table of Contents",
   "title_sidebar": "Contents",
   "toc_cell": false,
   "toc_position": {
    "height": "calc(100% - 180px)",
    "left": "10px",
    "top": "150px",
    "width": "266.797px"
   },
   "toc_section_display": true,
   "toc_window_display": true
  }
 },
 "nbformat": 4,
 "nbformat_minor": 2
}
