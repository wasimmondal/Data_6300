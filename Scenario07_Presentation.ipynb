{
  "cells": [
    {
      "cell_type": "markdown",
      "metadata": {
        "id": "AY1OiORXA736"
      },
      "source": [
        " <h1 style=\"color:blue;\"> Scenario 7 notebook</h1>\n",
        "\n",
        "\n",
        "\n",
        "- C1S7.Py01\tHow to create new variables\n",
        "- C1S7.Py02\tFeature engineering errors and how to correct\n",
        "- C1S7.Py03\tCoding debt to income ratio with error catches\n",
        "- C1S7.Py04\tMultiple regression with residuals"
      ]
    },
    {
      "cell_type": "code",
      "execution_count": null,
      "metadata": {
        "id": "qrV8ZCCgA738"
      },
      "outputs": [],
      "source": [
        "#Code Block 1\n",
        "\n",
        "import numpy as np\n",
        "import pandas as pd\n",
        "import matplotlib.pyplot as plt\n",
        "import seaborn as sns\n",
        "\n",
        "\n",
        "\n",
        "#style options\n",
        "\n",
        "%matplotlib inline\n",
        "#if you want graphs to automatically without plt.show\n",
        "\n",
        "pd.set_option('display.max_columns',500) #allows for up to 500 columns to be displayed when viewing a dataframe\n",
        "\n",
        "plt.style.use('seaborn') #a style that can be used for plots - see style reference above\n",
        "\n"
      ]
    },
    {
      "cell_type": "code",
      "execution_count": null,
      "metadata": {
        "id": "PTff0L4zA739"
      },
      "outputs": [],
      "source": [
        "#Code Block 2\n",
        "df = pd.read_csv('data/Scenario7.csv', index_col = 0, header=0)\n",
        "    #DOES set the first column to the index\n",
        "    # and the top row as the headers"
      ]
    },
    {
      "cell_type": "code",
      "execution_count": null,
      "metadata": {
        "id": "NvAlVzh8A73-"
      },
      "outputs": [],
      "source": [
        "#Code Block 3\n",
        "df.head(3)"
      ]
    },
    {
      "cell_type": "markdown",
      "metadata": {
        "id": "L0_nz9rMA73-"
      },
      "source": [
        " <h2 style=\"color:blue;\">C1.S7.Py01 - How to create new variables</h2>\n",
        "\n",
        "<h3 style=\"color:blue;\">  Creating a ratio of loan amount to income  </h3>  "
      ]
    },
    {
      "cell_type": "code",
      "execution_count": null,
      "metadata": {
        "id": "iq1e3h-mA73-"
      },
      "outputs": [],
      "source": [
        "#Code Block 4\n",
        "df.head()"
      ]
    },
    {
      "cell_type": "code",
      "execution_count": null,
      "metadata": {
        "id": "1xNpil3AA73-"
      },
      "outputs": [],
      "source": [
        "#Code Block 5\n",
        "\n",
        "#Create a random sample of 1000\n",
        "df_sample = df.sample(1000)\n",
        "\n",
        "df_sample = df_sample[df_sample['Annual Income']<400000]\n",
        "\n",
        "# Create a custom scatterplot\n",
        "sns.set(style='whitegrid')\n",
        "plt.figure(figsize=(20,10)) #changes area of scatterplot\n",
        "sns.scatterplot(y='Annual Income', x='Amount Funded', data=df_sample, alpha=.5, s = 250, edgecolor='white', linewidth=2, hue='Home Ownership')\n",
        "plt.title('Seaborn Scatter plot', color = 'green', fontsize='18')\n",
        "plt.xlabel('Amount Funded', color = 'red', fontsize='14')\n",
        "plt.ylabel('Annual Income', color = 'red', fontsize='14')\n",
        "plt.show()"
      ]
    },
    {
      "cell_type": "markdown",
      "metadata": {
        "id": "-YXrLyNUA73_"
      },
      "source": [
        "<h3 style=\"color:red;\">Why use an underscore in the column name?</h3>"
      ]
    },
    {
      "cell_type": "code",
      "execution_count": null,
      "metadata": {
        "id": "MPGT0pnVA73_"
      },
      "outputs": [],
      "source": [
        "#Code Block 6\n",
        "df['Loan_Income'] = df['Amount Funded'] / df['Annual Income']\n",
        "df.head()"
      ]
    },
    {
      "cell_type": "markdown",
      "metadata": {
        "id": "XGMye9ZoA73_"
      },
      "source": [
        "<h3 style=\"color:blue;\">  How to overwrite an existing column </h3>  "
      ]
    },
    {
      "cell_type": "code",
      "execution_count": null,
      "metadata": {
        "id": "YiRDBjgQA74A"
      },
      "outputs": [],
      "source": [
        "#Code Block 7\n",
        "\n",
        "df['Loan_Income'] = 1\n",
        "df[['Amount Funded', 'Annual Income', 'Loan_Income']].head()"
      ]
    },
    {
      "cell_type": "code",
      "execution_count": null,
      "metadata": {
        "id": "yT24kcADA74A"
      },
      "outputs": [],
      "source": [
        "#Code Block 8\n",
        "\n",
        "df['Loan_Income'] = df['Amount Funded'] / df['Annual Income']\n",
        "df[['Amount Funded', 'Annual Income', 'Loan_Income']].head()"
      ]
    },
    {
      "cell_type": "markdown",
      "metadata": {
        "id": "N86KkzVYA74A"
      },
      "source": [
        "<h3 style=\"color:blue;\">  How to drop a column </h3>"
      ]
    },
    {
      "cell_type": "code",
      "execution_count": null,
      "metadata": {
        "id": "NDYIZMQpA74A"
      },
      "outputs": [],
      "source": [
        "#Code Block 9\n",
        "\n",
        "df = df.drop('Loan_Income', axis = 1)\n",
        "df.head(2)"
      ]
    },
    {
      "cell_type": "code",
      "execution_count": null,
      "metadata": {
        "id": "9uP1VvisA74B"
      },
      "outputs": [],
      "source": [
        "#Code Block 10\n",
        "\n",
        "df['Loan_Income'] = df['Amount Funded'] / df['Annual Income']"
      ]
    },
    {
      "cell_type": "markdown",
      "metadata": {
        "id": "blLjpMWBA74B"
      },
      "source": [
        "<h2 style=\"color:blue;\">C1.S7.Py02 - Feature engineering errors and how to correct</h2>"
      ]
    },
    {
      "cell_type": "code",
      "execution_count": null,
      "metadata": {
        "scrolled": false,
        "id": "lnVoB2FJA74B"
      },
      "outputs": [],
      "source": [
        "#Code Block 11\n",
        "\n",
        "df.head(10)"
      ]
    },
    {
      "cell_type": "code",
      "execution_count": null,
      "metadata": {
        "id": "sYIFG3QMA74B"
      },
      "outputs": [],
      "source": [
        "#Code Block 12\n",
        "\n",
        "#This will cause an error\n",
        "(x,y) = (5,0)\n",
        "z = x/y\n",
        "z"
      ]
    },
    {
      "cell_type": "code",
      "execution_count": null,
      "metadata": {
        "id": "hjLMeerNA74B"
      },
      "outputs": [],
      "source": [
        "#Code Block 13\n",
        "\n",
        "(x,y) = (5,10)\n",
        "try:\n",
        "    z = x / y\n",
        "except ZeroDivisionError:\n",
        "    print (\"divide by zero\")\n"
      ]
    },
    {
      "cell_type": "markdown",
      "metadata": {
        "id": "uP90zQCbA74C"
      },
      "source": [
        "<h3 style=\"color:red;\">  Divide by zero denominator in pandas </h3>  "
      ]
    },
    {
      "cell_type": "code",
      "execution_count": null,
      "metadata": {
        "id": "uQRit_upA74C"
      },
      "outputs": [],
      "source": [
        "#Code Block 14\n",
        "df['Debt_Account'] = df['Total Debt'] / df['Open Accounts']"
      ]
    },
    {
      "cell_type": "code",
      "execution_count": null,
      "metadata": {
        "id": "6Z516lTXA74C"
      },
      "outputs": [],
      "source": [
        "#Code Block 15\n",
        "df['Debt_Delinquent'] = df['Total Debt'] / df['Delinquencies Past 24 Months']"
      ]
    },
    {
      "cell_type": "code",
      "execution_count": null,
      "metadata": {
        "id": "yfgbLAHTA74C"
      },
      "outputs": [],
      "source": [
        "#Code Block 16\n",
        "df[['Debt_Account', 'Debt_Delinquent']].describe()"
      ]
    },
    {
      "cell_type": "markdown",
      "metadata": {
        "id": "DTHU2mcGA74C"
      },
      "source": [
        "<h3 style=\"color:blue;\">How to change from scientific notation to standard format</h3>  "
      ]
    },
    {
      "cell_type": "code",
      "execution_count": null,
      "metadata": {
        "id": "6KX1VjShA74C"
      },
      "outputs": [],
      "source": [
        "#Code Block 17\n",
        "round(df[['Debt_Account', 'Debt_Delinquent']].describe(),2)"
      ]
    },
    {
      "cell_type": "markdown",
      "metadata": {
        "id": "3VNGAvL6A74D"
      },
      "source": [
        "<h3 style=\"color:blue;\"> Using a function for flexibility  </h3>  "
      ]
    },
    {
      "cell_type": "code",
      "execution_count": null,
      "metadata": {
        "id": "fdcEK7jzA74D"
      },
      "outputs": [],
      "source": [
        "#Code Block 18\n",
        "def delinquent(c):\n",
        "  if pd.isna(c['Delinquencies Past 24 Months']):\n",
        "    return 1\n",
        "  else:\n",
        "    return 2\n",
        "\n",
        "df['change'] = df.apply(delinquent, axis=1)"
      ]
    },
    {
      "cell_type": "code",
      "execution_count": null,
      "metadata": {
        "id": "wygNIvXuA74D"
      },
      "outputs": [],
      "source": [
        "#Code Block 19\n",
        "\n",
        "# to see the counts for 1 and 2 for 'change'\n",
        "df['change'].value_counts()"
      ]
    },
    {
      "cell_type": "code",
      "execution_count": null,
      "metadata": {
        "id": "m9rdSQWLA74D"
      },
      "outputs": [],
      "source": [
        "#Code Block 20\n",
        "\n",
        "# drop the column since it is not needed\n",
        "df = df.drop(['Debt_Account', 'Debt_Delinquent','change'], axis = 1)\n"
      ]
    },
    {
      "cell_type": "markdown",
      "metadata": {
        "id": "BTByiuCNA74D"
      },
      "source": [
        "<h2 style=\"color:blue;\">C1.S7.Py03 - Coding debt to income ratio with error catches</h2>"
      ]
    },
    {
      "cell_type": "code",
      "execution_count": null,
      "metadata": {
        "id": "f9QVosYVA74D"
      },
      "outputs": [],
      "source": [
        "#Code Block 21\n",
        "\n",
        "df['Debt_Income'] = df['Total Debt'] / df['Annual Income']\n",
        "df.info()"
      ]
    },
    {
      "cell_type": "markdown",
      "metadata": {
        "id": "8X3dMwxyA74E"
      },
      "source": [
        "<h3 style=\"color:blue;\">Are there any ['Total Debt'] values == 0?</h3>  "
      ]
    },
    {
      "cell_type": "code",
      "execution_count": null,
      "metadata": {
        "id": "X2HDakemA74E"
      },
      "outputs": [],
      "source": [
        "#Code Block 22\n",
        "display(df[df['Total Debt']==0])\n",
        "print('----------------------------------')\n",
        "print('Total Debt - Null Values (NaNs)')\n",
        "display(df[df['Total Debt'].isnull()])"
      ]
    },
    {
      "cell_type": "markdown",
      "metadata": {
        "id": "XKX2EyZlA74E"
      },
      "source": [
        "<h3 style=\"color:green;\">Different options for Total Debt create Debt_Income</h3>  "
      ]
    },
    {
      "cell_type": "markdown",
      "metadata": {
        "id": "inj7k8WOA74E"
      },
      "source": [
        "- **OPTION 1**: Leave Total Debt as **null** and fill in Debt_Income with a 0.\n",
        "- **OPTION 2**: Fill in NaN values for Total Debt with 0, if Total Debt that is **null** means the Member does not have debt  "
      ]
    },
    {
      "cell_type": "markdown",
      "metadata": {
        "id": "34DVK-VmA74E"
      },
      "source": [
        "<h3 style=\"color:green;\">OPTION 1: Leave Total Debt as null and fill in Debt_Income with a 0</h3>  "
      ]
    },
    {
      "cell_type": "code",
      "execution_count": null,
      "metadata": {
        "id": "rR9yi_JpA74E"
      },
      "outputs": [],
      "source": [
        "#Code Block 23\n",
        "\n",
        "df_opt1 = df[['Interest Rate', 'Amount Funded', 'Total Debt' ,'Annual Income', 'Loan_Income']].copy()\n",
        "#Add .copy() so that is a separate slice of df"
      ]
    },
    {
      "cell_type": "code",
      "execution_count": null,
      "metadata": {
        "id": "01KHNPdTA74E"
      },
      "outputs": [],
      "source": [
        "#Code Block 24\n",
        "\n",
        "#function for evaluating a property with an if/then\n",
        "def debtincome(c):\n",
        "  if pd.isna(c['Total Debt']):\n",
        "    return 0\n",
        "  else:\n",
        "    return c['Total Debt'] / c['Annual Income']\n",
        "\n",
        "df_opt1['Debt_Income'] = df.apply(debtincome, axis=1)\n",
        "df_opt1.head()"
      ]
    },
    {
      "cell_type": "code",
      "execution_count": null,
      "metadata": {
        "id": "IirFRraRA74F"
      },
      "outputs": [],
      "source": [
        "df_opt1[df_opt1['Total Debt'].isnull()]"
      ]
    },
    {
      "cell_type": "markdown",
      "metadata": {
        "id": "t14JeYs2A74L"
      },
      "source": [
        "<h3 style=\"color:green;\">OPTION 2: Fill in NaN values for Total Debt with 0, if Total Debt that is null means the Member does not have debt  </h3>  "
      ]
    },
    {
      "cell_type": "code",
      "execution_count": null,
      "metadata": {
        "id": "Zpy0nnO7A74M"
      },
      "outputs": [],
      "source": [
        "#Code Block 25\n",
        "df_opt2 = df[['Interest Rate', 'Amount Funded', 'Total Debt' ,'Annual Income', 'Loan_Income']].copy()"
      ]
    },
    {
      "cell_type": "code",
      "execution_count": null,
      "metadata": {
        "id": "gm5D8LPsA74M"
      },
      "outputs": [],
      "source": [
        "#Code Block 26\n",
        "df_opt2['Total Debt'] = df_opt2['Total Debt'].fillna(0)"
      ]
    },
    {
      "cell_type": "code",
      "execution_count": null,
      "metadata": {
        "id": "7nv4e_kWA74M"
      },
      "outputs": [],
      "source": [
        "#Code Block 27\n",
        "df_opt2[df_opt2['Total Debt']==0]"
      ]
    },
    {
      "cell_type": "code",
      "execution_count": null,
      "metadata": {
        "id": "vBAw3dD7A74M"
      },
      "outputs": [],
      "source": [
        "#Code Block 28\n",
        "df_opt2['Debt_Income'] = df_opt2['Total Debt'] / df_opt2['Annual Income']\n",
        "df_opt2[df_opt2['Total Debt']<20] #to show Members with and without Total Debt == 0"
      ]
    },
    {
      "cell_type": "code",
      "execution_count": null,
      "metadata": {
        "id": "tr-BZnp7A74M"
      },
      "outputs": [],
      "source": [
        "## Code Block 29\n",
        "df_opt2.info()"
      ]
    },
    {
      "cell_type": "markdown",
      "metadata": {
        "id": "F0MA4ZwjA74N"
      },
      "source": [
        "<h2 style=\"color:blue;\">C1.S7.Py04 - Multiple regression with residuals</h2>"
      ]
    },
    {
      "cell_type": "markdown",
      "metadata": {
        "id": "K4VevlHbA74N"
      },
      "source": [
        "<h3 style=\"color:blue;\">Use OPTION 1 (df_opt1) for the multiple regression </h3>  "
      ]
    },
    {
      "cell_type": "code",
      "execution_count": null,
      "metadata": {
        "id": "uwHB8TFjA74N"
      },
      "outputs": [],
      "source": [
        "#Code Block 30\n",
        "display(df_opt1.head())\n",
        "df_opt1.info()"
      ]
    },
    {
      "cell_type": "markdown",
      "metadata": {
        "id": "yFMkJ2UbA74N"
      },
      "source": [
        "<h3 style=\"color:red;\">CAUTION: The Code Block below will cause an error</h3>  "
      ]
    },
    {
      "cell_type": "code",
      "execution_count": null,
      "metadata": {
        "id": "kpDaOhJGA74N"
      },
      "outputs": [],
      "source": [
        "#Code Block 31\n",
        "import statsmodels\n",
        "import statsmodels.api as sm\n",
        "\n",
        "\n",
        "X = df_opt1[['Amount Funded', 'Annual Income', 'Total Debt', 'Loan_Income', 'Debt_Income']]\n",
        "y = df_opt1['Interest Rate']\n",
        "X = sm.add_constant(X) # adding a constant\n",
        "\n",
        "reg_opt1 = sm.OLS(y, X).fit()\n",
        "\n",
        "predictions_opt1 = reg_opt1.predict(X)\n",
        "resid_opt1 = reg_opt1.resid\n",
        "reg_opt1.summary()\n"
      ]
    },
    {
      "cell_type": "markdown",
      "metadata": {
        "id": "iv2_ddg3A74N"
      },
      "source": [
        "<h3 style=\"color:red;\">What caused the error?  </h3>  "
      ]
    },
    {
      "cell_type": "markdown",
      "metadata": {
        "id": "Gdam9fNKA74O"
      },
      "source": [
        "- Total Debt still has NaN values because we left the NaN values alone and placed a 0 in Debt_Income"
      ]
    },
    {
      "cell_type": "code",
      "execution_count": null,
      "metadata": {
        "id": "Pu3BU_QqA74O"
      },
      "outputs": [],
      "source": [
        "#Code Block 32\n",
        "df_opt1.info()"
      ]
    },
    {
      "cell_type": "markdown",
      "metadata": {
        "id": "ChQHNC3JA74O"
      },
      "source": [
        "<h3 style=\"color:blue;\">For this regression to work we need to fill in NaNs or drop NaNs rows.  </h3>  "
      ]
    },
    {
      "cell_type": "code",
      "execution_count": null,
      "metadata": {
        "id": "j-I_dpAIA74O"
      },
      "outputs": [],
      "source": [
        "#Code Block 33\n",
        "df_opt1 = df_opt1.dropna()\n",
        "df_opt1.info()"
      ]
    },
    {
      "cell_type": "code",
      "execution_count": null,
      "metadata": {
        "id": "p1IOVSkfA74O"
      },
      "outputs": [],
      "source": [
        "#Code Block 34\n",
        "import statsmodels\n",
        "import statsmodels.api as sm"
      ]
    },
    {
      "cell_type": "code",
      "execution_count": null,
      "metadata": {
        "id": "dczVjKaSA74O"
      },
      "outputs": [],
      "source": [
        "#Code Block 35\n",
        "X = df_opt1[['Amount Funded', 'Annual Income', 'Total Debt', 'Loan_Income', 'Debt_Income']]\n",
        "y = df_opt1['Interest Rate']\n",
        "X = sm.add_constant(X) # adding a constant\n",
        "\n",
        "reg_opt1 = sm.OLS(y, X).fit()\n",
        "\n",
        "predictions_opt1 = reg_opt1.predict(X)\n",
        "resid_opt1 = reg_opt1.resid\n",
        "reg_opt1.summary()\n"
      ]
    },
    {
      "cell_type": "code",
      "execution_count": null,
      "metadata": {
        "id": "U1Z7PtrSA74P"
      },
      "outputs": [],
      "source": [
        "#Code Block 36\n",
        "df_reg_results = pd.concat([df_opt1, predictions_opt1, resid_opt1], axis=1)\n",
        "df_reg_results=df_reg_results.rename(columns = {0:'Int_Pred_opt1', 1:'Resid_opt1'})\n",
        "df_reg_results.head(10)"
      ]
    },
    {
      "cell_type": "code",
      "execution_count": null,
      "metadata": {
        "id": "No7RkfkQA74P"
      },
      "outputs": [],
      "source": [
        "#Code Block 37\n",
        "plt.figure(figsize=(20,10)) #changes area of regplot\n",
        "sns.regplot(x='Int_Pred_opt1', y='Resid_opt1',\n",
        "              data = df_reg_results, scatter_kws={\"color\":\"blue\",\"alpha\":0.15, \"s\":100,\"linewidth\":2,\"edgecolor\":\"white\"},\n",
        "              line_kws={'color': 'black'})\n"
      ]
    },
    {
      "cell_type": "code",
      "execution_count": null,
      "metadata": {
        "id": "Rwrs15SxA74P"
      },
      "outputs": [],
      "source": [
        "#Code Block 38\n",
        "plt.figure(figsize=(20,10)) #changes area of regplot\n",
        "sns.regplot(x='Int_Pred_opt1', y='Resid_opt1',\n",
        "              data = df_reg_results, scatter_kws={\"color\":\"blue\",\"alpha\":0.15, \"s\":100,\"linewidth\":2,\"edgecolor\":\"white\"},\n",
        "              line_kws={'color': 'black'})\n",
        "plt.xlim(7, 18)\n",
        "plt.ylim(-11, 14)"
      ]
    },
    {
      "cell_type": "code",
      "execution_count": null,
      "metadata": {
        "id": "qSSQ6XtqA74P"
      },
      "outputs": [],
      "source": [
        "#Code Block 39\n",
        "df_opt2.info()"
      ]
    },
    {
      "cell_type": "code",
      "execution_count": null,
      "metadata": {
        "id": "tzBudiJpA74P"
      },
      "outputs": [],
      "source": [
        "#Code Block 40\n",
        "\n",
        "X = df_opt2[['Amount Funded', 'Annual Income', 'Total Debt', 'Loan_Income', 'Debt_Income']]\n",
        "y = df_opt2['Interest Rate']\n",
        "X = sm.add_constant(X) # adding a constant\n",
        "\n",
        "reg_opt2 = sm.OLS(y, X).fit()\n",
        "\n",
        "predictions_opt2 = reg_opt2.predict(X)\n",
        "resid_opt2 = reg_opt2.resid\n",
        "reg_opt2.summary()"
      ]
    },
    {
      "cell_type": "code",
      "execution_count": null,
      "metadata": {
        "id": "nI2NWqJ6A74Q"
      },
      "outputs": [],
      "source": [
        "#Code Block 41\n",
        "\n",
        "df_reg_results2 = pd.concat([df_opt2, predictions_opt2, resid_opt2], axis=1)\n",
        "df_reg_results2=df_reg_results2.rename(columns = {0:'Int_Pred_opt2', 1:'Resid_opt2'})\n",
        "df_reg_results2.head(10)"
      ]
    },
    {
      "cell_type": "code",
      "execution_count": null,
      "metadata": {
        "id": "9yJENZQgA74Q"
      },
      "outputs": [],
      "source": [
        "#Code Block 42\n",
        "\n",
        "plt.figure(figsize=(20,10)) #changes area of regplot\n",
        "sns.regplot(x='Int_Pred_opt2', y='Resid_opt2',\n",
        "              data = df_reg_results2, scatter_kws={\"color\":\"green\",\"alpha\":0.15, \"s\":100,\"linewidth\":2,\"edgecolor\":\"white\"},\n",
        "              line_kws={'color': 'black'})\n",
        "plt.xlim(7, 18)\n",
        "plt.ylim(-11, 14)"
      ]
    },
    {
      "cell_type": "code",
      "execution_count": null,
      "metadata": {
        "id": "VdIImccbA74Q"
      },
      "outputs": [],
      "source": [
        "#Code Block 43\n",
        "\n",
        "sns.set(style='dark')\n",
        "plt.figure(figsize=(20,14))\n",
        "\n",
        "#top left\n",
        "ax1 = plt.subplot2grid((2, 2), (0, 0))\n",
        "plt.title('Option 1: Full Residual Plot', fontweight='bold', color = 'blue', fontsize='17', horizontalalignment='center')\n",
        "ax1 = sns.regplot(x='Int_Pred_opt1', y='Resid_opt1',\n",
        "              data = df_reg_results, scatter_kws={\"color\":\"blue\",\"alpha\":0.15, \"s\":100,\"linewidth\":2,\"edgecolor\":\"white\"},\n",
        "              line_kws={'color': 'black'})\n",
        "\n",
        "\n",
        "#top right\n",
        "ax2 = plt.subplot2grid((2, 2), (0, 1))\n",
        "plt.title('Option 2: Full Residual Plot', fontweight='bold', color = 'green', fontsize='17', horizontalalignment='center')\n",
        "ax2 = sns.regplot(x='Int_Pred_opt2', y='Resid_opt2',\n",
        "              data = df_reg_results2, scatter_kws={\"color\":\"green\",\"alpha\":0.15, \"s\":100,\"linewidth\":2,\"edgecolor\":\"white\"},\n",
        "              line_kws={'color': 'black'})\n",
        "\n",
        "\n",
        "#bottom left\n",
        "ax3 = plt.subplot2grid((2, 2), (1, 0))\n",
        "plt.title('Option 1: Limit Residual Plot', fontweight='bold', color = 'blue', fontsize='17', horizontalalignment='center')\n",
        "ax3 = sns.regplot(x='Int_Pred_opt1', y='Resid_opt1',\n",
        "              data = df_reg_results, scatter_kws={\"color\":\"blue\",\"alpha\":0.15, \"s\":100,\"linewidth\":2,\"edgecolor\":\"white\"},\n",
        "              line_kws={'color': 'black'})\n",
        "plt.xlim(7, 18)\n",
        "plt.ylim(-11, 14)\n",
        "\n",
        "#bottom right\n",
        "ax4 = plt.subplot2grid((2, 2), (1, 1))\n",
        "plt.title('Option 2: Limit Residual Plot', fontweight='bold', color = 'green', fontsize='17', horizontalalignment='center')\n",
        "ax4 = sns.regplot(x='Int_Pred_opt2', y='Resid_opt2',\n",
        "              data = df_reg_results2, scatter_kws={\"color\":\"green\",\"alpha\":0.15, \"s\":100,\"linewidth\":2,\"edgecolor\":\"white\"},\n",
        "              line_kws={'color': 'black'})\n",
        "plt.xlim(7, 18)\n",
        "plt.ylim(-11, 14)"
      ]
    }
  ],
  "metadata": {
    "kernelspec": {
      "display_name": "Python 3",
      "language": "python",
      "name": "python3"
    },
    "language_info": {
      "codemirror_mode": {
        "name": "ipython",
        "version": 3
      },
      "file_extension": ".py",
      "mimetype": "text/x-python",
      "name": "python",
      "nbconvert_exporter": "python",
      "pygments_lexer": "ipython3",
      "version": "3.7.7"
    },
    "toc": {
      "base_numbering": 1,
      "nav_menu": {
        "height": "344px",
        "width": "350px"
      },
      "number_sections": true,
      "sideBar": true,
      "skip_h1_title": false,
      "title_cell": "Table of Contents",
      "title_sidebar": "Contents",
      "toc_cell": false,
      "toc_position": {
        "height": "calc(100% - 180px)",
        "left": "10px",
        "top": "150px",
        "width": "266.797px"
      },
      "toc_section_display": true,
      "toc_window_display": true
    },
    "colab": {
      "provenance": []
    }
  },
  "nbformat": 4,
  "nbformat_minor": 0
}