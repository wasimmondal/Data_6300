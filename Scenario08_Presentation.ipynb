{
  "cells": [
    {
      "cell_type": "markdown",
      "metadata": {
        "id": "cyWlt6DLpVDa"
      },
      "source": [
        " <h1 style=\"color:blue;\"> Scenario 8 notebook</h1>\n",
        "\n",
        "- C1S8.Py01\tCreate a ratio of balance of revolving accounts to total credit line\n",
        "- C1S8.Py02\tCreate a revolving balance to income ratio\n",
        "- C1S8.Py03\tMultiple Regression with all features\n",
        "- C1S8.Py04\tCalculating VIF for features in a model!"
      ]
    },
    {
      "cell_type": "code",
      "execution_count": null,
      "metadata": {
        "id": "1bzNUsxXpVDc"
      },
      "outputs": [],
      "source": [
        "#Code Block 1\n",
        "\n",
        "import numpy as np\n",
        "import pandas as pd\n",
        "import matplotlib.pyplot as plt\n",
        "import seaborn as sns\n",
        "\n",
        "\n",
        "\n",
        "#style options\n",
        "\n",
        "%matplotlib inline\n",
        "#if you want graphs to automatically without plt.show\n",
        "\n",
        "pd.set_option('display.max_columns',500) #allows for up to 500 columns to be displayed when viewing a dataframe\n",
        "\n",
        "plt.style.use('seaborn') #a style that can be used for plots - see style reference above\n",
        "\n"
      ]
    },
    {
      "cell_type": "code",
      "execution_count": null,
      "metadata": {
        "id": "aU3HKpefpVDe"
      },
      "outputs": [],
      "source": [
        "#Code Block 2\n",
        "df = pd.read_csv('data/Scenario8.csv', index_col = 0, header=0)\n",
        "    #DOES set the first column to the index\n",
        "    # and the top row as the headers"
      ]
    },
    {
      "cell_type": "code",
      "execution_count": null,
      "metadata": {
        "scrolled": true,
        "id": "30eNmH1apVDe"
      },
      "outputs": [],
      "source": [
        "#Code Block 3\n",
        "df.head(3)"
      ]
    },
    {
      "cell_type": "code",
      "execution_count": null,
      "metadata": {
        "id": "Xyk87APapVDe"
      },
      "outputs": [],
      "source": [
        "#Code Block 4\n",
        "df.info()"
      ]
    },
    {
      "cell_type": "markdown",
      "metadata": {
        "id": "YoWU0FVMpVDf"
      },
      "source": [
        "<h2 style=\"color:blue;\">C1.S8.Py01 - Create a ratio of balance of revolving accounts to total credit line</h2>\n",
        "\n",
        "- Revolving Accounts - Total credit revolving balance\n",
        "- Total Revolving Credit Line - Total revolving high credit/credit limit\n",
        "\n",
        "### What do you do with the null values?\n"
      ]
    },
    {
      "cell_type": "code",
      "execution_count": null,
      "metadata": {
        "id": "nISNphhPpVDf"
      },
      "outputs": [],
      "source": [
        "#Code Block 5\n",
        "df[df['Total Revolving Credit Line'].isnull()]"
      ]
    },
    {
      "cell_type": "markdown",
      "metadata": {
        "id": "5x3bVBz2pVDf"
      },
      "source": [
        "### Are their any credit lines that are == 0?"
      ]
    },
    {
      "cell_type": "code",
      "execution_count": null,
      "metadata": {
        "id": "adX2vkdnpVDf"
      },
      "outputs": [],
      "source": [
        "#Code Block 6\n",
        "df[df['Total Revolving Credit Line']==0]"
      ]
    },
    {
      "cell_type": "code",
      "execution_count": null,
      "metadata": {
        "id": "jfjfYjYApVDg"
      },
      "outputs": [],
      "source": [
        "#Code Block 7\n",
        "df['RevBal_Line'] = df['Revolving Accounts'] / df['Total Revolving Credit Line']"
      ]
    },
    {
      "cell_type": "code",
      "execution_count": null,
      "metadata": {
        "id": "HSIvVY1xpVDg"
      },
      "outputs": [],
      "source": [
        "#Code Block 8\n",
        "df[['Revolving Accounts', 'Total Revolving Credit Line', 'RevBal_Line']].describe()"
      ]
    },
    {
      "cell_type": "code",
      "execution_count": null,
      "metadata": {
        "id": "EsMJ69KWpVDg"
      },
      "outputs": [],
      "source": [
        "#Code Block 9\n",
        "round(df[['Revolving Accounts', 'Total Revolving Credit Line', 'RevBal_Line']].describe(), 2)"
      ]
    },
    {
      "cell_type": "code",
      "execution_count": null,
      "metadata": {
        "id": "26aLLLU7pVDh"
      },
      "outputs": [],
      "source": [
        "#Code Block 10\n",
        "df[['Revolving Accounts', 'Total Revolving Credit Line',\n",
        "    'RevBal_Line']].sort_values(by='RevBal_Line', ascending = False).head(10)"
      ]
    },
    {
      "cell_type": "code",
      "execution_count": null,
      "metadata": {
        "id": "clauWEFkpVDh"
      },
      "outputs": [],
      "source": [
        "#Code Block 11\n",
        "df[['Revolving Accounts', 'Total Revolving Credit Line',\n",
        "    'RevBal_Line']].sort_values(by='RevBal_Line', ascending = True).head(5)"
      ]
    },
    {
      "cell_type": "markdown",
      "metadata": {
        "id": "NV3XJI9tpVDh"
      },
      "source": [
        "### How to use .iloc (integer location)\n",
        "https://www.shanelynn.ie/select-pandas-dataframe-rows-and-columns-using-iloc-loc-and-ix/"
      ]
    },
    {
      "cell_type": "code",
      "execution_count": null,
      "metadata": {
        "id": "GTpQex9lpVDh"
      },
      "outputs": [],
      "source": [
        "#Code Block 12\n",
        "df.iloc[:, 0:9].info()"
      ]
    },
    {
      "cell_type": "code",
      "execution_count": null,
      "metadata": {
        "id": "Queup_X4pVDh"
      },
      "outputs": [],
      "source": [
        "#Code Block 13\n",
        "df[['Revolving Accounts', 'Total Revolving Credit Line']] = df[['Revolving Accounts', 'Total Revolving Credit Line']].fillna(0)\n",
        "df.iloc[:, 0:9].info()"
      ]
    },
    {
      "cell_type": "code",
      "execution_count": null,
      "metadata": {
        "id": "zLaHKNPQpVDi"
      },
      "outputs": [],
      "source": [
        "#Code Block 14\n",
        "df[df['Total Revolving Credit Line']==0].head()"
      ]
    },
    {
      "cell_type": "code",
      "execution_count": null,
      "metadata": {
        "id": "q0nOf-TRpVDi"
      },
      "outputs": [],
      "source": [
        "#Code Block 15\n",
        "df['RevBal_Line'] = df['Revolving Accounts'] / df['Total Revolving Credit Line']\n",
        "round(df[['Revolving Accounts', 'Total Revolving Credit Line', 'RevBal_Line']].describe(), 2)"
      ]
    },
    {
      "cell_type": "markdown",
      "metadata": {
        "id": "p63E935npVDi"
      },
      "source": [
        "### For all ['Total Revolving Credit Line'] ==0, set the RevBal_Line to 0."
      ]
    },
    {
      "cell_type": "code",
      "execution_count": null,
      "metadata": {
        "id": "msAFOpMApVDi"
      },
      "outputs": [],
      "source": [
        "#Code Block 16\n",
        "def revline(c):\n",
        "  if c['Total Revolving Credit Line'] ==0:\n",
        "    return 0\n",
        "  else:\n",
        "    return c['Revolving Accounts'] / c['Total Revolving Credit Line']\n",
        "\n",
        "df['RevBal_Line'] = df.apply(revline, axis=1)\n",
        "round(df[['Revolving Accounts', 'Total Revolving Credit Line', 'RevBal_Line']].describe(), 2)"
      ]
    },
    {
      "cell_type": "code",
      "execution_count": null,
      "metadata": {
        "id": "Ib48rLKWpVDi"
      },
      "outputs": [],
      "source": [
        "#Code Block 17\n",
        "df[df['Total Revolving Credit Line']==0].head()"
      ]
    },
    {
      "cell_type": "markdown",
      "metadata": {
        "id": "nvBzvFV-pVDi"
      },
      "source": [
        "<h2 style=\"color:blue;\">C1.S8.Py02 - Create a revolving balance to income ratio</h2>\n",
        "\n",
        "### Creating a ratio assumptions to check:\n",
        "- Are there any null values?  \n",
        "    - Fill in null values\n",
        "    - Leave as is and new ratio will be null\n",
        "- Are there any **zero (0)** values for the denominator?\n",
        "    - Check the corresponding numerator, if all values for numerator are **zero (0)** then use a function and ratio == 0 when denominator and numerator == 0.\n",
        "    - If the numerator is not zero (0), then based on the situation, you will have to make a judgment."
      ]
    },
    {
      "cell_type": "code",
      "execution_count": null,
      "metadata": {
        "id": "csOOwMzhpVDj"
      },
      "outputs": [],
      "source": [
        "#Code Block 18\n",
        "df.iloc[:, 0:9].info()"
      ]
    },
    {
      "cell_type": "code",
      "execution_count": null,
      "metadata": {
        "id": "YRgPk3yepVDj"
      },
      "outputs": [],
      "source": [
        "#Code Block 19\n",
        "df[df['Annual Income']==0]"
      ]
    },
    {
      "cell_type": "code",
      "execution_count": null,
      "metadata": {
        "id": "F43ffQCRpVDj"
      },
      "outputs": [],
      "source": [
        "#Code Block 20\n",
        "df['RevBal_Income'] = df['Revolving Accounts'] / df['Annual Income']\n",
        "round(df[['Revolving Accounts', 'Annual Income', 'RevBal_Income']].describe(), 2)"
      ]
    },
    {
      "cell_type": "markdown",
      "metadata": {
        "id": "mQ2XhGaOpVDj"
      },
      "source": [
        "<h2 style=\"color:blue;\">C1.S8.Py03 - Multiple Regression with all features</h2>\n",
        "\n",
        "- Create X (2 options)\n",
        "    - Create X using .iloc\n",
        "    - Create X using label names"
      ]
    },
    {
      "cell_type": "markdown",
      "metadata": {
        "id": "Cs8ux8RJpVDj"
      },
      "source": [
        "<h3 style=\"color:blue;\">The last regression model included:</h3>\n",
        "\n",
        "- X = ['Amount Funded', 'Annual Income', 'Total Debt', 'Loan_Income', 'Debt_Income']\n",
        "- y = ['Interest Rate']"
      ]
    },
    {
      "cell_type": "markdown",
      "metadata": {
        "id": "RviDhsNupVDj"
      },
      "source": [
        "<h3 style=\"color:blue;\">This model will include:</h3>\n",
        "\n",
        "- X = ['Amount Funded', 'Annual Income', 'Total Debt', 'Revolving Accounts', 'Total Revolving Credit Line', 'Loan_Income', 'Debt_Income', 'RevBal_Line', 'RevBal_Income']\n",
        "- y = ['Interest Rate']"
      ]
    },
    {
      "cell_type": "markdown",
      "metadata": {
        "id": "ZSV9MopxpVDk"
      },
      "source": [
        "<h3 style=\"color:blue;\">Create X with .iloc</h3>"
      ]
    },
    {
      "cell_type": "code",
      "execution_count": null,
      "metadata": {
        "id": "KPpkqKxlpVDk"
      },
      "outputs": [],
      "source": [
        "#Code Block 21\n",
        "df.info()"
      ]
    },
    {
      "cell_type": "code",
      "execution_count": null,
      "metadata": {
        "id": "XGKAOzE0pVDk"
      },
      "outputs": [],
      "source": [
        "#Code Block 22\n",
        "\n",
        "X = df.iloc[:, [4, 5, 6, 7, 8, 26, 27, 28, 29]]\n",
        "display(X.head())\n",
        "\n",
        "y = df[['Interest Rate']]\n",
        "y.head()"
      ]
    },
    {
      "cell_type": "code",
      "execution_count": null,
      "metadata": {
        "id": "2zFh_GZspVDk"
      },
      "outputs": [],
      "source": [
        "#Code Block 23\n",
        "df_reg = df[['Interest Rate', 'Amount Funded', 'Annual Income', 'Total Debt', 'Revolving Accounts', 'Total Revolving Credit Line', 'Loan_Income', 'Debt_Income', 'RevBal_Line', 'RevBal_Income']]\n",
        "df_reg.info()"
      ]
    },
    {
      "cell_type": "code",
      "execution_count": null,
      "metadata": {
        "id": "pJNIAQ84pVDk"
      },
      "outputs": [],
      "source": [
        "#Code Block 24\n",
        "import statsmodels\n",
        "import statsmodels.api as sm"
      ]
    },
    {
      "cell_type": "code",
      "execution_count": null,
      "metadata": {
        "id": "Yf1Blfl7pVDk"
      },
      "outputs": [],
      "source": [
        "#Code Block 25\n",
        "X = sm.add_constant(X) # adding a constant\n",
        "\n",
        "reg1 = sm.OLS(y, X).fit()\n",
        "\n",
        "predictions1 = reg1.predict(X)\n",
        "resid1 = reg1.resid\n",
        "reg1.summary()"
      ]
    },
    {
      "cell_type": "markdown",
      "metadata": {
        "id": "JFYyNBrJpVDl"
      },
      "source": [
        "### Create the predictions dataframe"
      ]
    },
    {
      "cell_type": "code",
      "execution_count": null,
      "metadata": {
        "id": "A7mO5f4UpVDl"
      },
      "outputs": [],
      "source": [
        "#Code Block 26\n",
        "df_predictions1 = pd.DataFrame(predictions1)\n",
        "df_predictions1=df_predictions1.rename(columns = {0:'Int_Pred1'})\n",
        "df_predictions1.head()"
      ]
    },
    {
      "cell_type": "markdown",
      "metadata": {
        "id": "NmmCePM2pVDl"
      },
      "source": [
        "### Create the residuals dataframe"
      ]
    },
    {
      "cell_type": "code",
      "execution_count": null,
      "metadata": {
        "id": "pqOG2o_HpVDl"
      },
      "outputs": [],
      "source": [
        "#Code Block 27\n",
        "df_resid1 = pd.DataFrame(resid1)\n",
        "df_resid1=df_resid1.rename(columns = {0:'Resid1'})\n",
        "df_resid1.head()"
      ]
    },
    {
      "cell_type": "markdown",
      "metadata": {
        "id": "DYgJit4qpVDs"
      },
      "source": [
        "### Create DataFrame for Actual and its Predictions"
      ]
    },
    {
      "cell_type": "code",
      "execution_count": null,
      "metadata": {
        "id": "R2VsyW2mpVDs"
      },
      "outputs": [],
      "source": [
        "#Code Block 27\n",
        "df_reg_results = pd.concat([X, y, df_predictions1, df_resid1], axis=1)\n",
        "df_reg_results.head()"
      ]
    },
    {
      "cell_type": "markdown",
      "metadata": {
        "id": "JY39bIPBpVDs"
      },
      "source": [
        " <h3 style=\"color:blue;\">Graphically looking at y and its residuals</h3>"
      ]
    },
    {
      "cell_type": "markdown",
      "metadata": {
        "id": "0ZpvwooOpVDs"
      },
      "source": [
        "https://seaborn.pydata.org/generated/seaborn.residplot.html"
      ]
    },
    {
      "cell_type": "code",
      "execution_count": null,
      "metadata": {
        "scrolled": false,
        "id": "k41-LWHepVDt"
      },
      "outputs": [],
      "source": [
        "#Code Block 28\n",
        "plt.figure(figsize=(20,10)) #changes area of scatterplot\n",
        "sns.regplot(x='Int_Pred1', y='Resid1',\n",
        "              data = df_reg_results, scatter_kws={\"color\":\"blue\",\"alpha\":0.15, \"s\":100,\"linewidth\":2,\"edgecolor\":\"white\"},\n",
        "              line_kws={'color': 'black'})\n"
      ]
    },
    {
      "cell_type": "code",
      "execution_count": null,
      "metadata": {
        "scrolled": false,
        "id": "DfSt90TzpVDt"
      },
      "outputs": [],
      "source": [
        "#Code Block 29\n",
        "plt.figure(figsize=(20,10)) #changes area of scatterplot\n",
        "sns.regplot(x='Int_Pred1', y='Resid1',\n",
        "              data = df_reg_results, scatter_kws={\"color\":\"blue\",\"alpha\":0.15, \"s\":100,\"linewidth\":2,\"edgecolor\":\"white\"},\n",
        "              line_kws={'color': 'black'})\n",
        "plt.xlim(5, 23)\n",
        "plt.ylim(-10, 15)"
      ]
    },
    {
      "cell_type": "code",
      "execution_count": null,
      "metadata": {
        "id": "G0ZlU4lRpVDt"
      },
      "outputs": [],
      "source": [
        "#Code Block 30\n",
        "display(df_reg_results.sort_values(by = 'Resid1').head())\n",
        "df_reg_results.sort_values(by = 'Resid1', ascending=False).head()"
      ]
    },
    {
      "cell_type": "code",
      "execution_count": null,
      "metadata": {
        "id": "HLBCUHYzpVDt"
      },
      "outputs": [],
      "source": [
        "#Code Block 31\n",
        "display(df_reg_results.sort_values(by = 'Annual Income', ascending=False).head())"
      ]
    },
    {
      "cell_type": "code",
      "execution_count": null,
      "metadata": {
        "id": "QtAgK7ETpVDt"
      },
      "outputs": [],
      "source": [
        "#Code Block 32\n",
        "df_reg_results = pd.concat([df_reg_results, df['Home Ownership']], axis=1)\n",
        "df_reg_results.head()"
      ]
    },
    {
      "cell_type": "code",
      "execution_count": null,
      "metadata": {
        "id": "xPVaQHe9pVDu"
      },
      "outputs": [],
      "source": [
        "#Code Block 33\n",
        "plt.figure(figsize=(20,10)) #changes area of scatterplot\n",
        "sns.lmplot(x='Int_Pred1', y='Resid1', col=\"Home Ownership\", col_wrap=2, data = df_reg_results, palette=\"Set1\",\n",
        "           aspect = 2, scatter_kws={\"alpha\":0.15,\"s\":150,\"linewidth\":2,\"edgecolor\":\"white\"}, line_kws={'color': 'red'})\n",
        "plt.xlim(5, 23)\n",
        "plt.ylim(-10, 15)"
      ]
    },
    {
      "cell_type": "markdown",
      "metadata": {
        "id": "RCvyE1hRpVDu"
      },
      "source": [
        "<h2 style=\"color:blue;\">C1.S8.Py04 - Calculating VIF for features to test multi-colinearity</h2>\n",
        "\n",
        "### What is VIF?\n",
        "\n",
        "\n",
        "\n",
        "The Variance Inflation Factor (VIF) is a measure of colinearity among predictor variables within a multiple regression. It is calculated by taking the the ratio of the variance of all a given model's betas divide by the variane of a single beta if it were fit alone.\n",
        "\n",
        "### How to calculate VIF\n",
        "- Run a multiple regression for each feature in the X dataset. (for example, if X has 6 features [x1, x2, x3, x4, x5, and x6], then run six models where each feature is the target variable, such as x1 ~ x2 + x3 + x4 + x5 + x6.  \n",
        "\n",
        "**Steps for Implementing VIF**\n",
        "- Run a multiple regression.\n",
        "- Calculate the VIF factors.\n",
        "    - Run a multiple regression for each feature in the X dataset. (for example, if X has 6 features [x1, x2, x3, x4, x5, and x6], then run six models where each feature is the target variable, such as x1 ~ x2 + x3 + x4 + x5 + x6.  \n",
        "    - Calculate VIF: 1 / (1 - R^2)\n",
        "- Inspect the factors for each predictor variable, if the VIF is between 5-10, multicolinearity is likely present and you should consider dropping the variable.\n",
        "\n",
        "https://etav.github.io/python/vif_factor_python.html"
      ]
    },
    {
      "cell_type": "code",
      "execution_count": null,
      "metadata": {
        "id": "lCAe3K2hpVDu"
      },
      "outputs": [],
      "source": [
        "#Code Block 34\n",
        "df.head()"
      ]
    },
    {
      "cell_type": "code",
      "execution_count": null,
      "metadata": {
        "id": "RPLgLUVhpVDu"
      },
      "outputs": [],
      "source": [
        "#Code Block 35\n",
        "from statsmodels.stats.outliers_influence import variance_inflation_factor"
      ]
    },
    {
      "cell_type": "code",
      "execution_count": null,
      "metadata": {
        "id": "VGQZntcxpVDu"
      },
      "outputs": [],
      "source": [
        "#Code Block 36\n",
        "X.info()"
      ]
    },
    {
      "cell_type": "code",
      "execution_count": null,
      "metadata": {
        "id": "SdlVBjHopVDv"
      },
      "outputs": [],
      "source": [
        "#Code Block 37\n",
        "vif = pd.DataFrame()\n",
        "vif[\"VIF Factor\"] = [variance_inflation_factor(X.values, i) for i in range(X.shape[1])]\n",
        "vif[\"features\"] = X.columns #adds a column with the labels\n",
        "round(vif, 1).sort_values(by = 'VIF Factor', ascending = False)"
      ]
    },
    {
      "cell_type": "code",
      "execution_count": null,
      "metadata": {
        "id": "1J7VIol7pVDv"
      },
      "outputs": [],
      "source": [
        "#Code Block 38\n",
        "sns.pairplot(df_reg)"
      ]
    },
    {
      "cell_type": "code",
      "execution_count": null,
      "metadata": {
        "scrolled": false,
        "id": "8wCfvnNPpVDv"
      },
      "outputs": [],
      "source": [
        "#Code Block 39\n",
        "corrMatrix = df_reg.corr()\n",
        "df_corrMatrix = pd.DataFrame(corrMatrix)\n",
        "df_corrMatrix"
      ]
    },
    {
      "cell_type": "code",
      "execution_count": null,
      "metadata": {
        "id": "tFJH0OgOpVDv"
      },
      "outputs": [],
      "source": [
        "#Code Block 40\n",
        "plt.figure(figsize=(10,10))\n",
        "sns.heatmap(df_corrMatrix)"
      ]
    },
    {
      "cell_type": "code",
      "execution_count": null,
      "metadata": {
        "id": "HHEMOvidpVDv"
      },
      "outputs": [],
      "source": [
        "#Code Block 41\n",
        "colormap = plt.cm.viridis\n",
        "plt.figure(figsize=(12,12))\n",
        "plt.title('Pearson Correlation of Features', y=1.05, size=15)\n",
        "sns.heatmap(df_corrMatrix,linewidths=0.1,vmax=1.0, square=True, cmap=colormap, linecolor='white', annot=True)"
      ]
    },
    {
      "cell_type": "markdown",
      "metadata": {
        "id": "fIOMVumipVDw"
      },
      "source": [
        "<h2 style=\"color:blue;\">C1.S8.Py05 - Re-run a multiple regression becuase of multi-colinearity</h2>\n",
        "\n",
        "- Remove either ['Revolving Accounts'] or  ['Total Revolving Credit Line'] and see if it makes a difference."
      ]
    },
    {
      "cell_type": "code",
      "execution_count": null,
      "metadata": {
        "id": "fxPEurqvpVDw"
      },
      "outputs": [],
      "source": [
        "#Code Block 42\n",
        "X = df[['Amount Funded', 'Annual Income', 'Total Debt', 'Revolving Accounts', 'Total Revolving Credit Line', 'Loan_Income', 'Debt_Income', 'RevBal_Line', 'RevBal_Income']]\n",
        "y = df[['Interest Rate']]"
      ]
    },
    {
      "cell_type": "code",
      "execution_count": null,
      "metadata": {
        "id": "aZF7Uaw6pVDw"
      },
      "outputs": [],
      "source": [
        "#Code Block 43\n",
        "X = sm.add_constant(X) # adding a constant\n",
        "\n",
        "reg1 = sm.OLS(y, X).fit()\n",
        "\n",
        "predictions1 = reg1.predict(X)\n",
        "resid1 = reg1.resid\n",
        "reg1.summary()"
      ]
    },
    {
      "cell_type": "code",
      "execution_count": null,
      "metadata": {
        "id": "2hdyfyiNpVDw"
      },
      "outputs": [],
      "source": [
        "#Code Block 44\n",
        "X = df[['Amount Funded', 'Annual Income', 'Total Debt', 'Total Revolving Credit Line', 'Loan_Income', 'Debt_Income', 'RevBal_Line', 'RevBal_Income']]"
      ]
    },
    {
      "cell_type": "code",
      "execution_count": null,
      "metadata": {
        "id": "hKZpZGsHpVDx"
      },
      "outputs": [],
      "source": [
        "#Code Block 45\n",
        "X = sm.add_constant(X) # adding a constant\n",
        "\n",
        "reg1 = sm.OLS(y, X).fit()\n",
        "\n",
        "predictions1 = reg1.predict(X)\n",
        "resid1 = reg1.resid\n",
        "reg1.summary()"
      ]
    },
    {
      "cell_type": "code",
      "execution_count": null,
      "metadata": {
        "id": "ShFYO4zEpVDx"
      },
      "outputs": [],
      "source": [
        "#Code Block 46\n",
        "vif = pd.DataFrame()\n",
        "vif[\"VIF Factor\"] = [variance_inflation_factor(X.values, i) for i in range(X.shape[1])]\n",
        "vif[\"features\"] = X.columns #adds a column with the labels\n",
        "round(vif, 1).sort_values(by = 'VIF Factor', ascending = False)"
      ]
    },
    {
      "cell_type": "code",
      "execution_count": null,
      "metadata": {
        "id": "1D0UET1gpVDx"
      },
      "outputs": [],
      "source": [
        "#Code Block 47\n",
        "\n",
        "corrMatrix = X[['Amount Funded', 'Annual Income', 'Total Debt', 'Total Revolving Credit Line', 'Loan_Income', 'Debt_Income', 'RevBal_Line', 'RevBal_Income']].corr()\n",
        "df_corrMatrix = pd.DataFrame(corrMatrix)\n",
        "round(df_corrMatrix,3)"
      ]
    },
    {
      "cell_type": "code",
      "execution_count": null,
      "metadata": {
        "id": "TcuU_f9upVDx"
      },
      "outputs": [],
      "source": [
        "#Code Block 48\n",
        "colormap = plt.cm.viridis\n",
        "plt.figure(figsize=(14,10))\n",
        "plt.title('Pearson Correlation of Features', y=1.05, size=15)\n",
        "sns.heatmap(df_corrMatrix,linewidths=0.1,vmax=1.0, square=True, cmap=colormap, linecolor='white', annot=True)"
      ]
    }
  ],
  "metadata": {
    "kernelspec": {
      "display_name": "Python 3",
      "language": "python",
      "name": "python3"
    },
    "language_info": {
      "codemirror_mode": {
        "name": "ipython",
        "version": 3
      },
      "file_extension": ".py",
      "mimetype": "text/x-python",
      "name": "python",
      "nbconvert_exporter": "python",
      "pygments_lexer": "ipython3",
      "version": "3.7.7"
    },
    "toc": {
      "base_numbering": 1,
      "nav_menu": {
        "height": "344px",
        "width": "350px"
      },
      "number_sections": true,
      "sideBar": true,
      "skip_h1_title": false,
      "title_cell": "Table of Contents",
      "title_sidebar": "Contents",
      "toc_cell": false,
      "toc_position": {
        "height": "calc(100% - 180px)",
        "left": "10px",
        "top": "150px",
        "width": "266.797px"
      },
      "toc_section_display": true,
      "toc_window_display": true
    },
    "colab": {
      "provenance": []
    }
  },
  "nbformat": 4,
  "nbformat_minor": 0
}