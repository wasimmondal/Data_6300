{
  "cells": [
    {
      "cell_type": "markdown",
      "metadata": {
        "id": "PFr7MVE3DOZi"
      },
      "source": [
        "<h1 style=\"color:blue;\">Outline of Scenario 11 notebook:</h1>\n",
        "\n",
        "- C1.S11.Py01 – One-hot encoding Loan Purpose and its properties\n",
        "- C1.S11.Py02 – Fill in Null values with median in length of employment\n",
        "- C1.S11.Py03 – Creating and applying a function to code delinquencies\n",
        "- C1.S11.Py04 – Run regression with newest features\n",
        "- C1.S11.Py05 – Calculating VIF and correlation\n",
        "\n"
      ]
    },
    {
      "cell_type": "code",
      "execution_count": null,
      "metadata": {
        "id": "hC59vqtqDOZk"
      },
      "outputs": [],
      "source": [
        "#Code Block 1\n",
        "\n",
        "import numpy as np\n",
        "import pandas as pd\n",
        "import matplotlib.pyplot as plt\n",
        "import seaborn as sns\n",
        "\n",
        "\n",
        "\n",
        "#style options\n",
        "\n",
        "%matplotlib inline\n",
        "#if you want graphs to automatically without plt.show\n",
        "\n",
        "pd.set_option('display.max_columns',500) #allows for up to 500 columns to be displayed when viewing a dataframe\n",
        "\n",
        "plt.style.use('seaborn') #a style that can be used for plots - see style reference above\n",
        "\n"
      ]
    },
    {
      "cell_type": "code",
      "execution_count": null,
      "metadata": {
        "id": "VMll5vhqDOZl"
      },
      "outputs": [],
      "source": [
        "#Code Block 2\n",
        "df = pd.read_csv('data/Scenario11.csv', index_col = 0, header=0)\n",
        "    #DOES set the first column to the index\n",
        "    # and the top row as the headers"
      ]
    },
    {
      "cell_type": "code",
      "execution_count": null,
      "metadata": {
        "scrolled": false,
        "id": "4c7qo6MVDOZm"
      },
      "outputs": [],
      "source": [
        "#Code Block 3\n",
        "df.info()"
      ]
    },
    {
      "cell_type": "code",
      "execution_count": null,
      "metadata": {
        "id": "oe1VqQAoDOZm"
      },
      "outputs": [],
      "source": [
        "#Code Block 4\n",
        "df.head()"
      ]
    },
    {
      "cell_type": "markdown",
      "metadata": {
        "id": "xKpH4gdwDOZm"
      },
      "source": [
        "<h2 style=\"color:blue;\">One-hot encoding Loan Purpose and its properties</h2>"
      ]
    },
    {
      "cell_type": "code",
      "execution_count": null,
      "metadata": {
        "id": "UY1GXb7oDOZn"
      },
      "outputs": [],
      "source": [
        "#Code Block 5\n",
        "df['Loan Purpose'].value_counts()"
      ]
    },
    {
      "cell_type": "markdown",
      "metadata": {
        "id": "RmsEDDgYDOZn"
      },
      "source": [
        "### If you like seeing results in a DataFrame format, it is easy to do with pd.DataFrame( )"
      ]
    },
    {
      "cell_type": "code",
      "execution_count": null,
      "metadata": {
        "id": "NECg9nCMDOZn"
      },
      "outputs": [],
      "source": [
        "#Code Block 6\n",
        "pd.DataFrame(df['Loan Purpose'].value_counts())"
      ]
    },
    {
      "cell_type": "code",
      "execution_count": null,
      "metadata": {
        "id": "Nur1d-LFDOZn"
      },
      "outputs": [],
      "source": [
        "#Code Block 7\n",
        "df_reg = df.copy()"
      ]
    },
    {
      "cell_type": "markdown",
      "metadata": {
        "id": "XTHQ0XhQDOZo"
      },
      "source": [
        "<h3 style=\"color:blue;\">Create dummy variables for Loan Purpose </h3>\n",
        "\n",
        "- Create the dummy variables *(ex. car, creditcard, debt_consolidation, etc)*\n",
        "- Concatenate with the original DataFrame *(ex. dummies_LoanPurpose with df_reg)*\n",
        "- Drop the original variable that was used to create the dummy variables *(ex. Loan Purpose)*"
      ]
    },
    {
      "cell_type": "code",
      "execution_count": null,
      "metadata": {
        "id": "2T9OYfCADOZo"
      },
      "outputs": [],
      "source": [
        "#Code Block 8\n",
        "\n",
        "#Create Dummy Variables for Loan Purpose\n",
        "dummies_LoanPurpose = pd.get_dummies(df_reg['Loan Purpose'], drop_first = False)\n",
        "#df_reg = pd.concat([df_reg, dummies_LoanPurpose], axis = 1)\n",
        "\n",
        "dummies_LoanPurpose.head()"
      ]
    },
    {
      "cell_type": "markdown",
      "metadata": {
        "id": "cLFYnun4DOZo"
      },
      "source": [
        "### Add a prefix for each category"
      ]
    },
    {
      "cell_type": "code",
      "execution_count": null,
      "metadata": {
        "id": "mQnkmss8DOZo"
      },
      "outputs": [],
      "source": [
        "#Code Block 9\n",
        "dummies_LoanPurpose1 = pd.get_dummies(df_reg['Loan Purpose'], prefix='lp', drop_first = False)\n",
        "dummies_LoanPurpose1.head()"
      ]
    },
    {
      "cell_type": "markdown",
      "metadata": {
        "id": "AGofZotLDOZp"
      },
      "source": [
        "### Drop the first category based on alphabetical order"
      ]
    },
    {
      "cell_type": "code",
      "execution_count": null,
      "metadata": {
        "id": "etKjSsNgDOZp"
      },
      "outputs": [],
      "source": [
        "#Code Block 10\n",
        "dummies_LoanPurpose2 = pd.get_dummies(df_reg['Loan Purpose'], prefix='lp', drop_first = True)\n",
        "dummies_LoanPurpose2.head()"
      ]
    },
    {
      "cell_type": "markdown",
      "metadata": {
        "id": "e1--4P5MDOZp"
      },
      "source": [
        "### Change the dtype from uint8 to int64"
      ]
    },
    {
      "cell_type": "code",
      "execution_count": null,
      "metadata": {
        "id": "v3ijhVjiDOZp"
      },
      "outputs": [],
      "source": [
        "#Code Block 11\n",
        "dummies_LoanPurpose3 = pd.get_dummies(df_reg['Loan Purpose'], prefix='lp', drop_first = True, dtype='int')\n",
        "dummies_LoanPurpose3.head()"
      ]
    },
    {
      "cell_type": "code",
      "execution_count": null,
      "metadata": {
        "id": "JuSFXzvvDOZp"
      },
      "outputs": [],
      "source": [
        "#Code Block 12\n",
        "dummies_LoanPurpose.info()\n",
        "dummies_LoanPurpose3.info()"
      ]
    },
    {
      "cell_type": "markdown",
      "metadata": {
        "id": "e6zd0pQmDOZp"
      },
      "source": [
        "#### Cannot drop first or last if you wish to drop the baseline or category with the most values."
      ]
    },
    {
      "cell_type": "code",
      "execution_count": null,
      "metadata": {
        "id": "VfmlYZv-DOZq"
      },
      "outputs": [],
      "source": [
        "#Code Block 13\n",
        "print('---------------------------------------------------')\n",
        "print(\"car\")\n",
        "print(dummies_LoanPurpose['car'].value_counts())\n",
        "print('---------------------------------------------------')\n",
        "print(\"credit_card\")\n",
        "print(dummies_LoanPurpose['credit_card'].value_counts())\n",
        "print('---------------------------------------------------')\n",
        "print(\"debt_consolidation\")\n",
        "print(dummies_LoanPurpose['debt_consolidation'].value_counts())\n",
        "print('---------------------------------------------------')\n",
        "print(\"home_improvement\")\n",
        "print(dummies_LoanPurpose['home_improvement'].value_counts())\n",
        "print('---------------------------------------------------')"
      ]
    },
    {
      "cell_type": "code",
      "execution_count": null,
      "metadata": {
        "id": "QXlChsgyDOZq"
      },
      "outputs": [],
      "source": [
        "#Code Block 14\n",
        "dummies_LoanPurpose.head()"
      ]
    },
    {
      "cell_type": "code",
      "execution_count": null,
      "metadata": {
        "id": "Nk9ZtWM9DOZq"
      },
      "outputs": [],
      "source": [
        "#Code Block 15\n",
        "#dummies_LoanPurpose = dummies_LoanPurpose.drop(['debt_consolidation'], axis = 1)\n",
        "df_reg = pd.concat([df_reg, dummies_LoanPurpose], axis = 1)\n",
        "\n",
        "#Drop Loan Purpose\n",
        "df_reg = df_reg.drop(['Loan Purpose'], axis = 1)\n",
        "df_reg.info()"
      ]
    },
    {
      "cell_type": "markdown",
      "metadata": {
        "id": "jS5kb6UbDOZq"
      },
      "source": [
        "<h2 style=\"color:blue;\">Fill in Null values with median in length of employment</h2>\n",
        "\n",
        "### What can you do with missing data?  (NaN)\n",
        "- **Leave as-is**\n",
        "    - cannot leave it as is if you plan on using it for a predictive model (cannot have NaNs)\n",
        "- **5.1 Drop them**\n",
        "    - df_dropped = df_nan.dropna()\n",
        "- **5.2 Fill missing value**\n",
        "    - Fill with a value\n",
        "        - df_nan['gender'] = df_nan['gender'].fillna('missing')\n",
        "        - df_nan[['total_bill', 'size']] = tips_nan[['total_bill','size']].fillna(0)\n",
        "    - Fill with a summary statistic\n",
        "        - df_nan['tip'] = df_nan['tip'].fillna(df_nan['tip'].mean())\n",
        "    - Fill in with Forward or backward\n",
        "        - df.fillna(method='ffill')\n",
        "        - df.fillna(method='bfill')\n",
        "        \n",
        "\n",
        "\n",
        "http://pandas.pydata.org/pandas-docs/version/0.17.1/generated/pandas.DataFrame.fillna.html"
      ]
    },
    {
      "cell_type": "code",
      "execution_count": null,
      "metadata": {
        "id": "L4uvHhukDOZr"
      },
      "outputs": [],
      "source": [
        "#Code Block 16\n",
        "df_reg.head()"
      ]
    },
    {
      "cell_type": "code",
      "execution_count": null,
      "metadata": {
        "id": "5eLk8Tk-DOZr"
      },
      "outputs": [],
      "source": [
        "#Code Block 17\n",
        "pd.DataFrame(df_reg['Length of Employment'].value_counts(dropna=False))"
      ]
    },
    {
      "cell_type": "code",
      "execution_count": null,
      "metadata": {
        "id": "SDVAePVSDOZr"
      },
      "outputs": [],
      "source": [
        "#Code Block 18\n",
        "pd.DataFrame(round(df_reg['Length of Employment'].describe(), 2))"
      ]
    },
    {
      "cell_type": "markdown",
      "metadata": {
        "id": "1fJKjQ92DOZr"
      },
      "source": [
        "#### NOTE: 50th percentile is also the median"
      ]
    },
    {
      "cell_type": "code",
      "execution_count": null,
      "metadata": {
        "id": "_kVUPwiJDOZs"
      },
      "outputs": [],
      "source": [
        "#Code Block 19\n",
        "df_reg['Length of Employment'].median()"
      ]
    },
    {
      "cell_type": "code",
      "execution_count": null,
      "metadata": {
        "id": "9vZwPOe1DOZs"
      },
      "outputs": [],
      "source": [
        "#Code Block 20\n",
        "# Plot a histogram and color magenta\n",
        "sns.distplot(df_reg['Length of Employment'], color=\"m\")"
      ]
    },
    {
      "cell_type": "code",
      "execution_count": null,
      "metadata": {
        "id": "v3sPFjRUDOZs"
      },
      "outputs": [],
      "source": [
        "#Code Block 21\n",
        "df_reg['Length of Employment'] = df_reg['Length of Employment'].fillna(df_reg['Length of Employment'].median())\n",
        "pd.DataFrame(df_reg['Length of Employment'].value_counts(dropna=False))"
      ]
    },
    {
      "cell_type": "code",
      "execution_count": null,
      "metadata": {
        "id": "oom037YyDOZt"
      },
      "outputs": [],
      "source": [
        "#Code Block 22\n",
        "pd.DataFrame(round(df_reg['Length of Employment'].describe(), 2))"
      ]
    },
    {
      "cell_type": "code",
      "execution_count": null,
      "metadata": {
        "id": "1IIszOokDOZt"
      },
      "outputs": [],
      "source": [
        "#Code Block 23\n",
        "# Plot a histogram and color blue\n",
        "sns.distplot(df_reg['Length of Employment'], color=\"b\")"
      ]
    },
    {
      "cell_type": "markdown",
      "metadata": {
        "id": "iN8dEccSDOZt"
      },
      "source": [
        "<h2 style=\"color:blue;\">Creating and applying a function to code delinquencies</h2>\n"
      ]
    },
    {
      "cell_type": "code",
      "execution_count": null,
      "metadata": {
        "id": "Qw-2TBUaDOZt"
      },
      "outputs": [],
      "source": [
        "#Code Block 24\n",
        "pd.DataFrame(df_reg['Delinquencies Past 24 Months'].value_counts(dropna=False))"
      ]
    },
    {
      "cell_type": "markdown",
      "metadata": {
        "id": "W39Ih7RsDOZu"
      },
      "source": [
        "### Instead of filling in the NaNs with a number or calculation, we will turn this quantitative variable into a binary decision:\n",
        "- If **delinquencies within the past 24 Months** > 0 then code it as a 1.\n",
        "- Otherwise code it as a 0, which will be all of the NaN values."
      ]
    },
    {
      "cell_type": "markdown",
      "metadata": {
        "id": "Yezac5N8DOZu"
      },
      "source": [
        "### Change Delinquencies Past 24 Months to a binary feature"
      ]
    },
    {
      "cell_type": "code",
      "execution_count": null,
      "metadata": {
        "id": "XHlGZ7z-DOZu"
      },
      "outputs": [],
      "source": [
        "#Code Block 25\n",
        "def delinq(c):\n",
        "  if c['Delinquencies Past 24 Months'] >= 0:\n",
        "    return 1\n",
        "  else:\n",
        "    return 0\n",
        "\n",
        "df_reg['Delinquencies Past 24 Months'] = df_reg.apply(delinq, axis=1)\n",
        "display(df_reg['Delinquencies Past 24 Months'].value_counts())"
      ]
    },
    {
      "cell_type": "code",
      "execution_count": null,
      "metadata": {
        "id": "5q8PlCemDOZu"
      },
      "outputs": [],
      "source": [
        "#Code Block 26\n",
        "df_reg.info()"
      ]
    },
    {
      "cell_type": "markdown",
      "metadata": {
        "id": "FEyf_IQeDOZ3"
      },
      "source": [
        "<h2 style=\"color:blue;\">Run regression with newest features</h2>\n",
        "\n",
        "<h3 style=\"color:blue;\">Features to include:</h3>\n",
        "\n",
        "- All previous features\n",
        "- Term\n",
        "- Length of employment\n",
        "- Open accounts\n",
        "- Credit inquiries\n",
        "- Loan purpose categories (not including debt consolidation)\n",
        "- Delinquencies Past 24 Months\n"
      ]
    },
    {
      "cell_type": "code",
      "execution_count": null,
      "metadata": {
        "scrolled": true,
        "id": "zglDZy-ADOZ3"
      },
      "outputs": [],
      "source": [
        "#Code Block 27\n",
        "df_reg.columns"
      ]
    },
    {
      "cell_type": "markdown",
      "metadata": {
        "id": "BgWM2ooFDOZ3"
      },
      "source": [
        "#### Do not include the following vairables:\n",
        "- 'Member ID'\n",
        "- 'Loan ID'\n",
        "- 'Origination Date'\n",
        "- 'Interest Rate' (y or target variable)\n",
        "- 'Grade'\n",
        "- 'Employee Title'\n",
        "- 'Zip Code of Residence'\n",
        "- 'State of Residence'\n",
        "- 'TermString'\n",
        "- 'Day'\n",
        "- 'Month'\n",
        "- 'Year'\n",
        "- 'MORTGAGE' (baseline for Home Ownership)\n",
        "- 'debt_consolidation' (baseline for Loan Purpose)"
      ]
    },
    {
      "cell_type": "code",
      "execution_count": null,
      "metadata": {
        "id": "3Yi8bZB4DOZ3"
      },
      "outputs": [],
      "source": [
        "#Code Block 28\n",
        "\n",
        "#X includes all expected features including Home Ownership, Length of employmnet, and Loan Purpose\n",
        "#No MORTGAGE or debt_consolidation\n",
        "\n",
        "X = df_reg[['Amount Funded', 'Total Debt', 'Annual Income', 'Revolving Balance',\n",
        "            'Total Revolving Credit Line', 'Term','Length of Employment', 'Delinquencies Past 24 Months',\n",
        "            'Credit Inquires Last 6 Months','Open Accounts', 'Loan_Income', 'Debt_Income',\n",
        "            'RevBal_Line', 'RevBal_Income', 'Income Verification', 'IncVer_Income_act', 'OTHER',\n",
        "            'OWN', 'RENT', 'Own_RevLine_act', 'car', 'credit_card', 'home_improvement', 'house', 'major_purchase',\n",
        "            'medical', 'moving', 'other', 'renewable_energy','small_business', 'vacation', 'wedding']]\n",
        "y = df_reg[['Interest Rate']]"
      ]
    },
    {
      "cell_type": "code",
      "execution_count": null,
      "metadata": {
        "id": "cWXxERojDOZ4"
      },
      "outputs": [],
      "source": [
        "#Code Block 29\n",
        "import statsmodels\n",
        "import statsmodels.api as sm"
      ]
    },
    {
      "cell_type": "code",
      "execution_count": null,
      "metadata": {
        "id": "NE4drs61DOZ4"
      },
      "outputs": [],
      "source": [
        "#Code Block 30\n",
        "X = sm.add_constant(X) # adding a constant\n",
        "\n",
        "reg1 = sm.OLS(y, X).fit()\n",
        "\n",
        "predictions1 = reg1.predict(X)\n",
        "resid1 = reg1.resid\n",
        "reg1.summary()"
      ]
    },
    {
      "cell_type": "code",
      "execution_count": null,
      "metadata": {
        "id": "7e9zu1nFDOZ4"
      },
      "outputs": [],
      "source": [
        "#Code Block 31\n",
        "\n",
        "#Create Predictions dataframe\n",
        "df_predictions1 = pd.DataFrame(predictions1)\n",
        "df_predictions1=df_predictions1.rename(columns = {0:'Int_Pred1'})\n",
        "\n",
        "#Create Residuals dataframe\n",
        "df_resid1 = pd.DataFrame(resid1)\n",
        "df_resid1=df_resid1.rename(columns = {0:'Resid1'})\n",
        "\n",
        "\n",
        "#Concat results into one dataframe\n",
        "df_reg_results = pd.concat([df_reg, df_predictions1, df_resid1], axis=1)\n",
        "\n",
        "df_reg_results[['Amount Funded', 'Total Debt', 'Annual Income','Interest Rate', 'Int_Pred1', 'Resid1']].head()"
      ]
    },
    {
      "cell_type": "markdown",
      "metadata": {
        "id": "-r7p9iAMDOZ4"
      },
      "source": [
        "<h2 style=\"color:blue;\">Calculating VIF on feature variables and correlation</h2>\n",
        "\n"
      ]
    },
    {
      "cell_type": "code",
      "execution_count": null,
      "metadata": {
        "id": "Jse9dy0YDOZ4"
      },
      "outputs": [],
      "source": [
        "#Code Block 32\n",
        "from statsmodels.stats.outliers_influence import variance_inflation_factor"
      ]
    },
    {
      "cell_type": "code",
      "execution_count": null,
      "metadata": {
        "id": "j7P93kIiDOZ5"
      },
      "outputs": [],
      "source": [
        "#Code Block 33\n",
        "vif = pd.DataFrame()\n",
        "vif[\"VIF Factor\"] = [variance_inflation_factor(X.values, i) for i in range(X.shape[1])]\n",
        "vif[\"features\"] = X.columns #adds a column with the labels\n",
        "round(vif, 1).sort_values(by = 'VIF Factor', ascending = False)"
      ]
    },
    {
      "cell_type": "code",
      "execution_count": null,
      "metadata": {
        "id": "bpXVsTJjDOZ5"
      },
      "outputs": [],
      "source": [
        "#Code Block 34\n",
        "\n",
        "corrMatrix = df_reg.corr()\n",
        "df_corrMatrix = pd.DataFrame(corrMatrix)\n",
        "round(df_corrMatrix,3)"
      ]
    },
    {
      "cell_type": "code",
      "execution_count": null,
      "metadata": {
        "id": "JTeLxOWKDOZ5"
      },
      "outputs": [],
      "source": [
        "#Code Block 35\n",
        "colormap = plt.cm.viridis\n",
        "plt.figure(figsize=(14,10))\n",
        "plt.title('Correlation Heat Map', y=1.05, size=15)\n",
        "sns.heatmap(df_corrMatrix,linewidths=0.1,vmax=1.0, square=True, cmap=colormap, linecolor='white', annot=True)"
      ]
    },
    {
      "cell_type": "markdown",
      "metadata": {
        "id": "wjSZN5veDOZ5"
      },
      "source": [
        "### Take off annotation and change colormap\n",
        "- Link to the different styles of colormaps\n",
        "    - https://matplotlib.org/3.2.1/tutorials/colors/colormaps.html"
      ]
    },
    {
      "cell_type": "code",
      "execution_count": null,
      "metadata": {
        "id": "6HqZbkQ9DOZ5"
      },
      "outputs": [],
      "source": [
        "#Code Block 36\n",
        "colormap = plt.cm.coolwarm\n",
        "plt.figure(figsize=(14,10))\n",
        "plt.title('Correlation Heat Map', y=1.05, size=15)\n",
        "sns.heatmap(df_corrMatrix,linewidths=0.1,vmax=1.0, square=True, cmap=colormap, linecolor='white', annot=False)"
      ]
    },
    {
      "cell_type": "markdown",
      "metadata": {
        "id": "Jfvt9wa7DOZ6"
      },
      "source": [
        "### Graphically looking at residuals using lowess\n",
        "\n",
        "- LOWESS (Locally Weighted Scatterplot Smoothing), is a tool used in regression analysis that creates a smooth line through a scatter plot to help you to see relationship between variables and foresee trends.\n",
        "- https://www.statisticshowto.com/lowess-smoothing/"
      ]
    },
    {
      "cell_type": "code",
      "execution_count": null,
      "metadata": {
        "id": "87K6eGb_DOZ6"
      },
      "outputs": [],
      "source": [
        "#Code Block 37\n",
        "plt.figure(figsize=(20,10)) #changes area of scatterplot\n",
        "sns.regplot(x='Int_Pred1', y='Resid1',\n",
        "              data = df_reg_results, scatter_kws={\"color\":\"blue\",\"alpha\":0.15, \"s\":100,\"linewidth\":2,\"edgecolor\":\"white\"},\n",
        "              line_kws={'color': 'black'})"
      ]
    },
    {
      "cell_type": "markdown",
      "metadata": {
        "id": "Cd3fQRy9DOZ7"
      },
      "source": [
        "### Look at the highest deviations from actuals (highest residual and lowest residual)"
      ]
    },
    {
      "cell_type": "code",
      "execution_count": null,
      "metadata": {
        "id": "ivCUiHqlDOZ7"
      },
      "outputs": [],
      "source": [
        "#Code Block 38\n",
        "df_reg_results.sort_values(by='Resid1').head(10)"
      ]
    },
    {
      "cell_type": "code",
      "execution_count": null,
      "metadata": {
        "id": "IddNC1GPDOZ7"
      },
      "outputs": [],
      "source": [
        "#Code Block 39\n",
        "df_reg_results.sort_values(by='Resid1', ascending=False).head(10)"
      ]
    },
    {
      "cell_type": "code",
      "execution_count": null,
      "metadata": {
        "id": "H2uGeAaZDOZ7"
      },
      "outputs": [],
      "source": []
    }
  ],
  "metadata": {
    "kernelspec": {
      "display_name": "Python 3",
      "language": "python",
      "name": "python3"
    },
    "language_info": {
      "codemirror_mode": {
        "name": "ipython",
        "version": 3
      },
      "file_extension": ".py",
      "mimetype": "text/x-python",
      "name": "python",
      "nbconvert_exporter": "python",
      "pygments_lexer": "ipython3",
      "version": "3.7.7"
    },
    "toc": {
      "base_numbering": 1,
      "nav_menu": {
        "height": "344px",
        "width": "350px"
      },
      "number_sections": true,
      "sideBar": true,
      "skip_h1_title": false,
      "title_cell": "Table of Contents",
      "title_sidebar": "Contents",
      "toc_cell": false,
      "toc_position": {
        "height": "calc(100% - 180px)",
        "left": "10px",
        "top": "150px",
        "width": "266.797px"
      },
      "toc_section_display": true,
      "toc_window_display": true
    },
    "colab": {
      "provenance": []
    }
  },
  "nbformat": 4,
  "nbformat_minor": 0
}