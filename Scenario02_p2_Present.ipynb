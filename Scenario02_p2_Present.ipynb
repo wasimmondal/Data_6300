{
  "cells": [
    {
      "cell_type": "markdown",
      "metadata": {
        "id": "WWsaxoZWx6Hx"
      },
      "source": [
        "<h1 style=\"color:blue;\">Scenario 2 - Part 2</h1>\n",
        "\n",
        "NOTE: here is guide to use markdown - https://www.markdownguide.org/basic-syntax/\n",
        "\n",
        "\n",
        "Outline of notebook:\n",
        "- **C1.S2.Py08 - Understanding .info()**\n",
        "    - .info()\n",
        "- **C1.S2.Py09 - Understanding data types**\n",
        "- **C1.S2.Py10 - Converting objects to dates**\n",
        "- **C1.S2.Py11 - How to use groupby for categorical data**\n",
        "- **C1.S2.Py12 - How to pivot data**\n",
        "- **C1.S2.Py13 - How to melt data**\n",
        "- **C1.S2.Py14 - Changing and correcting data**\n",
        "- **C1.S2.Py15 - Describing data and looking for outliers**\n",
        "    - .describe() and other calculations\n",
        "- **C1.S2.Py16 - How to slice Data**\n",
        "    - [  ], .iloc, .loc\n",
        "- **C1.S2.Py17 - How to filter Data**\n"
      ]
    },
    {
      "cell_type": "code",
      "execution_count": null,
      "metadata": {
        "id": "iADSuKSix6H2"
      },
      "outputs": [],
      "source": [
        "#Code Block 1\n",
        "\n",
        "import numpy as np\n",
        "import pandas as pd\n",
        "import matplotlib.pyplot as plt\n",
        "import seaborn as sns\n",
        "\n",
        "\n",
        "\n",
        "#style options\n",
        "\n",
        "%matplotlib inline\n",
        "#if you want graphs to automatically without plt.show\n",
        "\n",
        "pd.set_option('display.max_columns',500) #allows for up to 500 columns to be displayed when viewing a dataframe\n",
        "\n",
        "plt.style.use('seaborn') #a style that can be used for plots - see style reference above"
      ]
    },
    {
      "cell_type": "code",
      "execution_count": null,
      "metadata": {
        "id": "90hyaZv6x6H3"
      },
      "outputs": [],
      "source": [
        "#Code Block 2\n",
        "df = pd.read_csv('data/Scenario2_2.csv', index_col = 0, header=0)\n",
        "    #DOES NOT set the first column to the index\n",
        "    # and the top row as the headers"
      ]
    },
    {
      "cell_type": "markdown",
      "metadata": {
        "id": "asRCQA8sx6H3"
      },
      "source": [
        "<h2 style=\"color:blue;\">C1.S2.Py08 - View data info and its properties</h2>\n",
        "\n",
        "- .info() Allows you to see each column and its corresponding non-null values and data type.\n",
        "\n",
        "*Documentation - https://pandas.pydata.org/pandas-docs/stable/reference/api/pandas.DataFrame.info.html*"
      ]
    },
    {
      "cell_type": "code",
      "execution_count": null,
      "metadata": {
        "id": "6IotsH10x6H3"
      },
      "outputs": [],
      "source": [
        "#Code Block 3\n",
        "df.info()"
      ]
    },
    {
      "cell_type": "code",
      "execution_count": null,
      "metadata": {
        "id": "dy3Lw45_x6H4"
      },
      "outputs": [],
      "source": [
        "# Code Block 4\n",
        "df.shape"
      ]
    },
    {
      "cell_type": "markdown",
      "metadata": {
        "id": "ppMNYhtrx6H4"
      },
      "source": [
        "<h2 style=\"color:blue;\">C1.S2.Py09 - Understanding data types</h2>\n",
        "\n",
        "\n",
        "**dtypes** - in parenthesis () python data type\n",
        "- object (str or mixed)\n",
        "    - Text or mixed numeric and non-numeric values\n",
        "- int64 (int)\n",
        "    - Integer numbers\n",
        "- float64 (float)\n",
        "    - Floating point numbers or continuous numbers (have a decimal point)\n",
        "- bool (bool)\n",
        "    - Boolean or True/False values\n",
        "- datetime64 (NA)\n",
        "    - Date and time values\n",
        "- timedelta[ns]\t(NA)\n",
        "    - Differences between two datetimes\n",
        "- category(NA)\n",
        "    - Finite list of text values\n",
        "    \n",
        "<img src=\"images/DataTypes.png\" alt=\"pivot data\" style=\"width: 600px;\"/>\n",
        "\n",
        "\n",
        "*Documentation - https://pbpython.com/pandas_dtypes.html*"
      ]
    },
    {
      "cell_type": "markdown",
      "metadata": {
        "id": "6waYdbSDx6H4"
      },
      "source": [
        "### Data types for Python variables"
      ]
    },
    {
      "cell_type": "code",
      "execution_count": null,
      "metadata": {
        "id": "bgWDKYQIx6H4"
      },
      "outputs": [],
      "source": [
        "# Code Block 5\n",
        "varTerm = 36\n",
        "print(varTerm)\n",
        "type(varTerm)"
      ]
    },
    {
      "cell_type": "code",
      "execution_count": null,
      "metadata": {
        "id": "n4Qcvrw0x6H5"
      },
      "outputs": [],
      "source": [
        "# Code Block 6\n",
        "print(varTerm + 1)\n",
        "print(varTerm)"
      ]
    },
    {
      "cell_type": "code",
      "execution_count": null,
      "metadata": {
        "id": "H6njcEIMx6H5"
      },
      "outputs": [],
      "source": [
        "# Code Block 7\n",
        "#varTerm + ' months' #Expect and error - you cannot join a integer and string"
      ]
    },
    {
      "cell_type": "code",
      "execution_count": null,
      "metadata": {
        "id": "7ALZCiJtx6H5"
      },
      "outputs": [],
      "source": [
        "# Code Block 8\n",
        "str(varTerm) + ' months'"
      ]
    },
    {
      "cell_type": "code",
      "execution_count": null,
      "metadata": {
        "id": "nt8Uds0Ox6H6"
      },
      "outputs": [],
      "source": [
        "# Code Block 9\n",
        "varTermString = str(varTerm)\n",
        "print(type(varTerm))\n",
        "print(type(varTermString))"
      ]
    },
    {
      "cell_type": "markdown",
      "metadata": {
        "id": "53-PH1tyx6H6"
      },
      "source": [
        "### Data types for pandas DataFrames"
      ]
    },
    {
      "cell_type": "code",
      "execution_count": null,
      "metadata": {
        "id": "AUpe2Qsqx6H7"
      },
      "outputs": [],
      "source": [
        "# Code Block 10\n",
        "df['Interest Rate'].dtypes"
      ]
    },
    {
      "cell_type": "code",
      "execution_count": null,
      "metadata": {
        "id": "7gfEuZrmx6H7"
      },
      "outputs": [],
      "source": [
        "# Code Block 11\n",
        "df['Term'].dtypes\n",
        "# COMMENT: view info with Shift - Tab"
      ]
    },
    {
      "cell_type": "code",
      "execution_count": null,
      "metadata": {
        "scrolled": true,
        "id": "XReFZ4tex6H7"
      },
      "outputs": [],
      "source": [
        "# Code Block 12\n",
        "df['Total Debt'].dtypes"
      ]
    },
    {
      "cell_type": "code",
      "execution_count": null,
      "metadata": {
        "scrolled": true,
        "id": "yvCbzudMx6H7"
      },
      "outputs": [],
      "source": [
        "# Code Block 13\n",
        "df['TermNum'] = df['Term'] + 1\n",
        "df.head(2)"
      ]
    },
    {
      "cell_type": "code",
      "execution_count": null,
      "metadata": {
        "id": "IqAgOBDpx6H8"
      },
      "outputs": [],
      "source": [
        "# Code Block 14\n",
        "df = df.drop('TermNum', axis = 1) # COMMENT: Drop TermNum since it is not relevant\n",
        "#df['TermString'] = df['Term'] + \" months\"\n",
        "# COMMENT: You cannot join a integer and string, you must convert the integer to a string first - see Code Block 13"
      ]
    },
    {
      "cell_type": "code",
      "execution_count": null,
      "metadata": {
        "id": "Db3lO9Ypx6H9"
      },
      "outputs": [],
      "source": [
        "# Code Block 15\n",
        "df['TermString'] = df['Term'].astype(str) + \" months\""
      ]
    },
    {
      "cell_type": "code",
      "execution_count": null,
      "metadata": {
        "id": "h9NePbKex6H-"
      },
      "outputs": [],
      "source": [
        "# Code Block 16\n",
        "df.head(2)"
      ]
    },
    {
      "cell_type": "markdown",
      "metadata": {
        "id": "wf6Mz2LAx6H-"
      },
      "source": [
        "<h2 style=\"color:blue;\">C1.S2.Py10 - Converting dates from objects</h2>  \n",
        "\n",
        "This section changes the columns from an object to a date.\n",
        "- csv files import a date as an object\n",
        "- xlsx files import a data as a date (no need to convert)\n",
        "\n",
        "**For every date, you can also create a variable for:**\n",
        "- dayofweek\n",
        "- month\n",
        "- year\n",
        "- day\n",
        "- dayname\n",
        "- etc.\n"
      ]
    },
    {
      "cell_type": "code",
      "execution_count": null,
      "metadata": {
        "id": "5k2vi0hex6H-"
      },
      "outputs": [],
      "source": [
        "#Code Block 17\n",
        "df.info()"
      ]
    },
    {
      "cell_type": "markdown",
      "metadata": {
        "id": "KCboKJEpx6IF"
      },
      "source": [
        "### Import datetime to be able to convert date to elements of a date (month, year, etc.)\n",
        "https://docs.python.org/3/library/datetime.html"
      ]
    },
    {
      "cell_type": "code",
      "execution_count": null,
      "metadata": {
        "id": "g2DEMpJ2x6IF"
      },
      "outputs": [],
      "source": [
        "#Code Block 18\n",
        "import datetime as dt"
      ]
    },
    {
      "cell_type": "code",
      "execution_count": null,
      "metadata": {
        "id": "90DXyOMCx6IG"
      },
      "outputs": [],
      "source": [
        "#Code Block 19\n",
        "df['Origination Date'] = pd.to_datetime(df['Origination Date'])"
      ]
    },
    {
      "cell_type": "code",
      "execution_count": null,
      "metadata": {
        "id": "lHLBL-w4x6IG"
      },
      "outputs": [],
      "source": [
        "#Code Block 20\n",
        "df['Day'] = df['Origination Date'].dt.dayofweek\n",
        "# COMMENT: 0 = Monday, 1 = Tuesday, etc."
      ]
    },
    {
      "cell_type": "code",
      "execution_count": null,
      "metadata": {
        "id": "Ot2xBF2Fx6IG"
      },
      "outputs": [],
      "source": [
        "#Code Block 21\n",
        "df['Month'] = df['Origination Date'].dt.month"
      ]
    },
    {
      "cell_type": "code",
      "execution_count": null,
      "metadata": {
        "id": "RN74x8s4x6IG"
      },
      "outputs": [],
      "source": [
        "#Code Block 22\n",
        "df['Year'] = df['Origination Date'].dt.year"
      ]
    },
    {
      "cell_type": "code",
      "execution_count": null,
      "metadata": {
        "scrolled": false,
        "id": "mmvrdhD-x6IG"
      },
      "outputs": [],
      "source": [
        "#Code Block 23\n",
        "df.sample(3)"
      ]
    },
    {
      "cell_type": "markdown",
      "metadata": {
        "id": "aLGBcxqwx6IH"
      },
      "source": [
        "<h2 style=\"color:blue;\">C1.S2.Py11 - How to use groupby for categorical data</h2>  "
      ]
    },
    {
      "cell_type": "markdown",
      "metadata": {
        "id": "0H6fI4DQx6IH"
      },
      "source": [
        "### Groupby\n",
        "https://pandas.pydata.org/pandas-docs/version/0.22/api.html#groupby\n",
        "\n",
        "#### Groupby using COUNT and viewing all columns"
      ]
    },
    {
      "cell_type": "code",
      "execution_count": null,
      "metadata": {
        "id": "QeUn9MVqx6IH"
      },
      "outputs": [],
      "source": [
        "#Code Block 24\n",
        "df.groupby('Loan Purpose').count()"
      ]
    },
    {
      "cell_type": "markdown",
      "metadata": {
        "id": "7z1JMLFYx6IH"
      },
      "source": [
        "#### Groupby using MEAN and viewing one column"
      ]
    },
    {
      "cell_type": "code",
      "execution_count": null,
      "metadata": {
        "id": "Q4tpB2tpx6IH"
      },
      "outputs": [],
      "source": [
        "#Code Block 25\n",
        "df.groupby('Loan Purpose')['Amount Funded'].mean()"
      ]
    },
    {
      "cell_type": "markdown",
      "metadata": {
        "id": "98JD8IAsx6IH"
      },
      "source": [
        "#### Groupby using MEDIAN and viewing one column as a DataFrame"
      ]
    },
    {
      "cell_type": "code",
      "execution_count": null,
      "metadata": {
        "id": "CFUmsQmox6IH"
      },
      "outputs": [],
      "source": [
        "#Code Block 26\n",
        "df_loanpurpose = df.groupby('Loan Purpose')['Amount Funded'].median()\n",
        "df_loanpurpose = pd.DataFrame(df_loanpurpose)\n",
        "df_loanpurpose"
      ]
    },
    {
      "cell_type": "markdown",
      "metadata": {
        "id": "_5TS4D_ex6II"
      },
      "source": [
        "#### Groupby using MAX and viewing one column as a DataFrame and resetting index"
      ]
    },
    {
      "cell_type": "code",
      "execution_count": null,
      "metadata": {
        "id": "FinADda_x6II"
      },
      "outputs": [],
      "source": [
        "#Code Block 27\n",
        "df_loanpurpose2 = df.groupby('Loan Purpose')['Amount Funded'].min()\n",
        "df_loanpurpose2 = pd.DataFrame(df_loanpurpose2)\n",
        "df_loanpurpose2 = df_loanpurpose2.reset_index()\n",
        "df_loanpurpose2"
      ]
    },
    {
      "cell_type": "markdown",
      "metadata": {
        "id": "bEj3dysyx6IQ"
      },
      "source": [
        "#### Groupby with TWO columns using MEAN and viewing one column"
      ]
    },
    {
      "cell_type": "code",
      "execution_count": null,
      "metadata": {
        "scrolled": true,
        "id": "02PBODn9x6IQ"
      },
      "outputs": [],
      "source": [
        "#Code Block 28\n",
        "df.groupby(['Loan Purpose', 'Home Ownership'])['Amount Funded'].mean()"
      ]
    },
    {
      "cell_type": "markdown",
      "metadata": {
        "id": "bA9MMhkIx6IQ"
      },
      "source": [
        "#### Groupby with two columns using mean and viewing one column as a DataFrame"
      ]
    },
    {
      "cell_type": "code",
      "execution_count": null,
      "metadata": {
        "scrolled": true,
        "id": "JrCroMcnx6IY"
      },
      "outputs": [],
      "source": [
        "#Code Block 29\n",
        "df_loanown = df.groupby(['Loan Purpose', 'Home Ownership'])['Amount Funded'].mean()\n",
        "df_loanown = pd.DataFrame(df_loanown).reset_index()\n",
        "df_loanown"
      ]
    },
    {
      "cell_type": "code",
      "execution_count": null,
      "metadata": {
        "id": "zoBt6Z41x6IY"
      },
      "outputs": [],
      "source": [
        "#Code Block 30\n",
        "df.groupby(['Home Ownership'])['Home Ownership'].count()"
      ]
    },
    {
      "cell_type": "markdown",
      "metadata": {
        "id": "WsEUrTQqx6IY"
      },
      "source": [
        "#### NOTE:\n",
        "We will address the misspellings of MORGTAGE in another video (**C1.S4.Py05- Changing and correcting data**)"
      ]
    },
    {
      "cell_type": "markdown",
      "metadata": {
        "id": "fpgLi45ux6IZ"
      },
      "source": [
        "<h2 style=\"color:blue;\">C1.S2.Py12 - How to pivot data</h2>   "
      ]
    },
    {
      "cell_type": "markdown",
      "metadata": {
        "id": "U3VUWAqlx6IZ"
      },
      "source": [
        "- View the sum of all loans per year and month based on reason for leaving\n",
        "\n",
        "images from: https://pandas.pydata.org/pandas-docs/stable/user_guide/reshaping.html\n",
        "\n",
        "#### Pivot\n",
        "\n",
        "- Take one column and expand it multiple columns\n",
        "- pivot = df.pivot_table(index='index', columns='categorical value', values='numerical value')\n",
        "- set index as an identifier\n",
        "- set the columns to the column that has the different categories that will be your headers\n",
        "- set the values to a specific numerical column\n",
        "\n",
        "https://pandas.pydata.org/pandas-docs/stable/generated/pandas.DataFrame.pivot.html\n",
        "\n",
        "<img src=\"images/reshaping_pivot.png\" alt=\"pivot data\" style=\"width: 600px;\"/>\n",
        "\n",
        "#### Melt\n",
        "- set dataset\n",
        "- set variables to include that are not melted - id_vars\n",
        "- melt variable - value_vars\n",
        "https://pandas.pydata.org/pandas-docs/stable/generated/pandas.melt.html <br>\n",
        "\n",
        "<img src=\"images/reshaping_melt.png\" alt=\"melt data\" style=\"width: 600px;\"/>"
      ]
    },
    {
      "cell_type": "code",
      "execution_count": null,
      "metadata": {
        "id": "BNZP84nFx6IZ"
      },
      "outputs": [],
      "source": [
        "#Code Block 31\n",
        "df.head()"
      ]
    },
    {
      "cell_type": "markdown",
      "metadata": {
        "id": "qf1t6Gmnx6IZ"
      },
      "source": [
        "#### Pivot data\n",
        "- Loan Purpose as the rows\n",
        "- Home Ownership as the columns\n",
        "- Amount Funded average as the values  "
      ]
    },
    {
      "cell_type": "code",
      "execution_count": null,
      "metadata": {
        "id": "zsInxu19x6Ia"
      },
      "outputs": [],
      "source": [
        "#Code Block 32\n",
        "df_pivot = df.pivot_table(index='Loan Purpose', columns='Home Ownership', values='Amount Funded')\n",
        "df_pivot"
      ]
    },
    {
      "cell_type": "markdown",
      "metadata": {
        "id": "xBrAeP-cx6Ia"
      },
      "source": [
        "#### Pivot data and reset index\n",
        "- Loan Purpose as the rows\n",
        "- Home Ownership as the columns\n",
        "- Amount Funded average as the values  "
      ]
    },
    {
      "cell_type": "code",
      "execution_count": null,
      "metadata": {
        "id": "r6WMVPLAx6Ia"
      },
      "outputs": [],
      "source": [
        "#Code Block 33\n",
        "df_pivot = df_pivot.reset_index()\n",
        "df_pivot.head()"
      ]
    },
    {
      "cell_type": "markdown",
      "metadata": {
        "id": "osAm5e8Vx6Ia"
      },
      "source": [
        "<h2 style=\"color:blue;\">C1.S2.Py13 - How to melt data</h2>   \n",
        "\n",
        "#### Melt Data\n",
        "- Create a list of column names of the columns that you want to melt/merge into one column.\n",
        "    - MORTGAGE, NONE, OTHER, OWN, and RENT\n",
        "- Melt the data by:\n",
        "    - Specify the dataset - ***df_columns***.\n",
        "    - Specify LOAN PURPOSE as the *id_vars*.\n",
        "    - Taking 5 columns (***MORTGAGE, NONE, OTHER, OWN,*** and ***RENT***) into one column by specifying column names for *value_vars* by using the ***df_pivot_columns***.\n",
        "\n",
        "https://pandas.pydata.org/pandas-docs/stable/generated/pandas.melt.html <br>\n",
        "\n",
        "<img src=\"images/reshaping_melt.png\" alt=\"melt data\" style=\"width: 600px;\"/>"
      ]
    },
    {
      "cell_type": "code",
      "execution_count": null,
      "metadata": {
        "id": "d4cUXcZMx6Ia"
      },
      "outputs": [],
      "source": [
        "#Code Block 34\n",
        "df_pivot_columns = df_pivot.columns\n",
        "df_pivot_columns\n",
        "# COMMENT: This creates the list of column names for value_vars in the melt function"
      ]
    },
    {
      "cell_type": "code",
      "execution_count": null,
      "metadata": {
        "id": "vD0SCM2Dx6Ib"
      },
      "outputs": [],
      "source": [
        "#Code Block 35\n",
        "df_pivot_columns = df_pivot_columns.drop('Loan Purpose')\n",
        "df_pivot_columns\n",
        "# COMMENT: Drop Loan Purpose, since this is not one of the columns that should be melted into one column."
      ]
    },
    {
      "cell_type": "code",
      "execution_count": null,
      "metadata": {
        "id": "ZxSnmQk9x6Ib"
      },
      "outputs": [],
      "source": [
        "#Code Block 36\n",
        "df_melt =pd.melt(df_pivot, id_vars=['Loan Purpose'], value_vars=df_pivot_columns)\n",
        "df_melt.head(15)"
      ]
    },
    {
      "cell_type": "code",
      "execution_count": null,
      "metadata": {
        "id": "C71G4dcwx6Ib"
      },
      "outputs": [],
      "source": [
        "#Code Block 37\n",
        "df_melt.sort_values(by=['Loan Purpose'], ascending = True).head(15)"
      ]
    },
    {
      "cell_type": "code",
      "execution_count": null,
      "metadata": {
        "id": "yxWzHj1cx6If"
      },
      "outputs": [],
      "source": [
        "#Code Block 38\n",
        "df_melt=df_melt.rename(columns = {'value': 'Amount Funded'})\n",
        "df_melt.info()"
      ]
    },
    {
      "cell_type": "code",
      "execution_count": null,
      "metadata": {
        "id": "QkPR6tR6x6Ig"
      },
      "outputs": [],
      "source": [
        "#Code Block 39\n",
        "df_melt = df_melt.dropna(subset=['Amount Funded'])\n",
        "df_melt.info()"
      ]
    },
    {
      "cell_type": "code",
      "execution_count": null,
      "metadata": {
        "id": "FT7noTkjx6Ig"
      },
      "outputs": [],
      "source": [
        "#Code Block 40\n",
        "df_melt.head(15)"
      ]
    },
    {
      "cell_type": "markdown",
      "metadata": {
        "id": "_FF3k8Efx6Ig"
      },
      "source": [
        "<h2 style=\"color:blue;\">C1.S2.Py14 - Changing and correcting data</h2>  \n",
        "\n",
        "NOTE: This video addresses the misspellings of MORGTAGE in **C1.S4.Py04a - Using groupby for categorical data**"
      ]
    },
    {
      "cell_type": "code",
      "execution_count": null,
      "metadata": {
        "id": "Smw_v-qzx6Ih"
      },
      "outputs": [],
      "source": [
        "#Code Block 41\n",
        "df.groupby(['Home Ownership'])['Home Ownership'].count()"
      ]
    },
    {
      "cell_type": "code",
      "execution_count": null,
      "metadata": {
        "id": "fPCCobmTx6Ih"
      },
      "outputs": [],
      "source": [
        "#Code Block 42\n",
        "df[df['Home Ownership'] == 'MORGTAGE' ]"
      ]
    },
    {
      "cell_type": "code",
      "execution_count": null,
      "metadata": {
        "id": "HIN7DJI8x6Ii"
      },
      "outputs": [],
      "source": [
        "#Code Block 43\n",
        "df = df.replace('MORGTAGE', 'MORTGAGE')\n",
        "df.groupby(['Home Ownership'])['Home Ownership'].count()"
      ]
    },
    {
      "cell_type": "code",
      "execution_count": null,
      "metadata": {
        "id": "6B1HITcqx6Ii"
      },
      "outputs": [],
      "source": [
        "#Code Block 44\n",
        "df_openacc = df.copy()\n",
        "df_openacc = df_openacc[df_openacc['Open Accounts']>20]\n",
        "print(df_openacc['Open Accounts'].count())\n",
        "df_openacc.groupby(['Open Accounts'])['Open Accounts'].count()"
      ]
    },
    {
      "cell_type": "code",
      "execution_count": null,
      "metadata": {
        "id": "kEpqqmNUx6Ii"
      },
      "outputs": [],
      "source": [
        "#Code Block 45\n",
        "df_openacc[df_openacc['Open Accounts']>30] = 30\n",
        "df_openacc.groupby(['Open Accounts'])['Open Accounts'].count()"
      ]
    },
    {
      "cell_type": "markdown",
      "metadata": {
        "id": "JvBO5yAVx6Ij"
      },
      "source": [
        "<h2 style=\"color:blue;\">C1.S2.Py15 - Describing data and looking for outliers</h2>  \n"
      ]
    },
    {
      "cell_type": "markdown",
      "metadata": {
        "id": "AkRtk7J1x6Ij"
      },
      "source": [
        "### Describing data\n",
        "- .describe()\n",
        "- other types of calculations can be found at https://pandas.pydata.org/pandas-docs/stable/reference/frame.html and look for the Computations / descriptive statistics heading"
      ]
    },
    {
      "cell_type": "code",
      "execution_count": null,
      "metadata": {
        "id": "ixM-H-Efx6Ij"
      },
      "outputs": [],
      "source": [
        "#Code Block 46\n",
        "df.describe()"
      ]
    },
    {
      "cell_type": "code",
      "execution_count": null,
      "metadata": {
        "id": "qVWl-sxAx6Ik"
      },
      "outputs": [],
      "source": []
    },
    {
      "cell_type": "code",
      "execution_count": null,
      "metadata": {
        "id": "QB0pgB2xx6Ik"
      },
      "outputs": [],
      "source": [
        "#Code Block 47\n",
        "df['Amount Funded'].describe()"
      ]
    },
    {
      "cell_type": "code",
      "execution_count": null,
      "metadata": {
        "id": "Auy-Rq_1x6Im"
      },
      "outputs": [],
      "source": [
        "#Code Block 48\n",
        "AmountFundedStats = df['Amount Funded'].describe().reset_index()\n",
        "AmountFundedStats"
      ]
    },
    {
      "cell_type": "code",
      "execution_count": null,
      "metadata": {
        "id": "a8DQP26Tx6In"
      },
      "outputs": [],
      "source": [
        "#Code Block 49\n",
        "df['Amount Funded'].mean()"
      ]
    },
    {
      "cell_type": "code",
      "execution_count": null,
      "metadata": {
        "id": "tScVEa-Bx6Io"
      },
      "outputs": [],
      "source": [
        "#Code Block 50\n",
        "df['Amount Funded'].median()"
      ]
    },
    {
      "cell_type": "code",
      "execution_count": null,
      "metadata": {
        "id": "-2YNUHPAx6Io"
      },
      "outputs": [],
      "source": [
        "#Code Block 51\n",
        "df['Amount Funded'].std()"
      ]
    },
    {
      "cell_type": "code",
      "execution_count": null,
      "metadata": {
        "id": "pIxAB_a7x6Io"
      },
      "outputs": [],
      "source": [
        "#Code Block 52\n",
        "print('The Standard Deviation is ' + str(df['Amount Funded'].std()))"
      ]
    },
    {
      "cell_type": "code",
      "execution_count": null,
      "metadata": {
        "id": "85hElEpSx6Ip"
      },
      "outputs": [],
      "source": [
        "#Code Block 53\n",
        "print ('---------------------------------')\n",
        "print('The Mean is:')\n",
        "print(df['Amount Funded'].mean())\n",
        "print ('---------------------------------')\n",
        "print('The Median is:')\n",
        "print(df['Amount Funded'].median())\n",
        "print ('---------------------------------')\n",
        "print('The Standard Deviation is:')\n",
        "print(df['Amount Funded'].std())\n",
        "print ('---------------------------------')\n",
        "print('The Variance is:')\n",
        "print(round(df['Amount Funded'].var(), 2))\n",
        "print ('---------------------------------')\n",
        "print('The Skewness is:')\n",
        "print(round(df['Amount Funded'].skew(), 4))\n",
        "print ('---------------------------------')"
      ]
    },
    {
      "cell_type": "markdown",
      "metadata": {
        "id": "l1Y6eyy0x6Ip"
      },
      "source": [
        "<h2 style=\"color:blue;\">C1.S2.Py16 - Looking for outliers</h2>  "
      ]
    },
    {
      "cell_type": "code",
      "execution_count": null,
      "metadata": {
        "id": "jq47mV7Kx6Iq"
      },
      "outputs": [],
      "source": [
        "#Code Block 54\n",
        "df['Loan Purpose'].value_counts()"
      ]
    },
    {
      "cell_type": "code",
      "execution_count": null,
      "metadata": {
        "id": "VSp9JOdax6Iq"
      },
      "outputs": [],
      "source": [
        "#Code Block 55\n",
        "df['Home Ownership'].value_counts(normalize=True)"
      ]
    },
    {
      "cell_type": "code",
      "execution_count": null,
      "metadata": {
        "id": "Z9u4xTqFx6Iq"
      },
      "outputs": [],
      "source": [
        "#Code Block 56\n",
        "df[df['Annual Income'] > 1000000 ].sort_values('Annual Income', ascending=False)"
      ]
    },
    {
      "cell_type": "code",
      "execution_count": null,
      "metadata": {
        "id": "O8jvORn2x6Iq"
      },
      "outputs": [],
      "source": [
        "#Code Block 48\n",
        "df[df['Amount Funded'] == 35000 ].sort_values('Annual Income', ascending=False).head(15)"
      ]
    },
    {
      "cell_type": "code",
      "execution_count": null,
      "metadata": {
        "id": "DdyPjdegx6Ir"
      },
      "outputs": [],
      "source": [
        "#Code Block 58\n",
        "df[df['Amount Funded'] == 35000 ].shape"
      ]
    },
    {
      "cell_type": "code",
      "execution_count": null,
      "metadata": {
        "id": "pyPav1Npx6Ir"
      },
      "outputs": [],
      "source": [
        "#Code Block 59\n",
        "df[df['Amount Funded'] == 35000 ]['Amount Funded'].count()"
      ]
    },
    {
      "cell_type": "markdown",
      "metadata": {
        "id": "chnaMRlcx6Ir"
      },
      "source": [
        "<h2 style=\"color:blue;\">C1.S2.Py17 - Slice and Filter Data</h2>\n",
        "\n",
        "- https://pandas.pydata.org/pandas-docs/stable/reference/frame.html and look for Indexing, iteration"
      ]
    },
    {
      "cell_type": "code",
      "execution_count": null,
      "metadata": {
        "id": "RMu9HG19x6Ir"
      },
      "outputs": [],
      "source": [
        "#Code Block 51\n",
        "df.head(2)"
      ]
    },
    {
      "cell_type": "code",
      "execution_count": null,
      "metadata": {
        "id": "shbr9Qoux6Is"
      },
      "outputs": [],
      "source": [
        "#Code Block 52\n",
        "df['Member ID'].head(2)"
      ]
    },
    {
      "cell_type": "code",
      "execution_count": null,
      "metadata": {
        "id": "YwiQpnrlx6It"
      },
      "outputs": [],
      "source": [
        "#Code Block 53\n",
        "df[['Member ID']].head(2)"
      ]
    },
    {
      "cell_type": "code",
      "execution_count": null,
      "metadata": {
        "scrolled": true,
        "id": "FppOgAEVx6Iu"
      },
      "outputs": [],
      "source": [
        "#Code Block 54\n",
        "df[['Member ID', 'Loan ID','Interest Rate', 'Amount Funded']].head(2)"
      ]
    },
    {
      "cell_type": "code",
      "execution_count": null,
      "metadata": {
        "id": "gtZBCONox6Iu"
      },
      "outputs": [],
      "source": [
        "#Code Block 55\n",
        "df_subset = df[['Member ID', 'Loan ID','Interest Rate', 'Amount Funded']].copy()\n",
        "df_subset.head()"
      ]
    },
    {
      "cell_type": "code",
      "execution_count": null,
      "metadata": {
        "id": "u1JWsb9_x6Iv"
      },
      "outputs": [],
      "source": [
        "#Code Block 56\n",
        "df.iloc[:, [0]].head()"
      ]
    },
    {
      "cell_type": "code",
      "execution_count": null,
      "metadata": {
        "id": "n5Y4b2X9x6Iv"
      },
      "outputs": [],
      "source": [
        "#Code Block 57\n",
        "df.iloc[:, [1, 4, 2]].head()"
      ]
    },
    {
      "cell_type": "code",
      "execution_count": null,
      "metadata": {
        "id": "KoHz5Pdix6Iw"
      },
      "outputs": [],
      "source": [
        "#Code Block 58\n",
        "df_smallset = df.iloc[0:10, [1, 4, 2]]\n",
        "df_smallset"
      ]
    },
    {
      "cell_type": "code",
      "execution_count": null,
      "metadata": {
        "id": "mLrLE-lZx6Iw"
      },
      "outputs": [],
      "source": [
        "#Code Block 59\n",
        "df[df['Annual Income'] > 5000000]"
      ]
    },
    {
      "cell_type": "code",
      "execution_count": null,
      "metadata": {
        "id": "bquIyLeGx6Iw"
      },
      "outputs": [],
      "source": [
        "#Code Block 60\n",
        "df[df['Annual Income'] > 5000000].index"
      ]
    },
    {
      "cell_type": "code",
      "execution_count": null,
      "metadata": {
        "id": "9lkPbNppx6Iw"
      },
      "outputs": [],
      "source": [
        "#Code Block 61\n",
        "df.iloc[[22304, 29333], [1, 4, 2]]"
      ]
    },
    {
      "cell_type": "code",
      "execution_count": null,
      "metadata": {
        "id": "WyNxLIsUx6Ix"
      },
      "outputs": [],
      "source": [
        "#Code Block 62\n",
        "varindex = df[df['Annual Income'] > 5000000].index\n",
        "df.iloc[varindex, [1, 4, 2]]"
      ]
    },
    {
      "cell_type": "code",
      "execution_count": null,
      "metadata": {
        "id": "hyS5pLX1x6Iy"
      },
      "outputs": [],
      "source": [
        "varindex"
      ]
    },
    {
      "cell_type": "code",
      "execution_count": null,
      "metadata": {
        "id": "29XzDxvWx6I0"
      },
      "outputs": [],
      "source": []
    }
  ],
  "metadata": {
    "kernelspec": {
      "display_name": "Python 3",
      "language": "python",
      "name": "python3"
    },
    "language_info": {
      "codemirror_mode": {
        "name": "ipython",
        "version": 3
      },
      "file_extension": ".py",
      "mimetype": "text/x-python",
      "name": "python",
      "nbconvert_exporter": "python",
      "pygments_lexer": "ipython3",
      "version": "3.7.7"
    },
    "toc": {
      "base_numbering": 1,
      "nav_menu": {
        "height": "344px",
        "width": "350px"
      },
      "number_sections": true,
      "sideBar": true,
      "skip_h1_title": false,
      "title_cell": "Table of Contents",
      "title_sidebar": "Contents",
      "toc_cell": false,
      "toc_position": {
        "height": "calc(100% - 180px)",
        "left": "10px",
        "top": "150px",
        "width": "266.797px"
      },
      "toc_section_display": true,
      "toc_window_display": true
    },
    "colab": {
      "provenance": []
    }
  },
  "nbformat": 4,
  "nbformat_minor": 0
}