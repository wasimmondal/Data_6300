{
 "cells": [
  {
   "cell_type": "markdown",
   "metadata": {},
   "source": [
    "<h1 style=\"color:blue;\">Scenario 3 - Part 2  </h1>    \n",
    "\n",
    "- **C1.S3.Py10 - Video – Side by side boxplots of amount borrowed by loan purpose**\n",
    "- **C1.S3.Py11 - Video – Calculating statistics for each category in loan purpose**\n",
    "- **C1.S3.Py12 - Video – Comparative stacked column/bars**\n",
    "- **C1.S3.Py13 - Video – Comparative 100% stacked column/bars**\n",
    "- **C1.S3.Py14 - Video – Comparative pie charts**\n",
    "- **C1.S3.Py15 - Video – Tree Maps** "
   ]
  },
  {
   "cell_type": "code",
   "execution_count": null,
   "metadata": {},
   "outputs": [],
   "source": [
    "#Code Block 1\n",
    "\n",
    "import numpy as np\n",
    "import pandas as pd\n",
    "import matplotlib.pyplot as plt\n",
    "import seaborn as sns\n",
    "\n",
    "\n",
    "\n",
    "#style options \n",
    "\n",
    "%matplotlib inline  \n",
    "#if you want graphs to automatically without plt.show\n",
    "\n",
    "pd.set_option('display.max_columns',500) #allows for up to 500 columns to be displayed when viewing a dataframe\n",
    "\n",
    "plt.style.use('seaborn-dark-palette') #a style that can be used for plots - see style reference above\n",
    "\n"
   ]
  },
  {
   "cell_type": "code",
   "execution_count": null,
   "metadata": {},
   "outputs": [],
   "source": [
    "#Code Block 2\n",
    "df = pd.read_csv('data/Scenario3_p2.csv', index_col = 0, header=0)\n",
    "    #DOES NOT set the first column to the index\n",
    "    # and the top row as the headers"
   ]
  },
  {
   "cell_type": "code",
   "execution_count": null,
   "metadata": {},
   "outputs": [],
   "source": [
    "#Code Block 3\n",
    "df.info()"
   ]
  },
  {
   "cell_type": "markdown",
   "metadata": {},
   "source": [
    "<h2 style=\"color:blue;\">C1.S3.Py10 Creating side by side boxplots of amount borrowed by loan purpose  </h2>    "
   ]
  },
  {
   "cell_type": "code",
   "execution_count": null,
   "metadata": {},
   "outputs": [],
   "source": [
    "#Code Block 4\n",
    "plt.figure(figsize=(16,8))\n",
    "plt.title('Boxplot - Amount Funder per Loan Purpose', fontweight='bold', fontsize='17', horizontalalignment='center')\n",
    "sns.boxplot(y = \"Amount Funded\", x = \"Loan Purpose\", data = df)\n"
   ]
  },
  {
   "cell_type": "markdown",
   "metadata": {},
   "source": [
    "### View color palettes for Seaborn visualizations\n",
    "\n",
    "- https://seaborn.pydata.org/tutorial/color_palettes.html"
   ]
  },
  {
   "cell_type": "code",
   "execution_count": null,
   "metadata": {},
   "outputs": [],
   "source": [
    "#Code Block 5\n",
    "plt.figure(figsize=(20,14))\n",
    "sns.boxplot(x = \"Amount Funded\", y = \"Loan Purpose\", data = df, palette = 'gist_earth')\n",
    "#plt.savefig('plots/Boxplot_LoanPurpose.png')"
   ]
  },
  {
   "cell_type": "code",
   "execution_count": null,
   "metadata": {},
   "outputs": [],
   "source": [
    "#Code Block 6\n",
    "plt.figure(figsize=(20,8))\n",
    "chart = sns.boxplot(y = \"Amount Funded\", x = \"Loan Purpose\", data = df, palette = 'coolwarm')\n",
    "chart.set_xticklabels(chart.get_xticklabels(), rotation=45, fontsize='17')"
   ]
  },
  {
   "cell_type": "code",
   "execution_count": null,
   "metadata": {},
   "outputs": [],
   "source": [
    "#Code Block 7\n",
    "plt.figure(figsize=(20,8))\n",
    "chart = sns.boxplot(y = \"Amount Funded\", x = \"Loan Purpose\", data = df)\n",
    "#plt.savefig('plots/Boxplot_LoanPurpose.png')\n",
    "plt.title('Boxplot for Loan Purpose', fontweight='bold', color = 'blue', fontsize='25', horizontalalignment='center')\n",
    "chart.set_xticklabels(chart.get_xticklabels(), rotation=45, horizontalalignment='right', fontsize=14)"
   ]
  },
  {
   "cell_type": "markdown",
   "metadata": {},
   "source": [
    "<h2 style=\"color:blue;\">C1.S3.Py11 Calculating statistics for each category in loan purpose  </h2>    "
   ]
  },
  {
   "cell_type": "code",
   "execution_count": null,
   "metadata": {},
   "outputs": [],
   "source": [
    "#Code Block 8\n",
    "df.head()"
   ]
  },
  {
   "cell_type": "code",
   "execution_count": null,
   "metadata": {},
   "outputs": [],
   "source": [
    "#Code Block 9\n",
    "df_funded = df[['Amount Funded', 'Loan Purpose']]"
   ]
  },
  {
   "cell_type": "code",
   "execution_count": null,
   "metadata": {},
   "outputs": [],
   "source": [
    "#Code Block 10\n",
    "df_funded.head()"
   ]
  },
  {
   "cell_type": "code",
   "execution_count": null,
   "metadata": {},
   "outputs": [],
   "source": [
    "#Code Block 11\n",
    "df_funded.groupby('Loan Purpose').mean()"
   ]
  },
  {
   "cell_type": "code",
   "execution_count": null,
   "metadata": {},
   "outputs": [],
   "source": [
    "#Code Block 12\n",
    "df_funded.groupby('Loan Purpose').describe()"
   ]
  },
  {
   "cell_type": "code",
   "execution_count": null,
   "metadata": {},
   "outputs": [],
   "source": [
    "#Code Block 13\n",
    "df_funded_T = df_funded.groupby('Loan Purpose').describe().T\n",
    "df_funded_T"
   ]
  },
  {
   "cell_type": "markdown",
   "metadata": {},
   "source": [
    "<h2 style=\"color:blue;\">C1.S3.Py12 - Creating Comparative stacked column/bars  </h2>    "
   ]
  },
  {
   "cell_type": "markdown",
   "metadata": {},
   "source": [
    "### Using Seaborn and stacking barplots"
   ]
  },
  {
   "cell_type": "code",
   "execution_count": null,
   "metadata": {},
   "outputs": [],
   "source": [
    "#Code Block 14\n",
    "df_pivot_home = df.pivot_table(index='Loan Purpose', columns='Home Ownership', values='Member ID', aggfunc='count')\n",
    "df_pivot_home"
   ]
  },
  {
   "cell_type": "code",
   "execution_count": null,
   "metadata": {},
   "outputs": [],
   "source": [
    "#Code Block 15\n",
    "df_pivot_home = df_pivot_home.fillna(0)\n",
    "df_pivot_home = df_pivot_home.reset_index()\n",
    "df_pivot_home"
   ]
  },
  {
   "cell_type": "code",
   "execution_count": null,
   "metadata": {},
   "outputs": [],
   "source": [
    "#Code Block 16\n",
    "plt.figure(figsize=(20,8))\n",
    "plt.title('Count of Loans per Loan Purpose - Mortgage', fontweight='bold', color = 'blue', fontsize='25', horizontalalignment='center')\n",
    "sns.barplot(x = \"MORTGAGE\", y = \"Loan Purpose\", data = df_pivot_home, color = 'green')"
   ]
  },
  {
   "cell_type": "code",
   "execution_count": null,
   "metadata": {},
   "outputs": [],
   "source": [
    "#Code Block 17\n",
    "plt.figure(figsize=(20,8))\n",
    "plt.title('Count of Loans per Loan Purpose', fontweight='bold', color = 'blue', fontsize='25', horizontalalignment='center')\n",
    "sns.barplot(x = \"MORTGAGE\", y = \"Loan Purpose\", data = df_pivot_home, color = 'green')\n",
    "sns.barplot(x = \"RENT\", y = \"Loan Purpose\", data = df_pivot_home, color = 'blue')"
   ]
  },
  {
   "cell_type": "code",
   "execution_count": null,
   "metadata": {},
   "outputs": [],
   "source": [
    "#Code Block 18\n",
    "df_pivot_home['TOTAL'] = df_pivot_home.sum(axis=1)\n",
    "df_pivot_home = df_pivot_home.sort_values(by=\"TOTAL\", ascending=False)\n",
    "df_pivot_home"
   ]
  },
  {
   "cell_type": "code",
   "execution_count": null,
   "metadata": {},
   "outputs": [],
   "source": [
    "#Code Block 19\n",
    "plt.figure(figsize=(16,8))\n",
    "plt.title('Count of Loans per Loan Purpose', fontweight='bold', color = 'blue', fontsize='25', horizontalalignment='center')\n",
    "sns.barplot(x = \"MORTGAGE\", y = \"Loan Purpose\", data = df_pivot_home, color = 'green')\n",
    "sns.barplot(x = \"RENT\", y = \"Loan Purpose\", data = df_pivot_home, color = 'blue')\n",
    "sns.barplot(x = \"OWN\", y = \"Loan Purpose\", data = df_pivot_home, color = 'red')\n",
    "sns.barplot(x = \"OTHER\", y = \"Loan Purpose\", data = df_pivot_home, color = 'yellow')"
   ]
  },
  {
   "cell_type": "markdown",
   "metadata": {},
   "source": [
    "### Use .plot for pandas\n",
    "- https://pandas.pydata.org/pandas-docs/stable/user_guide/visualization.html\n",
    "- https://pandas.pydata.org/pandas-docs/version/0.23.1/generated/pandas.DataFrame.plot.bar.html\n"
   ]
  },
  {
   "cell_type": "code",
   "execution_count": null,
   "metadata": {},
   "outputs": [],
   "source": [
    "#Code Block 20\n",
    "df_pivot_loanpurpose = df.pivot_table(index='Home Ownership', columns='Loan Purpose', values='Member ID', aggfunc='count')\n",
    "df_pivot_loanpurpose = df_pivot_loanpurpose.fillna(0)\n",
    "df_pivot_loanpurpose['TOTAL'] = df_pivot_loanpurpose.sum(axis=1)\n",
    "df_pivot_loanpurpose = df_pivot_loanpurpose.sort_values(by=\"TOTAL\", ascending=False)\n",
    "df_pivot_loanpurpose"
   ]
  },
  {
   "cell_type": "code",
   "execution_count": null,
   "metadata": {},
   "outputs": [],
   "source": [
    "#Code Block 21\n",
    "df_pivot_loanpurpose_c = df_pivot_loanpurpose.drop('TOTAL', axis = 1)\n",
    "df_pivot_loanpurpose_c"
   ]
  },
  {
   "cell_type": "code",
   "execution_count": null,
   "metadata": {},
   "outputs": [],
   "source": [
    "#Code Block 22\n",
    "df_pivot_loanpurpose_c.plot.bar(figsize=(16,8));"
   ]
  },
  {
   "cell_type": "code",
   "execution_count": null,
   "metadata": {},
   "outputs": [],
   "source": [
    "#Code Block 23\n",
    "df_pivot_loanpurpose_c.plot.barh(figsize=(16,8), stacked=True, width=.9);"
   ]
  },
  {
   "cell_type": "code",
   "execution_count": null,
   "metadata": {},
   "outputs": [],
   "source": [
    "#Code Block 24\n",
    "df_pivot_loanpurpose_c.plot.bar(figsize=(16,8), stacked=True, width=.9);"
   ]
  },
  {
   "cell_type": "markdown",
   "metadata": {},
   "source": [
    "<h2 style=\"color:blue;\">C1.S3.Py13 - Creating Comparative 100% stacked column/bars</h2>    "
   ]
  },
  {
   "cell_type": "code",
   "execution_count": null,
   "metadata": {},
   "outputs": [],
   "source": [
    "#Code Block 25 \n",
    "df_pivot_loanpurpose"
   ]
  },
  {
   "cell_type": "code",
   "execution_count": null,
   "metadata": {},
   "outputs": [],
   "source": [
    "#Code Block 26\n",
    "df_pivot_loanpurpose['car_%'] = df_pivot_loanpurpose['car'] / df_pivot_loanpurpose['TOTAL']\n",
    "df_pivot_loanpurpose['credit_card_%'] = df_pivot_loanpurpose['credit_card'] / df_pivot_loanpurpose['TOTAL']\n",
    "df_pivot_loanpurpose['debt_consolidation_%'] = df_pivot_loanpurpose['debt_consolidation'] / df_pivot_loanpurpose['TOTAL']\n",
    "df_pivot_loanpurpose['home_improvement_%'] = df_pivot_loanpurpose['home_improvement'] / df_pivot_loanpurpose['TOTAL']\n",
    "df_pivot_loanpurpose['house_%'] = df_pivot_loanpurpose['house'] / df_pivot_loanpurpose['TOTAL']\n",
    "df_pivot_loanpurpose['major_purchase_%'] = df_pivot_loanpurpose['major_purchase'] / df_pivot_loanpurpose['TOTAL']\n",
    "df_pivot_loanpurpose['medical_%'] = df_pivot_loanpurpose['medical'] / df_pivot_loanpurpose['TOTAL']\n",
    "df_pivot_loanpurpose['moving_%'] = df_pivot_loanpurpose['moving'] / df_pivot_loanpurpose['TOTAL']\n",
    "df_pivot_loanpurpose['other_%'] = df_pivot_loanpurpose['other'] / df_pivot_loanpurpose['TOTAL']\n",
    "df_pivot_loanpurpose['renewable_energy_%'] = df_pivot_loanpurpose['renewable_energy'] / df_pivot_loanpurpose['TOTAL']\n",
    "df_pivot_loanpurpose['small_business_%'] = df_pivot_loanpurpose['small_business'] / df_pivot_loanpurpose['TOTAL']\n",
    "df_pivot_loanpurpose['vacation_%'] = df_pivot_loanpurpose['vacation'] / df_pivot_loanpurpose['TOTAL']\n",
    "df_pivot_loanpurpose['wedding_%'] = df_pivot_loanpurpose['wedding'] / df_pivot_loanpurpose['TOTAL']\n",
    "df_pivot_loanpurpose"
   ]
  },
  {
   "cell_type": "code",
   "execution_count": null,
   "metadata": {},
   "outputs": [],
   "source": [
    "#Code Block 27\n",
    "df_pivot_loanpurpose_percent = df_pivot_loanpurpose.iloc[:,14:]\n",
    "df_pivot_loanpurpose_percent"
   ]
  },
  {
   "cell_type": "code",
   "execution_count": null,
   "metadata": {
    "scrolled": false
   },
   "outputs": [],
   "source": [
    "#Code Block 28\n",
    "\n",
    "df_pivot_loanpurpose_percent.plot.bar(figsize=(16,8), stacked=True, width=.9);"
   ]
  },
  {
   "cell_type": "code",
   "execution_count": null,
   "metadata": {
    "scrolled": false
   },
   "outputs": [],
   "source": [
    "#Code Block 29\n",
    "\n",
    "df_pivot_loanpurpose_percent.plot.bar(figsize=(16,8), stacked=True, width=.9);\n",
    "plt.gca().legend(loc='center left', bbox_to_anchor=(1, 0.5))"
   ]
  },
  {
   "cell_type": "markdown",
   "metadata": {},
   "source": [
    "<h2 style=\"color:blue;\">C1.S3.Py14 - Creating comparative pie charts  </h2>    "
   ]
  },
  {
   "cell_type": "code",
   "execution_count": null,
   "metadata": {},
   "outputs": [],
   "source": [
    "#Code Block 30\n",
    "df_pivot_home"
   ]
  },
  {
   "cell_type": "code",
   "execution_count": null,
   "metadata": {},
   "outputs": [],
   "source": [
    "#Code Block 31\n",
    "sns.set(style='dark')\n",
    "plt.figure(figsize=(10,10))\n",
    "plt.pie(df_pivot_home['MORTGAGE'], labels=df_pivot_home['Loan Purpose'], wedgeprops = {'linewidth': 1},startangle=160, autopct='%1.1f%%')\n"
   ]
  },
  {
   "cell_type": "code",
   "execution_count": null,
   "metadata": {},
   "outputs": [],
   "source": [
    "#Code Block 32\n",
    "sns.set(style='dark')\n",
    "plt.figure(figsize=(20,14))\n",
    "#top left pie chart for Mortgage\n",
    "ax1 = plt.subplot2grid((2, 2), (0, 0))\n",
    "plt.title('Mortgage', fontweight='bold', color = 'green', fontsize='17', horizontalalignment='center')\n",
    "ax1 = plt.pie(df_pivot_home['MORTGAGE'], labels=df_pivot_home['Loan Purpose'], wedgeprops = {'linewidth': 1},startangle=160, autopct='%1.1f%%')\n",
    "\n",
    "#top right pie chart for Other\n",
    "ax2 = plt.subplot2grid((2, 2), (0, 1))\n",
    "plt.title('Other', fontweight='bold', color = 'green', fontsize='17', horizontalalignment='center')\n",
    "ax2 = plt.pie(df_pivot_home['OTHER'], labels=df_pivot_home['Loan Purpose'], wedgeprops = {'linewidth': 1},startangle=160, autopct='%1.1f%%')\n",
    "\n",
    "#bottom left pie chart for Own\n",
    "ax3 = plt.subplot2grid((2, 2), (1, 0))\n",
    "plt.title('Own', fontweight='bold', color = 'green', fontsize='17', horizontalalignment='center')\n",
    "ax3 = plt.pie(df_pivot_home['OWN'], labels=df_pivot_home['Loan Purpose'], wedgeprops = {'linewidth': 1},startangle=160, autopct='%1.1f%%')\n",
    "\n",
    "#bottom right pie chart for Rent\n",
    "ax4 = plt.subplot2grid((2, 2), (1, 1))\n",
    "plt.title('Rent', fontweight='bold', color = 'green', fontsize='17', horizontalalignment='center')\n",
    "ax4 = plt.pie(df_pivot_home['RENT'], labels=df_pivot_home['Loan Purpose'], wedgeprops = {'linewidth': 1},startangle=160, autopct='%1.1f%%')\n"
   ]
  },
  {
   "cell_type": "code",
   "execution_count": null,
   "metadata": {},
   "outputs": [],
   "source": [
    "#Code Block 33\n",
    "sns.set(style='dark')\n",
    "plt.figure(figsize=(20,10))\n",
    "df_pivot_loanpurpose_percent.plot.bar(figsize=(16,8), stacked=True, width=.9);\n",
    "plt.title('100% Comparative for Home Ownership', fontweight='bold', color = 'green', fontsize='17', horizontalalignment='center')\n",
    "plt.gca().legend(loc='center left', bbox_to_anchor=(1, 0.5))\n",
    "\n"
   ]
  },
  {
   "cell_type": "markdown",
   "metadata": {},
   "source": [
    "<h2 style=\"color:blue;\">C1.S3.Py15 - Creating a Tree Map for Comparisons   </h2>    "
   ]
  },
  {
   "cell_type": "markdown",
   "metadata": {},
   "source": [
    "https://pypi.org/project/squarify/"
   ]
  },
  {
   "cell_type": "code",
   "execution_count": null,
   "metadata": {},
   "outputs": [],
   "source": [
    "#Code Block 34\n",
    "import squarify # pip install squarify (algorithm for treemap)"
   ]
  },
  {
   "cell_type": "markdown",
   "metadata": {},
   "source": [
    "#### Create a color list\n",
    "- https://learnui.design/tools/data-color-picker.html#divergent"
   ]
  },
  {
   "cell_type": "code",
   "execution_count": null,
   "metadata": {},
   "outputs": [],
   "source": [
    "#Code Block 35\n",
    "color_list = ['#00876c','#489871', '#70a979', '#95b984', '#b7ca92', '#d9daa4', '#f9ebb9', \n",
    "              '#f2d29a', '#eeb87e', '#e99d69', '#e4805a', '#de6152', '#d43d51']\n"
   ]
  },
  {
   "cell_type": "code",
   "execution_count": null,
   "metadata": {},
   "outputs": [],
   "source": [
    "#Code Block 36\n",
    "sns.set(style='dark')\n",
    "plt.figure(figsize=(20,10))\n",
    "squarify.plot(sizes=df_pivot_home['MORTGAGE'], label=df_pivot_home['Loan Purpose'], color=color_list, alpha=1 )\n",
    "plt.axis('off')\n",
    "plt.show()"
   ]
  },
  {
   "cell_type": "code",
   "execution_count": null,
   "metadata": {},
   "outputs": [],
   "source": [
    "#Code Block 37\n",
    "\n",
    "# create a color palette, mapped to these values\n",
    "import matplotlib\n",
    "cmap = matplotlib.cm.Reds\n",
    "mini=min(df_pivot_home['MORTGAGE'])\n",
    "maxi=max(df_pivot_home['MORTGAGE'])\n",
    "norm = matplotlib.colors.Normalize(vmin=mini, vmax=maxi)\n",
    "reds = [cmap(norm(value)) for value in df_pivot_home['MORTGAGE']]\n"
   ]
  },
  {
   "cell_type": "code",
   "execution_count": null,
   "metadata": {},
   "outputs": [],
   "source": [
    "#Code Block 38\n",
    "sns.set(style='dark')\n",
    "plt.figure(figsize=(20,10))\n",
    "plt.rc('font', size=14)\n",
    "squarify.plot(sizes=df_pivot_home['MORTGAGE'], label=df_pivot_home['Loan Purpose'], color=reds, alpha=.7 )\n",
    "plt.show()"
   ]
  },
  {
   "cell_type": "code",
   "execution_count": null,
   "metadata": {},
   "outputs": [],
   "source": [
    "#Code Block 39\n",
    "sns.set(style='dark')\n",
    "plt.figure(figsize=(20,20))\n",
    "#top left pie chart for Mortgage\n",
    "ax1 = plt.subplot2grid((2, 2), (0, 0))\n",
    "plt.title('Mortgage', fontweight='bold', color = 'green', fontsize='17', horizontalalignment='center')\n",
    "#plt.rc('font', size=14)\n",
    "ax1 = squarify.plot(sizes=df_pivot_home['MORTGAGE'], label=df_pivot_home['Loan Purpose'], color=color_list, alpha=.7 )\n",
    "\n",
    "#top right pie chart for Other\n",
    "ax2 = plt.subplot2grid((2, 2), (0, 1))\n",
    "plt.title('Other', fontweight='bold', color = 'green', fontsize='17', horizontalalignment='center')\n",
    "#plt.rc('font', size=14)\n",
    "ax2 = squarify.plot(sizes=df_pivot_home['OTHER'], label=df_pivot_home['Loan Purpose'], color=color_list, alpha=.7 )\n",
    "\n",
    "#bottom left pie chart for Own\n",
    "ax3 = plt.subplot2grid((2, 2), (1, 0))\n",
    "plt.title('Own', fontweight='bold', color = 'green', fontsize='17', horizontalalignment='center')\n",
    "#plt.rc('font', size=14)\n",
    "ax3 = squarify.plot(sizes=df_pivot_home['OWN'], label=df_pivot_home['Loan Purpose'], color=color_list, alpha=.7 )\n",
    "\n",
    "#bottom right pie chart for Rent\n",
    "ax4 = plt.subplot2grid((2, 2), (1, 1))\n",
    "plt.title('Rent', fontweight='bold', color = 'green', fontsize='17', horizontalalignment='center')\n",
    "#plt.rc('font', size=14)\n",
    "ax4 = squarify.plot(sizes=df_pivot_home['RENT'], label=df_pivot_home['Loan Purpose'], color=color_list, alpha=.7 )"
   ]
  },
  {
   "cell_type": "code",
   "execution_count": null,
   "metadata": {},
   "outputs": [],
   "source": [
    "#Code Block 40\n",
    "df_pivot_home.head(15)"
   ]
  },
  {
   "cell_type": "code",
   "execution_count": null,
   "metadata": {},
   "outputs": [],
   "source": [
    "#Code Block 41\n",
    "df_other = df_pivot_home[df_pivot_home['OTHER']>0]\n",
    "squarify.plot(sizes=df_other['OTHER'], label=df_pivot_home['Loan Purpose'], color=color_list, alpha=.7 )\n"
   ]
  },
  {
   "cell_type": "code",
   "execution_count": null,
   "metadata": {},
   "outputs": [],
   "source": [
    "#Code Block 42\n",
    "sns.set(style='dark')\n",
    "plt.figure(figsize=(20,14))\n",
    "#top left pie chart for Mortgage\n",
    "ax1 = plt.subplot2grid((2, 2), (0, 0))\n",
    "plt.title('Mortgage', fontweight='bold', color = 'green', fontsize='17', horizontalalignment='center')\n",
    "#plt.rc('font', size=14)\n",
    "ax1 = squarify.plot(sizes=df_pivot_home['MORTGAGE'], label=df_pivot_home['Loan Purpose'], color=color_list, alpha=.7 )\n",
    "\n",
    "#top right pie chart for Other\n",
    "ax2 = plt.subplot2grid((2, 2), (0, 1))\n",
    "plt.title('Other', fontweight='bold', color = 'green', fontsize='17', horizontalalignment='center')\n",
    "#plt.rc('font', size=14)\n",
    "df_other = df_pivot_home[df_pivot_home['OTHER']>0]\n",
    "ax2 = squarify.plot(sizes=df_other['OTHER'], label=df_pivot_home['Loan Purpose'], color=color_list, alpha=.7 )\n",
    "\n",
    "#bottom left pie chart for Own\n",
    "ax3 = plt.subplot2grid((2, 2), (1, 0))\n",
    "plt.title('Own', fontweight='bold', color = 'green', fontsize='17', horizontalalignment='center')\n",
    "#plt.rc('font', size=14)\n",
    "ax3 = squarify.plot(sizes=df_pivot_home['OWN'], label=df_pivot_home['Loan Purpose'], color=color_list, alpha=.7 )\n",
    "\n",
    "#bottom right pie chart for Rent\n",
    "ax4 = plt.subplot2grid((2, 2), (1, 1))\n",
    "plt.title('Rent', fontweight='bold', color = 'green', fontsize='17', horizontalalignment='center')\n",
    "#plt.rc('font', size=14)\n",
    "ax4 = squarify.plot(sizes=df_pivot_home['RENT'], label=df_pivot_home['Loan Purpose'], color=color_list, alpha=.7 )"
   ]
  },
  {
   "cell_type": "code",
   "execution_count": null,
   "metadata": {},
   "outputs": [],
   "source": []
  }
 ],
 "metadata": {
  "kernelspec": {
   "display_name": "Python 3",
   "language": "python",
   "name": "python3"
  },
  "language_info": {
   "codemirror_mode": {
    "name": "ipython",
    "version": 3
   },
   "file_extension": ".py",
   "mimetype": "text/x-python",
   "name": "python",
   "nbconvert_exporter": "python",
   "pygments_lexer": "ipython3",
   "version": "3.7.7"
  },
  "toc": {
   "base_numbering": 1,
   "nav_menu": {
    "height": "344px",
    "width": "350px"
   },
   "number_sections": true,
   "sideBar": true,
   "skip_h1_title": false,
   "title_cell": "Table of Contents",
   "title_sidebar": "Contents",
   "toc_cell": false,
   "toc_position": {
    "height": "calc(100% - 180px)",
    "left": "10px",
    "top": "150px",
    "width": "266.797px"
   },
   "toc_section_display": true,
   "toc_window_display": true
  }
 },
 "nbformat": 4,
 "nbformat_minor": 2
}
