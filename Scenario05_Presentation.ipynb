{
  "cells": [
    {
      "cell_type": "markdown",
      "metadata": {
        "id": "KqrnnMIB9-vS"
      },
      "source": [
        "<h1 style=\"color:blue;\">Scenario 5 notebook   </h1>     \n",
        "\n",
        "- C1.S5.Py01\tCreate a Simple Regression Model Using statsmodels\n",
        "- C1.S5.Py02\tHow to create residuals and export to a DataFrame\n",
        "- C1.S5.Py03\tGraphically looking at y and its residuals"
      ]
    },
    {
      "cell_type": "code",
      "execution_count": null,
      "metadata": {
        "id": "c3xgci0u9-vU"
      },
      "outputs": [],
      "source": [
        "#Code Block 1\n",
        "\n",
        "import numpy as np\n",
        "import pandas as pd\n",
        "import matplotlib.pyplot as plt\n",
        "import seaborn as sns\n",
        "\n",
        "\n",
        "\n",
        "#style options\n",
        "\n",
        "%matplotlib inline\n",
        "#if you want graphs to automatically without plt.show\n",
        "\n",
        "pd.set_option('display.max_columns',500) #allows for up to 500 columns to be displayed when viewing a dataframe\n",
        "\n",
        "plt.style.use('seaborn') #a style that can be used for plots - see style reference above\n",
        "\n"
      ]
    },
    {
      "cell_type": "code",
      "execution_count": null,
      "metadata": {
        "id": "qfIYmohp9-vW"
      },
      "outputs": [],
      "source": [
        "#Code Block 2\n",
        "df = pd.read_csv('data/Scenario5.csv', index_col = 0, header=0)\n",
        "    #DOES set the first column to the index\n",
        "    # and the top row as the headers"
      ]
    },
    {
      "cell_type": "code",
      "execution_count": null,
      "metadata": {
        "id": "AbWE7wV29-vW"
      },
      "outputs": [],
      "source": [
        "#Code Block 3\n",
        "df.head(3)"
      ]
    },
    {
      "cell_type": "markdown",
      "metadata": {
        "id": "AqLWqK1S9-vX"
      },
      "source": [
        "<h2 style=\"color:blue;\">C1.S5.Py01 - Creating a Simple Regession Model using statsmodels</h2>    \n"
      ]
    },
    {
      "cell_type": "markdown",
      "metadata": {
        "id": "6w7ggtnN9-vX"
      },
      "source": [
        "### How to import and use statsmodels\n",
        "https://anaconda.org/anaconda/statsmodels"
      ]
    },
    {
      "cell_type": "code",
      "execution_count": null,
      "metadata": {
        "id": "sZtAUDUQ9-vX"
      },
      "outputs": [],
      "source": [
        "#Code Block 4\n",
        "import statsmodels\n",
        "import statsmodels.api as sm"
      ]
    },
    {
      "cell_type": "markdown",
      "metadata": {
        "id": "H2vLwXr59-vX"
      },
      "source": [
        "### Using a simple dataset (tips)"
      ]
    },
    {
      "cell_type": "code",
      "execution_count": null,
      "metadata": {
        "id": "YEooJVIU9-vY"
      },
      "outputs": [],
      "source": [
        "#Code Block 5\n",
        "df_tips = sns.load_dataset('tips')\n",
        "df_tips"
      ]
    },
    {
      "cell_type": "code",
      "execution_count": null,
      "metadata": {
        "id": "xWuosAp79-vY"
      },
      "outputs": [],
      "source": [
        "#Code Block 6\n",
        "plt.figure(figsize=(20,12))\n",
        "sns.regplot(x='total_bill', y='tip', data = df_tips, scatter_kws={\"color\":\"green\",\"alpha\":0.5,\"s\":200, \"linewidth\":2,\"edgecolor\":\"white\"},\n",
        "           line_kws={'color': 'black'})"
      ]
    },
    {
      "cell_type": "code",
      "execution_count": null,
      "metadata": {
        "scrolled": false,
        "id": "W3oJ74pV9-vZ"
      },
      "outputs": [],
      "source": [
        "#Code Block 7\n",
        "X = df_tips['total_bill']\n",
        "y = df_tips['tip']\n",
        "X = sm.add_constant(X) # adding a constant\n",
        "\n",
        "reg_tips = sm.OLS(y, X).fit()\n",
        "\n",
        "predictions = reg_tips.predict(X)\n",
        "reg_tips.summary()"
      ]
    },
    {
      "cell_type": "markdown",
      "metadata": {
        "id": "Ib-YJq8a9-vZ"
      },
      "source": [
        "#### AIC and BIC penalizes you for complexity and rewards for the simplicity of the model."
      ]
    },
    {
      "cell_type": "code",
      "execution_count": null,
      "metadata": {
        "id": "VpsQ1xaG9-vZ"
      },
      "outputs": [],
      "source": [
        "#Code Block 8\n",
        "plt.figure(figsize=(20,8))\n",
        "sns.residplot(x='total_bill', y='tip', data = df_tips, scatter_kws={\"color\":\"blue\",\"alpha\":0.5,\"s\":150, \"linewidth\":2,\"edgecolor\":\"white\"},\n",
        "           line_kws={'color': 'black'})"
      ]
    },
    {
      "cell_type": "markdown",
      "metadata": {
        "id": "9eNQKPp99-vZ"
      },
      "source": [
        "### Look at Amount Funded and Interest Rate\n",
        "- Does amount funded have a relationship with Interest rate?\n",
        "- The independent variable (feature) = Amount Funded\n",
        "- The dependent variable (target variable) = Interest Rate"
      ]
    },
    {
      "cell_type": "code",
      "execution_count": null,
      "metadata": {
        "id": "1J10y-u49-va"
      },
      "outputs": [],
      "source": [
        "#Code Block 9\n",
        "X = df['Annual Income']\n",
        "y = df['Interest Rate']\n",
        "X = sm.add_constant(X) # adding a constant\n",
        "\n",
        "reg = sm.OLS(y, X).fit()\n",
        "\n",
        "predictions = reg.predict(X)\n",
        "reg.summary()"
      ]
    },
    {
      "cell_type": "markdown",
      "metadata": {
        "id": "i_U3ng899-va"
      },
      "source": [
        "<h2 style=\"color:blue;\">C1.S5.Py02 - How to create residuals and export to a DataFrame</h2>    \n",
        "\n",
        "### Manually calculating residuals"
      ]
    },
    {
      "cell_type": "code",
      "execution_count": null,
      "metadata": {
        "id": "PBxkW4hx9-va"
      },
      "outputs": [],
      "source": [
        "#Code Block 10\n",
        "df_simplereg = df[['Amount Funded', 'Interest Rate']]\n",
        "df_simplereg.head()"
      ]
    },
    {
      "cell_type": "code",
      "execution_count": null,
      "metadata": {
        "id": "wIsTG2rL9-va"
      },
      "outputs": [],
      "source": [
        "#Code Block 11\n",
        "predictions = pd.DataFrame(predictions)\n",
        "predictions=predictions.rename(columns = {0:'Interest_Pred'})\n",
        "predictions.head()"
      ]
    },
    {
      "cell_type": "code",
      "execution_count": null,
      "metadata": {
        "id": "BCVH4gJt9-vb"
      },
      "outputs": [],
      "source": [
        "#Code Block 12\n",
        "df_simplereg = pd.concat([df_simplereg, predictions], axis=1)\n",
        "df_simplereg['Calc_Residual'] = df_simplereg['Interest Rate'] - df_simplereg['Interest_Pred']\n",
        "df_simplereg.head(10)"
      ]
    },
    {
      "cell_type": "markdown",
      "metadata": {
        "id": "KMSNJ-Ku9-vb"
      },
      "source": [
        "### Calculate residuals using statsmodels"
      ]
    },
    {
      "cell_type": "code",
      "execution_count": null,
      "metadata": {
        "id": "KCf-PQjP9-vb"
      },
      "outputs": [],
      "source": [
        "#Code Block 13\n",
        "resid = reg.resid\n",
        "resid"
      ]
    },
    {
      "cell_type": "code",
      "execution_count": null,
      "metadata": {
        "id": "ReNBbb1T9-vb"
      },
      "outputs": [],
      "source": [
        "#Code Block 14\n",
        "df_simplereg = pd.concat([df_simplereg, resid], axis=1)\n",
        "df_simplereg=df_simplereg.rename(columns = {0:'Residual'})\n",
        "df_simplereg.head()"
      ]
    },
    {
      "cell_type": "markdown",
      "metadata": {
        "id": "mJFiEw6z9-vb"
      },
      "source": [
        "<h2 style=\"color:blue;\">C1.S5.Py03 - Graphically looking at y and its residuals</h2>    "
      ]
    },
    {
      "cell_type": "code",
      "execution_count": null,
      "metadata": {
        "id": "Ya34ffAe9-vc"
      },
      "outputs": [],
      "source": [
        "#Code Block 15\n",
        "sns.regplot(x='Amount Funded', y='Interest Rate', data = df_simplereg, scatter_kws={\"color\":\"green\",\"alpha\":0.15,\"s\":20},\n",
        "           line_kws={'color': 'black'})"
      ]
    },
    {
      "cell_type": "markdown",
      "metadata": {
        "id": "32ykCptx9-vc"
      },
      "source": [
        "https://seaborn.pydata.org/generated/seaborn.residplot.html"
      ]
    },
    {
      "cell_type": "code",
      "execution_count": null,
      "metadata": {
        "id": "jFTk2CD19-vc"
      },
      "outputs": [],
      "source": [
        "#Code Block 16\n",
        "plt.figure(figsize=(20,10)) #changes area of scatterplot\n",
        "sns.residplot(x='Amount Funded', y='Interest Rate',\n",
        "              data = df_simplereg, scatter_kws={\"color\":\"blue\",\"alpha\":0.15, \"s\":100,\"linewidth\":2,\"edgecolor\":\"white\"},\n",
        "              line_kws={'color': 'black'})"
      ]
    },
    {
      "cell_type": "code",
      "execution_count": null,
      "metadata": {
        "id": "xF4c3EsZ9-vc"
      },
      "outputs": [],
      "source": [
        "#Code Block 17\n",
        "plt.figure(figsize=(20,10)) #changes area of scatterplot\n",
        "sns.regplot(x='Amount Funded', y='Interest Rate', data = df, scatter_kws={\"color\":\"grey\",\"alpha\":0.15,\"s\":150,\"linewidth\":2,\"edgecolor\":\"white\"},\n",
        "           line_kws={'color': 'red'})\n",
        "plt.title('Seaborn regplot for Amount Funded and Actual Interest Rate', color = 'green', fontsize='18')\n",
        "plt.xlabel('Amount Funded', color = 'red', fontsize='14')\n",
        "plt.ylabel('Actual Interest Rate', color = 'red', fontsize='14')"
      ]
    },
    {
      "cell_type": "code",
      "source": [],
      "metadata": {
        "id": "ec3kmMYQuMMx"
      },
      "execution_count": null,
      "outputs": []
    },
    {
      "cell_type": "code",
      "execution_count": null,
      "metadata": {
        "id": "7w5iejBK9-vc"
      },
      "outputs": [],
      "source": [
        "#Code Block 18\n",
        "plt.figure(figsize=(20,10)) #changes area of scatterplot\n",
        "sns.lmplot(x='Amount Funded', y='Interest Rate', hue=\"Home Ownership\", data = df, palette=\"Set1\",\n",
        "           aspect = 2, scatter_kws={\"alpha\":0.15,\"s\":150,\"linewidth\":2,\"edgecolor\":\"white\"})\n",
        "plt.title('Seaborn lmplot for Amount Funded and Actual Interest Rate', color = 'green', fontsize='18')\n",
        "plt.xlabel('Amount Funded', color = 'red', fontsize='14')\n",
        "plt.ylabel('Actual Interest Rate', color = 'red', fontsize='14')"
      ]
    },
    {
      "cell_type": "code",
      "execution_count": null,
      "metadata": {
        "id": "GyGSzC_Z9-vd"
      },
      "outputs": [],
      "source": [
        "#Code Block 19\n",
        "plt.figure(figsize=(20,10)) #changes area of scatterplot\n",
        "sns.lmplot(x='Amount Funded', y='Interest Rate', col=\"Home Ownership\", data = df, palette=\"Set1\",\n",
        "           aspect = 2, scatter_kws={\"alpha\":0.15,\"s\":150,\"linewidth\":2,\"edgecolor\":\"white\"})"
      ]
    },
    {
      "cell_type": "code",
      "execution_count": null,
      "metadata": {
        "id": "IBX-yB3K9-vd"
      },
      "outputs": [],
      "source": [
        "#Code Block 20\n",
        "plt.figure(figsize=(20,10)) #changes area of scatterplot\n",
        "sns.lmplot(x='Amount Funded', y='Interest Rate', col=\"Home Ownership\", col_wrap=2, data = df, palette=\"Set1\",\n",
        "           aspect = 2, scatter_kws={\"alpha\":0.15,\"s\":150,\"linewidth\":2,\"edgecolor\":\"white\"}, line_kws={'color': 'red'})"
      ]
    },
    {
      "cell_type": "code",
      "execution_count": null,
      "metadata": {
        "id": "jwaQTVPz9-vd"
      },
      "outputs": [],
      "source": []
    }
  ],
  "metadata": {
    "kernelspec": {
      "display_name": "Python 3",
      "language": "python",
      "name": "python3"
    },
    "language_info": {
      "codemirror_mode": {
        "name": "ipython",
        "version": 3
      },
      "file_extension": ".py",
      "mimetype": "text/x-python",
      "name": "python",
      "nbconvert_exporter": "python",
      "pygments_lexer": "ipython3",
      "version": "3.7.7"
    },
    "toc": {
      "base_numbering": 1,
      "nav_menu": {
        "height": "344px",
        "width": "350px"
      },
      "number_sections": true,
      "sideBar": true,
      "skip_h1_title": false,
      "title_cell": "Table of Contents",
      "title_sidebar": "Contents",
      "toc_cell": false,
      "toc_position": {
        "height": "calc(100% - 180px)",
        "left": "10px",
        "top": "150px",
        "width": "266.797px"
      },
      "toc_section_display": true,
      "toc_window_display": true
    },
    "colab": {
      "provenance": []
    }
  },
  "nbformat": 4,
  "nbformat_minor": 0
}